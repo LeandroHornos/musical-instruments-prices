{
 "cells": [
  {
   "cell_type": "markdown",
   "id": "7658dd1f",
   "metadata": {},
   "source": [
    "# Musical instruments prices\n",
    "### A study of the prices of musical instruments in Sri Lanka"
   ]
  },
  {
   "cell_type": "code",
   "execution_count": 1,
   "id": "06fcafd2",
   "metadata": {},
   "outputs": [],
   "source": [
    "import numpy as np\n",
    "import pandas as pd\n",
    "import matplotlib as mpl\n",
    "import matplotlib.pyplot as plt\n",
    "import seaborn as sns\n",
    "\n",
    "from wordcloud import WordCloud\n",
    "\n",
    "sns.set(font_scale = 1.1)\n",
    "sns.set_style(\"white\")\n",
    "sns.set_palette(\"Set2\")"
   ]
  },
  {
   "cell_type": "code",
   "execution_count": 2,
   "id": "4802f534",
   "metadata": {},
   "outputs": [],
   "source": [
    "df = pd.read_csv(\"processed-data.csv\", encoding=\"utf-8\", index_col=0, parse_dates=[\"published_date\"])"
   ]
  },
  {
   "cell_type": "markdown",
   "id": "44e04528",
   "metadata": {},
   "source": [
    "## Exploratory Analysis"
   ]
  },
  {
   "cell_type": "markdown",
   "id": "17bf1986",
   "metadata": {},
   "source": [
    "### Instrument types"
   ]
  },
  {
   "cell_type": "markdown",
   "id": "80d96955",
   "metadata": {},
   "source": [
    "In the dataset we have several categories for the musical instruments and accesories. Let's get some insights about this categories."
   ]
  },
  {
   "cell_type": "code",
   "execution_count": 3,
   "id": "4635c82f",
   "metadata": {},
   "outputs": [
    {
     "data": {
      "text/html": [
       "<div>\n",
       "<style scoped>\n",
       "    .dataframe tbody tr th:only-of-type {\n",
       "        vertical-align: middle;\n",
       "    }\n",
       "\n",
       "    .dataframe tbody tr th {\n",
       "        vertical-align: top;\n",
       "    }\n",
       "\n",
       "    .dataframe thead tr th {\n",
       "        text-align: left;\n",
       "    }\n",
       "\n",
       "    .dataframe thead tr:last-of-type th {\n",
       "        text-align: right;\n",
       "    }\n",
       "</style>\n",
       "<table border=\"1\" class=\"dataframe\">\n",
       "  <thead>\n",
       "    <tr>\n",
       "      <th></th>\n",
       "      <th colspan=\"2\" halign=\"left\">Max Price</th>\n",
       "      <th colspan=\"2\" halign=\"left\">Mean Price</th>\n",
       "      <th colspan=\"2\" halign=\"left\">Min Price</th>\n",
       "      <th colspan=\"5\" halign=\"left\">Items</th>\n",
       "    </tr>\n",
       "    <tr>\n",
       "      <th>Condition</th>\n",
       "      <th>New</th>\n",
       "      <th>Used</th>\n",
       "      <th>New</th>\n",
       "      <th>Used</th>\n",
       "      <th>New</th>\n",
       "      <th>Used</th>\n",
       "      <th>New</th>\n",
       "      <th>Used</th>\n",
       "      <th>Total</th>\n",
       "      <th>% New</th>\n",
       "      <th>% of Total</th>\n",
       "    </tr>\n",
       "    <tr>\n",
       "      <th>Instrument_Type</th>\n",
       "      <th></th>\n",
       "      <th></th>\n",
       "      <th></th>\n",
       "      <th></th>\n",
       "      <th></th>\n",
       "      <th></th>\n",
       "      <th></th>\n",
       "      <th></th>\n",
       "      <th></th>\n",
       "      <th></th>\n",
       "      <th></th>\n",
       "    </tr>\n",
       "  </thead>\n",
       "  <tbody>\n",
       "    <tr>\n",
       "      <th>Studio / Live Music Equipment</th>\n",
       "      <td>1500000.0</td>\n",
       "      <td>6850000.0</td>\n",
       "      <td>41182.62</td>\n",
       "      <td>80378.00</td>\n",
       "      <td>275.0</td>\n",
       "      <td>500.0</td>\n",
       "      <td>714</td>\n",
       "      <td>1058</td>\n",
       "      <td>1772.0</td>\n",
       "      <td>40.29</td>\n",
       "      <td>34.77</td>\n",
       "    </tr>\n",
       "    <tr>\n",
       "      <th>String Instrument / Amplifier</th>\n",
       "      <td>348000.0</td>\n",
       "      <td>580000.0</td>\n",
       "      <td>20756.32</td>\n",
       "      <td>30796.64</td>\n",
       "      <td>80.0</td>\n",
       "      <td>1000.0</td>\n",
       "      <td>522</td>\n",
       "      <td>1212</td>\n",
       "      <td>1734.0</td>\n",
       "      <td>30.10</td>\n",
       "      <td>34.02</td>\n",
       "    </tr>\n",
       "    <tr>\n",
       "      <th>Keyboard / Piano</th>\n",
       "      <td>800000.0</td>\n",
       "      <td>770000.0</td>\n",
       "      <td>63473.01</td>\n",
       "      <td>75736.51</td>\n",
       "      <td>350.0</td>\n",
       "      <td>1500.0</td>\n",
       "      <td>98</td>\n",
       "      <td>557</td>\n",
       "      <td>655.0</td>\n",
       "      <td>14.96</td>\n",
       "      <td>12.85</td>\n",
       "    </tr>\n",
       "    <tr>\n",
       "      <th>Percussion / drums</th>\n",
       "      <td>230000.0</td>\n",
       "      <td>435000.0</td>\n",
       "      <td>26100.42</td>\n",
       "      <td>52425.89</td>\n",
       "      <td>450.0</td>\n",
       "      <td>750.0</td>\n",
       "      <td>239</td>\n",
       "      <td>363</td>\n",
       "      <td>602.0</td>\n",
       "      <td>39.70</td>\n",
       "      <td>11.81</td>\n",
       "    </tr>\n",
       "    <tr>\n",
       "      <th>Other Instrument</th>\n",
       "      <td>100000.0</td>\n",
       "      <td>1025000.0</td>\n",
       "      <td>7968.67</td>\n",
       "      <td>64848.89</td>\n",
       "      <td>350.0</td>\n",
       "      <td>1000.0</td>\n",
       "      <td>82</td>\n",
       "      <td>90</td>\n",
       "      <td>172.0</td>\n",
       "      <td>47.67</td>\n",
       "      <td>3.37</td>\n",
       "    </tr>\n",
       "    <tr>\n",
       "      <th>Woodwind / brass</th>\n",
       "      <td>165000.0</td>\n",
       "      <td>95000.0</td>\n",
       "      <td>44968.18</td>\n",
       "      <td>37831.43</td>\n",
       "      <td>250.0</td>\n",
       "      <td>500.0</td>\n",
       "      <td>11</td>\n",
       "      <td>70</td>\n",
       "      <td>81.0</td>\n",
       "      <td>13.58</td>\n",
       "      <td>1.59</td>\n",
       "    </tr>\n",
       "    <tr>\n",
       "      <th>Vinyl</th>\n",
       "      <td>13500.0</td>\n",
       "      <td>95000.0</td>\n",
       "      <td>7180.00</td>\n",
       "      <td>12584.62</td>\n",
       "      <td>1000.0</td>\n",
       "      <td>500.0</td>\n",
       "      <td>5</td>\n",
       "      <td>39</td>\n",
       "      <td>44.0</td>\n",
       "      <td>11.36</td>\n",
       "      <td>0.86</td>\n",
       "    </tr>\n",
       "    <tr>\n",
       "      <th>Sheet Music</th>\n",
       "      <td>14000.0</td>\n",
       "      <td>150000.0</td>\n",
       "      <td>3691.50</td>\n",
       "      <td>30972.73</td>\n",
       "      <td>1000.0</td>\n",
       "      <td>1500.0</td>\n",
       "      <td>26</td>\n",
       "      <td>11</td>\n",
       "      <td>37.0</td>\n",
       "      <td>70.27</td>\n",
       "      <td>0.73</td>\n",
       "    </tr>\n",
       "  </tbody>\n",
       "</table>\n",
       "</div>"
      ],
      "text/plain": [
       "                               Max Price            Mean Price            \\\n",
       "Condition                            New       Used        New      Used   \n",
       "Instrument_Type                                                            \n",
       "Studio / Live Music Equipment  1500000.0  6850000.0   41182.62  80378.00   \n",
       "String Instrument / Amplifier   348000.0   580000.0   20756.32  30796.64   \n",
       "Keyboard / Piano                800000.0   770000.0   63473.01  75736.51   \n",
       "Percussion / drums              230000.0   435000.0   26100.42  52425.89   \n",
       "Other Instrument                100000.0  1025000.0    7968.67  64848.89   \n",
       "Woodwind / brass                165000.0    95000.0   44968.18  37831.43   \n",
       "Vinyl                            13500.0    95000.0    7180.00  12584.62   \n",
       "Sheet Music                      14000.0   150000.0    3691.50  30972.73   \n",
       "\n",
       "                              Min Price         Items                       \\\n",
       "Condition                           New    Used   New  Used   Total  % New   \n",
       "Instrument_Type                                                              \n",
       "Studio / Live Music Equipment     275.0   500.0   714  1058  1772.0  40.29   \n",
       "String Instrument / Amplifier      80.0  1000.0   522  1212  1734.0  30.10   \n",
       "Keyboard / Piano                  350.0  1500.0    98   557   655.0  14.96   \n",
       "Percussion / drums                450.0   750.0   239   363   602.0  39.70   \n",
       "Other Instrument                  350.0  1000.0    82    90   172.0  47.67   \n",
       "Woodwind / brass                  250.0   500.0    11    70    81.0  13.58   \n",
       "Vinyl                            1000.0   500.0     5    39    44.0  11.36   \n",
       "Sheet Music                      1000.0  1500.0    26    11    37.0  70.27   \n",
       "\n",
       "                                          \n",
       "Condition                     % of Total  \n",
       "Instrument_Type                           \n",
       "Studio / Live Music Equipment      34.77  \n",
       "String Instrument / Amplifier      34.02  \n",
       "Keyboard / Piano                   12.85  \n",
       "Percussion / drums                 11.81  \n",
       "Other Instrument                    3.37  \n",
       "Woodwind / brass                    1.59  \n",
       "Vinyl                               0.86  \n",
       "Sheet Music                         0.73  "
      ]
     },
     "execution_count": 3,
     "metadata": {},
     "output_type": "execute_result"
    }
   ],
   "source": [
    "# Here we use pivot_table to group data around Intrument Type and condition, \n",
    "# and then whe use different aggregation functions to obtain some info about prices\n",
    "\n",
    "table = df.pivot_table(values=[\"Title\",\"Price_value\"], index=['Instrument_Type'], columns=['Condition'], aggfunc={'Title': \"count\",\n",
    "                             'Price_value': [np.mean, min, max]})\n",
    "\n",
    "# This gives us a three level MultiIndex, let's lower it to two levels\n",
    "new_index = [(\"Max Price\", \"New\"),(\"Max Price\", \"Used\"),(\"Mean Price\", \"New\"),(\"Mean Price\", \"Used\"),(\"Min Price\", \"New\"),(\"Min Price\", \"Used\"),(\"Items\", \"New\"),(\"Items\",\"Used\")]\n",
    "table.columns = pd.MultiIndex.from_tuples(new_index, names=[\"\",\"Condition\"])\n",
    "\n",
    "# Now we are going to add a couple of columns to Items: we want the total number of items\n",
    "# and the proportion of new ones within each instrument type\n",
    "\n",
    "def getPercent(x,y):\n",
    "    return(100*x/(x+y))\n",
    "\n",
    "table[\"Items\",\"Total\"] = table.apply(lambda row: row[\"Items\",\"New\"] + row[\"Items\",\"Used\"], axis=1)\n",
    "table[\"Items\",\"% New\"] = table.apply(lambda row: getPercent(row[\"Items\",\"New\"],row[\"Items\",\"Used\"]), axis=1)\n",
    "\n",
    "table[\"Items\",\"% of Total\"] = table.apply(lambda row: 100 * row[\"Items\",\"Total\"] / table[\"Items\",\"Total\"].sum(), axis=1)\n",
    "\n",
    "\n",
    "# Finally, we see the table, ordered by the most popular items first \n",
    "table.round(decimals=2).sort_values([('Items', 'Total')], ascending=False)"
   ]
  },
  {
   "cell_type": "markdown",
   "id": "b8858fb8",
   "metadata": {},
   "source": [
    "In the previous table we have a good summary of some usefull numbers asociated with each instrument type, such as price ranges, proportion of new products vs used ones and the numer of items listed in each category. Notice for example that, surprisingly, used items are more expensive than the new ones.<br><br>\n",
    "Let's plot this data to get a more clear insight about the different categories."
   ]
  },
  {
   "cell_type": "code",
   "execution_count": 4,
   "id": "9490f0a0",
   "metadata": {
    "scrolled": false
   },
   "outputs": [
    {
     "data": {
      "text/plain": [
       "Text(0, 0.5, 'Instrument type')"
      ]
     },
     "execution_count": 4,
     "metadata": {},
     "output_type": "execute_result"
    },
    {
     "data": {
      "image/png": "[encoded data removed]",
      "text/plain": [
       "<Figure size 864x432 with 1 Axes>"
      ]
     },
     "metadata": {},
     "output_type": "display_data"
    }
   ],
   "source": [
    "# We are going to make a stacked bar plot to see wich are the most popular categories\n",
    "# and also the proportion of new and used items in each instrument type.\n",
    "data = table[\"Items\"].sort_values([\"Total\"], ascending=False)\n",
    "\n",
    "fig_dims = (12, 6)\n",
    "fig, ax = plt.subplots(figsize=fig_dims)\n",
    "\n",
    "sns.barplot(orient=\"h\", y=data.index, x=\"Total\", data=data)\n",
    "#add overall title\n",
    "plt.title(\"Products by category and condition\", fontsize=16)\n",
    "\n",
    "#add axis titles\n",
    "plt.xlabel('Number of items listed', fontsize=14)\n",
    "plt.ylabel('Instrument type', fontsize=14)\n"
   ]
  },
  {
   "cell_type": "markdown",
   "id": "8965e431",
   "metadata": {},
   "source": [
    "From this bar chart we can get a broad picture of how the musical instruments market of Sri Lanka is composed (based on this sample). We can see that the most popular items are in the Studio/Live Equipment category, followed closely by String Instruments. We can appreciate also that there are more used items than new ones in almost all instrument types, the only exception being Sheet Music. "
   ]
  },
  {
   "cell_type": "code",
   "execution_count": 5,
   "id": "f4eb9f6e",
   "metadata": {
    "scrolled": true
   },
   "outputs": [
    {
     "data": {
      "text/plain": [
       "<AxesSubplot:xlabel='Price_value', ylabel='Instrument_Type'>"
      ]
     },
     "execution_count": 5,
     "metadata": {},
     "output_type": "execute_result"
    },
    {
     "data": {
      "image/png": "[encoded data removed]",
      "text/plain": [
       "<Figure size 720x288 with 1 Axes>"
      ]
     },
     "metadata": {},
     "output_type": "display_data"
    }
   ],
   "source": [
    "#GRAPH: Bar plot that shows de 10 most popular items, grouped by instrument\n",
    "fig_dims = (10, 4)\n",
    "fig, ax = plt.subplots(figsize=fig_dims)\n",
    "title = \"10 Most popular musical instruments on sell\"\n",
    "sns.boxplot(y=\"Instrument_Type\", x=\"Price_value\", orient=\"h\", ax=ax, data=df.sort_values([\"Price_value\"]))"
   ]
  },
  {
   "cell_type": "markdown",
   "id": "79e6b8a9",
   "metadata": {},
   "source": [
    "We se that are some very expensive items in the Studio/Live Music equipment category. By the name of the category, it sounds logical it could contain some very expensive products. Nevertheless, now we want to get a broad picture of pices distribution in the market so, for now, we are going to discard de 10% most expensive items"
   ]
  },
  {
   "cell_type": "code",
   "execution_count": 6,
   "id": "968c712f",
   "metadata": {},
   "outputs": [
    {
     "data": {
      "text/plain": [
       "<AxesSubplot:xlabel='Price_value', ylabel='Instrument_Type'>"
      ]
     },
     "execution_count": 6,
     "metadata": {},
     "output_type": "execute_result"
    },
    {
     "data": {
      "image/png": "[encoded data removed]",
      "text/plain": [
       "<Figure size 720x432 with 1 Axes>"
      ]
     },
     "metadata": {},
     "output_type": "display_data"
    }
   ],
   "source": [
    "#We set a limit percentile, and we will only take values under that\n",
    "limit_percentile = 90\n",
    "limit_price = np.percentile(list(df[\"Price_value\"]), limit_percentile)\n",
    "\n",
    "# Data to be plotted is stored in an aux dataframe in order to sort categories by mean when plotting\n",
    "df_bp = df[[\"Instrument_Type\", \"Price_value\",\"Condition\"]]\n",
    "df_bp = df_bp[df[\"Price_value\"] < limit_price]\n",
    "df_means = df_bp.groupby([\"Instrument_Type\"]).agg({'Price_value': np.mean}).reset_index()\n",
    "df_means.rename(columns={\"Price_value\":\"Mean Price\"}, inplace=True)\n",
    "df_bp = pd.merge(df_bp, df_means, on=\"Instrument_Type\")\n",
    "\n",
    "#Box Plot\n",
    "fig_dims = (10, 6)\n",
    "fig, ax = plt.subplots(figsize=fig_dims)\n",
    "sns.boxplot(y=\"Instrument_Type\", x=\"Price_value\", orient=\"h\", ax=ax, data=df_bp.sort_values([\"Mean Price\"], ascending=False))"
   ]
  },
  {
   "cell_type": "code",
   "execution_count": 7,
   "id": "8cb863a2",
   "metadata": {},
   "outputs": [
    {
     "ename": "ValueError",
     "evalue": "We need at least 1 word to plot a word cloud, got 0.",
     "output_type": "error",
     "traceback": [
      "\u001b[1;31m---------------------------------------------------------------------------\u001b[0m",
      "\u001b[1;31mValueError\u001b[0m                                Traceback (most recent call last)",
      "\u001b[1;32m~\\AppData\\Local\\Temp/ipykernel_6648/798703091.py\u001b[0m in \u001b[0;36m<module>\u001b[1;34m\u001b[0m\n\u001b[0;32m      8\u001b[0m \u001b[0mallTitles\u001b[0m \u001b[1;33m=\u001b[0m \u001b[1;34m\"\"\u001b[0m\u001b[1;33m.\u001b[0m\u001b[0mjoin\u001b[0m\u001b[1;33m(\u001b[0m\u001b[0mtitles\u001b[0m \u001b[1;32mfor\u001b[0m \u001b[0mtitles\u001b[0m \u001b[1;32min\u001b[0m \u001b[0mdf\u001b[0m\u001b[1;33m[\u001b[0m\u001b[1;34m\"Title\"\u001b[0m\u001b[1;33m]\u001b[0m\u001b[1;33m[\u001b[0m\u001b[0mdf\u001b[0m\u001b[1;33m.\u001b[0m\u001b[0mInstrument_Type\u001b[0m \u001b[1;33m==\u001b[0m \u001b[1;34m\"Studio/Live Music Equipment\"\u001b[0m\u001b[1;33m]\u001b[0m\u001b[1;33m)\u001b[0m\u001b[1;33m\u001b[0m\u001b[1;33m\u001b[0m\u001b[0m\n\u001b[0;32m      9\u001b[0m \u001b[1;33m\u001b[0m\u001b[0m\n\u001b[1;32m---> 10\u001b[1;33m \u001b[0mshowWordCloud\u001b[0m\u001b[1;33m(\u001b[0m\u001b[0mallTitles\u001b[0m\u001b[1;33m)\u001b[0m\u001b[1;33m\u001b[0m\u001b[1;33m\u001b[0m\u001b[0m\n\u001b[0m",
      "\u001b[1;32m~\\AppData\\Local\\Temp/ipykernel_6648/798703091.py\u001b[0m in \u001b[0;36mshowWordCloud\u001b[1;34m(text)\u001b[0m\n\u001b[0;32m      1\u001b[0m \u001b[1;31m#\u001b[0m\u001b[1;33m\u001b[0m\u001b[1;33m\u001b[0m\u001b[0m\n\u001b[0;32m      2\u001b[0m \u001b[1;32mdef\u001b[0m \u001b[0mshowWordCloud\u001b[0m\u001b[1;33m(\u001b[0m\u001b[0mtext\u001b[0m\u001b[1;33m)\u001b[0m\u001b[1;33m:\u001b[0m\u001b[1;33m\u001b[0m\u001b[1;33m\u001b[0m\u001b[0m\n\u001b[1;32m----> 3\u001b[1;33m     \u001b[0mwordCloud\u001b[0m \u001b[1;33m=\u001b[0m \u001b[0mWordCloud\u001b[0m\u001b[1;33m(\u001b[0m\u001b[0mwidth\u001b[0m\u001b[1;33m=\u001b[0m\u001b[1;36m500\u001b[0m\u001b[1;33m,\u001b[0m \u001b[0mheight\u001b[0m\u001b[1;33m=\u001b[0m\u001b[1;36m300\u001b[0m\u001b[1;33m,\u001b[0m \u001b[0mrandom_state\u001b[0m\u001b[1;33m=\u001b[0m\u001b[1;36m42\u001b[0m\u001b[1;33m,\u001b[0m \u001b[0mmax_font_size\u001b[0m\u001b[1;33m=\u001b[0m\u001b[1;36m120\u001b[0m\u001b[1;33m)\u001b[0m\u001b[1;33m.\u001b[0m\u001b[0mgenerate\u001b[0m\u001b[1;33m(\u001b[0m\u001b[0mtext\u001b[0m\u001b[1;33m)\u001b[0m\u001b[1;33m\u001b[0m\u001b[1;33m\u001b[0m\u001b[0m\n\u001b[0m\u001b[0;32m      4\u001b[0m     \u001b[0mplt\u001b[0m\u001b[1;33m.\u001b[0m\u001b[0mimshow\u001b[0m\u001b[1;33m(\u001b[0m\u001b[0mwordCloud\u001b[0m\u001b[1;33m)\u001b[0m\u001b[1;33m\u001b[0m\u001b[1;33m\u001b[0m\u001b[0m\n\u001b[0;32m      5\u001b[0m     \u001b[0mplt\u001b[0m\u001b[1;33m.\u001b[0m\u001b[0maxis\u001b[0m\u001b[1;33m(\u001b[0m\u001b[1;34m\"off\"\u001b[0m\u001b[1;33m)\u001b[0m\u001b[1;33m\u001b[0m\u001b[1;33m\u001b[0m\u001b[0m\n",
      "\u001b[1;32m~\\anaconda3\\lib\\site-packages\\wordcloud\\wordcloud.py\u001b[0m in \u001b[0;36mgenerate\u001b[1;34m(self, text)\u001b[0m\n\u001b[0;32m    630\u001b[0m         \u001b[0mself\u001b[0m\u001b[1;33m\u001b[0m\u001b[1;33m\u001b[0m\u001b[0m\n\u001b[0;32m    631\u001b[0m         \"\"\"\n\u001b[1;32m--> 632\u001b[1;33m         \u001b[1;32mreturn\u001b[0m \u001b[0mself\u001b[0m\u001b[1;33m.\u001b[0m\u001b[0mgenerate_from_text\u001b[0m\u001b[1;33m(\u001b[0m\u001b[0mtext\u001b[0m\u001b[1;33m)\u001b[0m\u001b[1;33m\u001b[0m\u001b[1;33m\u001b[0m\u001b[0m\n\u001b[0m\u001b[0;32m    633\u001b[0m \u001b[1;33m\u001b[0m\u001b[0m\n\u001b[0;32m    634\u001b[0m     \u001b[1;32mdef\u001b[0m \u001b[0m_check_generated\u001b[0m\u001b[1;33m(\u001b[0m\u001b[0mself\u001b[0m\u001b[1;33m)\u001b[0m\u001b[1;33m:\u001b[0m\u001b[1;33m\u001b[0m\u001b[1;33m\u001b[0m\u001b[0m\n",
      "\u001b[1;32m~\\anaconda3\\lib\\site-packages\\wordcloud\\wordcloud.py\u001b[0m in \u001b[0;36mgenerate_from_text\u001b[1;34m(self, text)\u001b[0m\n\u001b[0;32m    612\u001b[0m         \"\"\"\n\u001b[0;32m    613\u001b[0m         \u001b[0mwords\u001b[0m \u001b[1;33m=\u001b[0m \u001b[0mself\u001b[0m\u001b[1;33m.\u001b[0m\u001b[0mprocess_text\u001b[0m\u001b[1;33m(\u001b[0m\u001b[0mtext\u001b[0m\u001b[1;33m)\u001b[0m\u001b[1;33m\u001b[0m\u001b[1;33m\u001b[0m\u001b[0m\n\u001b[1;32m--> 614\u001b[1;33m         \u001b[0mself\u001b[0m\u001b[1;33m.\u001b[0m\u001b[0mgenerate_from_frequencies\u001b[0m\u001b[1;33m(\u001b[0m\u001b[0mwords\u001b[0m\u001b[1;33m)\u001b[0m\u001b[1;33m\u001b[0m\u001b[1;33m\u001b[0m\u001b[0m\n\u001b[0m\u001b[0;32m    615\u001b[0m         \u001b[1;32mreturn\u001b[0m \u001b[0mself\u001b[0m\u001b[1;33m\u001b[0m\u001b[1;33m\u001b[0m\u001b[0m\n\u001b[0;32m    616\u001b[0m \u001b[1;33m\u001b[0m\u001b[0m\n",
      "\u001b[1;32m~\\anaconda3\\lib\\site-packages\\wordcloud\\wordcloud.py\u001b[0m in \u001b[0;36mgenerate_from_frequencies\u001b[1;34m(self, frequencies, max_font_size)\u001b[0m\n\u001b[0;32m    401\u001b[0m         \u001b[0mfrequencies\u001b[0m \u001b[1;33m=\u001b[0m \u001b[0msorted\u001b[0m\u001b[1;33m(\u001b[0m\u001b[0mfrequencies\u001b[0m\u001b[1;33m.\u001b[0m\u001b[0mitems\u001b[0m\u001b[1;33m(\u001b[0m\u001b[1;33m)\u001b[0m\u001b[1;33m,\u001b[0m \u001b[0mkey\u001b[0m\u001b[1;33m=\u001b[0m\u001b[0mitemgetter\u001b[0m\u001b[1;33m(\u001b[0m\u001b[1;36m1\u001b[0m\u001b[1;33m)\u001b[0m\u001b[1;33m,\u001b[0m \u001b[0mreverse\u001b[0m\u001b[1;33m=\u001b[0m\u001b[1;32mTrue\u001b[0m\u001b[1;33m)\u001b[0m\u001b[1;33m\u001b[0m\u001b[1;33m\u001b[0m\u001b[0m\n\u001b[0;32m    402\u001b[0m         \u001b[1;32mif\u001b[0m \u001b[0mlen\u001b[0m\u001b[1;33m(\u001b[0m\u001b[0mfrequencies\u001b[0m\u001b[1;33m)\u001b[0m \u001b[1;33m<=\u001b[0m \u001b[1;36m0\u001b[0m\u001b[1;33m:\u001b[0m\u001b[1;33m\u001b[0m\u001b[1;33m\u001b[0m\u001b[0m\n\u001b[1;32m--> 403\u001b[1;33m             raise ValueError(\"We need at least 1 word to plot a word cloud, \"\n\u001b[0m\u001b[0;32m    404\u001b[0m                              \"got %d.\" % len(frequencies))\n\u001b[0;32m    405\u001b[0m         \u001b[0mfrequencies\u001b[0m \u001b[1;33m=\u001b[0m \u001b[0mfrequencies\u001b[0m\u001b[1;33m[\u001b[0m\u001b[1;33m:\u001b[0m\u001b[0mself\u001b[0m\u001b[1;33m.\u001b[0m\u001b[0mmax_words\u001b[0m\u001b[1;33m]\u001b[0m\u001b[1;33m\u001b[0m\u001b[1;33m\u001b[0m\u001b[0m\n",
      "\u001b[1;31mValueError\u001b[0m: We need at least 1 word to plot a word cloud, got 0."
     ]
    }
   ],
   "source": [
    "#\n",
    "def showWordCloud(text):\n",
    "    wordCloud = WordCloud(width=500, height=300, random_state=42, max_font_size=120).generate(text)\n",
    "    plt.imshow(wordCloud)\n",
    "    plt.axis(\"off\")\n",
    "    plt.show()\n",
    "    \n",
    "allTitles = \"\".join(titles for titles in df[\"Title\"][df.Instrument_Type == \"Studio/Live Music Equipment\"])\n",
    "\n",
    "showWordCloud(allTitles)"
   ]
  },
  {
   "cell_type": "markdown",
   "id": "5e757d93",
   "metadata": {},
   "source": [
    "The origin of the dispersion of prices within instrument types is most likely due to the fact that each category encompasses not only the instruments themselves but also parts, accesories and related products. That effect is most noticeable in the Studio/Live Music Equipment category, wich contains a wide range of very different products.<br>\n",
    "Let's take a deeper look."
   ]
  },
  {
   "cell_type": "markdown",
   "id": "50d9b388",
   "metadata": {},
   "source": [
    "### Used vs New"
   ]
  },
  {
   "cell_type": "markdown",
   "id": "263055fd",
   "metadata": {},
   "source": [
    "Previous analysis focused on products categories as a whole. We know that the dataset contains both new and used products. In the folowing section, we are going to see how this classification affects prices and availability."
   ]
  },
  {
   "cell_type": "code",
   "execution_count": null,
   "id": "fdeeea6a",
   "metadata": {
    "scrolled": false
   },
   "outputs": [],
   "source": [
    "# We are going to make a stacked bar plot to see wich are the most popular categories\n",
    "# and also the proportion of new and used items in each instrument type.\n",
    "\n",
    "fig_dims = (12, 6)\n",
    "fig, ax = plt.subplots(figsize=fig_dims)\n",
    "\n",
    "table[\"Items\"].sort_values([\"Total\"]).drop([\"Total\",\"% New\", \"% of Total\"], axis=1).plot(kind='barh', stacked=True, ax=ax)\n",
    "#add overall title\n",
    "plt.title(\"How is the instruments market composed?\\n\\n\\nProducts by category and condition\", fontsize=16)\n",
    "\n",
    "#add axis titles\n",
    "plt.xlabel('Number of items listed', fontsize=14)\n",
    "plt.ylabel('Instrument type', fontsize=14)\n"
   ]
  },
  {
   "cell_type": "code",
   "execution_count": null,
   "id": "02318907",
   "metadata": {},
   "outputs": [],
   "source": [
    "#Box Plot\n",
    "fig_dims = (10, 8)\n",
    "fig, ax = plt.subplots(figsize=fig_dims)\n",
    "sns.boxplot(y=\"Instrument_Type\", x=\"Price_value\", hue=\"Condition\", orient=\"h\", ax=ax, data=df_bp.sort_values([\"Mean Price\"], ascending=False))"
   ]
  },
  {
   "cell_type": "markdown",
   "id": "29d143d4",
   "metadata": {},
   "source": [
    "This is very surprising, we see that, except for vinyl, used products are more expensive thant new ones! Let's compare the mean price of new products vs used ones"
   ]
  },
  {
   "cell_type": "code",
   "execution_count": null,
   "id": "ce0596b1",
   "metadata": {},
   "outputs": [],
   "source": [
    "df[[\"Condition\", \"Price_value\"]].groupby([\"Condition\"]).agg({\"Price_value\":np.mean}).rename(columns={\"Price_value\":\"Mean Price\"})"
   ]
  },
  {
   "cell_type": "markdown",
   "id": "5233446e",
   "metadata": {},
   "source": [
    "### Most popular instruments and brands"
   ]
  },
  {
   "cell_type": "code",
   "execution_count": null,
   "id": "6e4d4112",
   "metadata": {},
   "outputs": [],
   "source": [
    "# We are going to make a table to count how many instruments of each brand we have\n",
    "ins_table = df[[\"Instrument_Type\", \"Product\", \"Brand\",\"Title\", \"Price_value\"]].groupby([\"Instrument_Type\", \"Product\", \"Brand\"]).agg({'Title':\"count\",\"Price_value\":np.mean}).rename(columns={\"Title\":\"Items\",\"Price_value\":\"Mean Price\"}).reset_index().sort_values([\"Instrument_Type\",\"Product\",\"Brand\"])"
   ]
  },
  {
   "cell_type": "code",
   "execution_count": null,
   "id": "d99a7009",
   "metadata": {},
   "outputs": [],
   "source": [
    "ins_table.sort_values([\"Items\"], ascending=False).head(10).style.set_caption(\"10 MOST POPULAR MUSICAL INSTRUMENTS\")"
   ]
  },
  {
   "cell_type": "code",
   "execution_count": null,
   "id": "3ec2f6ea",
   "metadata": {},
   "outputs": [],
   "source": [
    "#GRAPH: Bar plot that shows de 10 most popular items, grouped by instrument\n",
    "fig_dims = (12, 6)\n",
    "fig, ax = plt.subplots(figsize=fig_dims)\n",
    "title = \"10 Most popular musical instruments on sell\"\n",
    "sns.barplot(x = \"Product\", y = \"Items\", hue = \"Brand\", ax=ax, data = ins_table.sort_values([\"Items\"], ascending=False).head(10)).set_title(title, fontsize=16)\n",
    "#add overall title\n",
    "#place legend in center right of plot\n",
    "plt.legend(loc='center right', title='Brand')\n"
   ]
  },
  {
   "cell_type": "markdown",
   "id": "3e9bf348",
   "metadata": {},
   "source": [
    "As we can appreciate, the most popular items are Yamaha guitars, followed by Keyboards from Yamaha as well, but also from other well known brands. "
   ]
  },
  {
   "cell_type": "code",
   "execution_count": null,
   "id": "4d3729c5",
   "metadata": {
    "scrolled": false
   },
   "outputs": [],
   "source": [
    "fig_dims = (12, 6)\n",
    "fig, ax = plt.subplots(figsize=fig_dims)\n",
    "pd.DataFrame(df[\"Brand\"].value_counts()).head(10).sort_values([\"Brand\"]).plot(kind=\"barh\", ax=ax)\n",
    "\n",
    "# Graph titles\n",
    "plt.title(\"Top 10 Selling brands\", fontsize=16)\n",
    "plt.xlabel('Items listed', fontsize=14)\n",
    "plt.ylabel('Brand', fontsize=14)"
   ]
  },
  {
   "cell_type": "markdown",
   "id": "afbb9617",
   "metadata": {},
   "source": [
    "Yamaha is crearly the most important brand in this market, partly due to the wide variety of products they make. Let's take a look at al the Yamaha products."
   ]
  },
  {
   "cell_type": "code",
   "execution_count": null,
   "id": "e7b9d434",
   "metadata": {},
   "outputs": [],
   "source": [
    "# Let's see the products that yamaha manufactures\n",
    "fig_dims = (12, 6)\n",
    "fig, ax = plt.subplots(figsize=fig_dims)\n",
    "df[df[\"Brand\"] == \"Yamaha\"][\"Product\"].value_counts(ascending=True).plot(kind=\"barh\", color=\"#ed7d4a\")\n",
    "\n",
    "# Graph titles\n",
    "plt.title(\"Products by Yamaha\", fontsize=16)\n",
    "plt.xlabel('Items listed', fontsize=14)\n",
    "plt.ylabel('Product', fontsize=14)"
   ]
  },
  {
   "cell_type": "markdown",
   "id": "dcea6a3e",
   "metadata": {},
   "source": [
    "### Most Expensive Products"
   ]
  },
  {
   "cell_type": "code",
   "execution_count": null,
   "id": "a8b61e11",
   "metadata": {},
   "outputs": [],
   "source": [
    "ins_table.sort_values([\"Mean Price\"], ascending=False).head(10).style.set_caption(\"10 MOST EXPENSIVE MUSICAL INSTRUMENTS\")"
   ]
  },
  {
   "cell_type": "code",
   "execution_count": null,
   "id": "83672a77",
   "metadata": {},
   "outputs": [],
   "source": [
    "#GRAPH: Bar plot that shows de 10 most popular items, grouped by instrument\n",
    "fig_dims = (12, 6)\n",
    "fig, ax = plt.subplots(figsize=fig_dims)\n",
    "title = \"10 Most expensive musical instruments on sell\"\n",
    "sns.barplot(x = \"Product\", y = \"Mean Price\", hue = \"Brand\", ax=ax, data = ins_table.sort_values([\"Mean Price\"], ascending=False).head(10)).set_title(title, fontsize=16)\n",
    "#add overall title\n",
    "#place legend in center right of plot\n",
    "plt.legend(loc='upper right', title='Brand')\n"
   ]
  },
  {
   "cell_type": "markdown",
   "id": "c15e1065",
   "metadata": {},
   "source": [
    "### Geographical análisis"
   ]
  },
  {
   "cell_type": "code",
   "execution_count": null,
   "id": "86f5382a",
   "metadata": {},
   "outputs": [],
   "source": []
  },
  {
   "cell_type": "code",
   "execution_count": null,
   "id": "4f8c6ad4",
   "metadata": {},
   "outputs": [],
   "source": []
  }
 ],
 "metadata": {
  "kernelspec": {
   "display_name": "Python 3 (ipykernel)",
   "language": "python",
   "name": "python3"
  },
  "language_info": {
   "codemirror_mode": {
    "name": "ipython",
    "version": 3
   },
   "file_extension": ".py",
   "mimetype": "text/x-python",
   "name": "python",
   "nbconvert_exporter": "python",
   "pygments_lexer": "ipython3",
   "version": "3.9.7"
  }
 },
 "nbformat": 4,
 "nbformat_minor": 5
}
