{
 "cells": [
  {
   "cell_type": "markdown",
   "id": "7658dd1f",
   "metadata": {},
   "source": [
    "# Musical instruments prices\n",
    "### A study of the prices of musical instruments in Sri Lanka"
   ]
  },
  {
   "cell_type": "markdown",
   "id": "42b5d647",
   "metadata": {},
   "source": [
    "Author: Leandro Hornos"
   ]
  },
  {
   "cell_type": "code",
   "execution_count": 1,
   "id": "06fcafd2",
   "metadata": {},
   "outputs": [],
   "source": [
    "import numpy as np\n",
    "import pandas as pd"
   ]
  },
  {
   "cell_type": "code",
   "execution_count": 2,
   "id": "4802f534",
   "metadata": {},
   "outputs": [],
   "source": [
    "df = pd.read_csv(\"raw-data.csv\", encoding=\"utf-8\", parse_dates=[\"published_date\"])"
   ]
  },
  {
   "cell_type": "markdown",
   "id": "7079e8e9",
   "metadata": {},
   "source": [
    "## Cleaning the dataset"
   ]
  },
  {
   "cell_type": "markdown",
   "id": "30a8b232",
   "metadata": {},
   "source": [
    "Let's take a look at data that we imported from the csv"
   ]
  },
  {
   "cell_type": "code",
   "execution_count": 3,
   "id": "f1075aba",
   "metadata": {},
   "outputs": [
    {
     "data": {
      "text/html": [
       "<div>\n",
       "<style scoped>\n",
       "    .dataframe tbody tr th:only-of-type {\n",
       "        vertical-align: middle;\n",
       "    }\n",
       "\n",
       "    .dataframe tbody tr th {\n",
       "        vertical-align: top;\n",
       "    }\n",
       "\n",
       "    .dataframe thead th {\n",
       "        text-align: right;\n",
       "    }\n",
       "</style>\n",
       "<table border=\"1\" class=\"dataframe\">\n",
       "  <thead>\n",
       "    <tr style=\"text-align: right;\">\n",
       "      <th></th>\n",
       "      <th>Title</th>\n",
       "      <th>Sub_title</th>\n",
       "      <th>Price</th>\n",
       "      <th>Instrument_Type</th>\n",
       "      <th>Condition</th>\n",
       "      <th>Location</th>\n",
       "      <th>Description</th>\n",
       "      <th>Post_URL</th>\n",
       "      <th>Seller_name</th>\n",
       "      <th>Seller_type</th>\n",
       "      <th>published_date</th>\n",
       "    </tr>\n",
       "  </thead>\n",
       "  <tbody>\n",
       "    <tr>\n",
       "      <th>0</th>\n",
       "      <td>Yamaha (SY-77) Music Synthesizer for sale</td>\n",
       "      <td>Posted on 04 Oct 7:11 pm, Ja-Ela, Gampaha</td>\n",
       "      <td>Rs 39,000</td>\n",
       "      <td>Keyboard / Piano</td>\n",
       "      <td>Used</td>\n",
       "      <td>Ja-Ela,  Gampaha</td>\n",
       "      <td>Â°â¢Â°Sri Lanka's Largest Digital Piano Selle...</td>\n",
       "      <td>https://ikman.lk/en/ad/yamaha-sy-77-music-synt...</td>\n",
       "      <td>Seven Star International</td>\n",
       "      <td>Member</td>\n",
       "      <td>2021-10-04 19:11:00</td>\n",
       "    </tr>\n",
       "    <tr>\n",
       "      <th>1</th>\n",
       "      <td>SRX-718 BASS BIN (PAIR) for sale</td>\n",
       "      <td>Posted on 10 Oct 7:54 pm, Kadawatha, Gampaha</td>\n",
       "      <td>Rs 77,500</td>\n",
       "      <td>Studio / Live Music Equipment</td>\n",
       "      <td>New</td>\n",
       "      <td>Kadawatha,  Gampaha</td>\n",
       "      <td>â¡Watts 3200â¡â¡Treated Plywoodâ¡</td>\n",
       "      <td>https://ikman.lk/en/ad/srx-718-bass-bin-pair-f...</td>\n",
       "      <td>Sasiru Super Sonics</td>\n",
       "      <td>Member</td>\n",
       "      <td>2021-10-10 19:54:00</td>\n",
       "    </tr>\n",
       "    <tr>\n",
       "      <th>2</th>\n",
       "      <td>Piano (Malcom Mendis Piano) for sale</td>\n",
       "      <td>Posted on 13 Oct 12:43 pm, Kandana, Gampaha</td>\n",
       "      <td>Rs 130,000</td>\n",
       "      <td>Keyboard / Piano</td>\n",
       "      <td>Used</td>\n",
       "      <td>Kandana,  Gampaha</td>\n",
       "      <td>Sri Lanka's Biggest Piano Sale, Reasonable pri...</td>\n",
       "      <td>https://ikman.lk/en/ad/piano-malcom-mendis-pia...</td>\n",
       "      <td>Sell Fast | à¶à¶³à·à¶± | MCI Ikman à¶¯à·à¶±...</td>\n",
       "      <td>Member</td>\n",
       "      <td>2021-10-13 12:43:00</td>\n",
       "    </tr>\n",
       "  </tbody>\n",
       "</table>\n",
       "</div>"
      ],
      "text/plain": [
       "                                       Title  \\\n",
       "0  Yamaha (SY-77) Music Synthesizer for sale   \n",
       "1           SRX-718 BASS BIN (PAIR) for sale   \n",
       "2       Piano (Malcom Mendis Piano) for sale   \n",
       "\n",
       "                                      Sub_title       Price  \\\n",
       "0     Posted on 04 Oct 7:11 pm, Ja-Ela, Gampaha   Rs 39,000   \n",
       "1  Posted on 10 Oct 7:54 pm, Kadawatha, Gampaha   Rs 77,500   \n",
       "2   Posted on 13 Oct 12:43 pm, Kandana, Gampaha  Rs 130,000   \n",
       "\n",
       "                 Instrument_Type Condition              Location  \\\n",
       "0               Keyboard / Piano      Used      Ja-Ela,  Gampaha   \n",
       "1  Studio / Live Music Equipment       New   Kadawatha,  Gampaha   \n",
       "2               Keyboard / Piano      Used     Kandana,  Gampaha   \n",
       "\n",
       "                                         Description  \\\n",
       "0  Â°â¢Â°Sri Lanka's Largest Digital Piano Selle...   \n",
       "1              â¡Watts 3200â¡â¡Treated Plywoodâ¡   \n",
       "2  Sri Lanka's Biggest Piano Sale, Reasonable pri...   \n",
       "\n",
       "                                            Post_URL  \\\n",
       "0  https://ikman.lk/en/ad/yamaha-sy-77-music-synt...   \n",
       "1  https://ikman.lk/en/ad/srx-718-bass-bin-pair-f...   \n",
       "2  https://ikman.lk/en/ad/piano-malcom-mendis-pia...   \n",
       "\n",
       "                                         Seller_name Seller_type  \\\n",
       "0                           Seven Star International      Member   \n",
       "1                                Sasiru Super Sonics      Member   \n",
       "2  Sell Fast | à¶à¶³à·à¶± | MCI Ikman à¶¯à·à¶±...      Member   \n",
       "\n",
       "       published_date  \n",
       "0 2021-10-04 19:11:00  \n",
       "1 2021-10-10 19:54:00  \n",
       "2 2021-10-13 12:43:00  "
      ]
     },
     "execution_count": 3,
     "metadata": {},
     "output_type": "execute_result"
    }
   ],
   "source": [
    "df.head(3)"
   ]
  },
  {
   "cell_type": "code",
   "execution_count": 4,
   "id": "f9ed1215",
   "metadata": {},
   "outputs": [
    {
     "name": "stdout",
     "output_type": "stream",
     "text": [
      "<class 'pandas.core.frame.DataFrame'>\n",
      "RangeIndex: 5167 entries, 0 to 5166\n",
      "Data columns (total 11 columns):\n",
      " #   Column           Non-Null Count  Dtype         \n",
      "---  ------           --------------  -----         \n",
      " 0   Title            5167 non-null   object        \n",
      " 1   Sub_title        5167 non-null   object        \n",
      " 2   Price            5167 non-null   object        \n",
      " 3   Instrument_Type  5167 non-null   object        \n",
      " 4   Condition        5167 non-null   object        \n",
      " 5   Location         5167 non-null   object        \n",
      " 6   Description      5167 non-null   object        \n",
      " 7   Post_URL         5167 non-null   object        \n",
      " 8   Seller_name      5167 non-null   object        \n",
      " 9   Seller_type      5167 non-null   object        \n",
      " 10  published_date   5167 non-null   datetime64[ns]\n",
      "dtypes: datetime64[ns](1), object(10)\n",
      "memory usage: 444.2+ KB\n"
     ]
    }
   ],
   "source": [
    "df.info()"
   ]
  },
  {
   "cell_type": "markdown",
   "id": "c44935a6",
   "metadata": {},
   "source": [
    "We can se that we have no missing values on this dataset. "
   ]
  },
  {
   "cell_type": "code",
   "execution_count": 5,
   "id": "11514f98",
   "metadata": {},
   "outputs": [
    {
     "name": "stdout",
     "output_type": "stream",
     "text": [
      "['Used' 'New']\n",
      "['Member' 'Premium-Member']\n"
     ]
    }
   ],
   "source": [
    "print(df.Condition.unique())\n",
    "print(df.Seller_type.unique())"
   ]
  },
  {
   "cell_type": "markdown",
   "id": "5a657e17",
   "metadata": {},
   "source": [
    "As suspected, both variables are binaries. We will change those of a new pair of variables that take 1s and 0s as it's possible values"
   ]
  },
  {
   "cell_type": "markdown",
   "id": "14da7f55",
   "metadata": {},
   "source": [
    "**Prices**"
   ]
  },
  {
   "cell_type": "code",
   "execution_count": 6,
   "id": "b66dfe7a",
   "metadata": {},
   "outputs": [],
   "source": [
    "# We want to convert prices to numbers:\n",
    "\n",
    "def parsePrice(text):\n",
    "    text = text.replace(\"Rs \",\"\")\n",
    "    text = text.replace(\",\",\"\")\n",
    "    return int(text)\n",
    "\n",
    "df[\"Price_value\"] = df[\"Price\"].apply(lambda x: parsePrice(x))"
   ]
  },
  {
   "cell_type": "markdown",
   "id": "9e3d0724",
   "metadata": {},
   "source": [
    "**Location**<br>\n",
    "The location field contains the name of the neighborhood/suburb and the city, separated by a comma. It would be a good idea to split this columns in two."
   ]
  },
  {
   "cell_type": "code",
   "execution_count": 7,
   "id": "17069924",
   "metadata": {},
   "outputs": [
    {
     "name": "stdout",
     "output_type": "stream",
     "text": [
      "Colombo\n"
     ]
    },
    {
     "data": {
      "text/html": [
       "<div>\n",
       "<style scoped>\n",
       "    .dataframe tbody tr th:only-of-type {\n",
       "        vertical-align: middle;\n",
       "    }\n",
       "\n",
       "    .dataframe tbody tr th {\n",
       "        vertical-align: top;\n",
       "    }\n",
       "\n",
       "    .dataframe thead th {\n",
       "        text-align: right;\n",
       "    }\n",
       "</style>\n",
       "<table border=\"1\" class=\"dataframe\">\n",
       "  <thead>\n",
       "    <tr style=\"text-align: right;\">\n",
       "      <th></th>\n",
       "      <th>Title</th>\n",
       "      <th>Sub_title</th>\n",
       "      <th>Price</th>\n",
       "      <th>Instrument_Type</th>\n",
       "      <th>Condition</th>\n",
       "      <th>Description</th>\n",
       "      <th>Post_URL</th>\n",
       "      <th>Seller_name</th>\n",
       "      <th>Seller_type</th>\n",
       "      <th>published_date</th>\n",
       "      <th>Price_value</th>\n",
       "      <th>Neigborhood</th>\n",
       "      <th>City</th>\n",
       "    </tr>\n",
       "  </thead>\n",
       "  <tbody>\n",
       "    <tr>\n",
       "      <th>0</th>\n",
       "      <td>Yamaha (SY-77) Music Synthesizer for sale</td>\n",
       "      <td>Posted on 04 Oct 7:11 pm, Ja-Ela, Gampaha</td>\n",
       "      <td>Rs 39,000</td>\n",
       "      <td>Keyboard / Piano</td>\n",
       "      <td>Used</td>\n",
       "      <td>Â°â¢Â°Sri Lanka's Largest Digital Piano Selle...</td>\n",
       "      <td>https://ikman.lk/en/ad/yamaha-sy-77-music-synt...</td>\n",
       "      <td>Seven Star International</td>\n",
       "      <td>Member</td>\n",
       "      <td>2021-10-04 19:11:00</td>\n",
       "      <td>39000</td>\n",
       "      <td>Ja-Ela</td>\n",
       "      <td>Gampaha</td>\n",
       "    </tr>\n",
       "    <tr>\n",
       "      <th>1</th>\n",
       "      <td>SRX-718 BASS BIN (PAIR) for sale</td>\n",
       "      <td>Posted on 10 Oct 7:54 pm, Kadawatha, Gampaha</td>\n",
       "      <td>Rs 77,500</td>\n",
       "      <td>Studio / Live Music Equipment</td>\n",
       "      <td>New</td>\n",
       "      <td>â¡Watts 3200â¡â¡Treated Plywoodâ¡</td>\n",
       "      <td>https://ikman.lk/en/ad/srx-718-bass-bin-pair-f...</td>\n",
       "      <td>Sasiru Super Sonics</td>\n",
       "      <td>Member</td>\n",
       "      <td>2021-10-10 19:54:00</td>\n",
       "      <td>77500</td>\n",
       "      <td>Kadawatha</td>\n",
       "      <td>Gampaha</td>\n",
       "    </tr>\n",
       "    <tr>\n",
       "      <th>2</th>\n",
       "      <td>Piano (Malcom Mendis Piano) for sale</td>\n",
       "      <td>Posted on 13 Oct 12:43 pm, Kandana, Gampaha</td>\n",
       "      <td>Rs 130,000</td>\n",
       "      <td>Keyboard / Piano</td>\n",
       "      <td>Used</td>\n",
       "      <td>Sri Lanka's Biggest Piano Sale, Reasonable pri...</td>\n",
       "      <td>https://ikman.lk/en/ad/piano-malcom-mendis-pia...</td>\n",
       "      <td>Sell Fast | à¶à¶³à·à¶± | MCI Ikman à¶¯à·à¶±...</td>\n",
       "      <td>Member</td>\n",
       "      <td>2021-10-13 12:43:00</td>\n",
       "      <td>130000</td>\n",
       "      <td>Kandana</td>\n",
       "      <td>Gampaha</td>\n",
       "    </tr>\n",
       "    <tr>\n",
       "      <th>3</th>\n",
       "      <td>Yamaha Semi Acoustic Guitars for sale</td>\n",
       "      <td>Posted on 13 Oct 12:44 pm, Rajagiriya, Colombo</td>\n",
       "      <td>Rs 36,000</td>\n",
       "      <td>String Instrument / Amplifier</td>\n",
       "      <td>Used</td>\n",
       "      <td>Yamaha semi acoustic guitar.  Model- FX310A. B...</td>\n",
       "      <td>https://ikman.lk/en/ad/yamaha-semi-acoustic-gu...</td>\n",
       "      <td>Tiran Rathnayaka</td>\n",
       "      <td>Member</td>\n",
       "      <td>2021-10-13 12:44:00</td>\n",
       "      <td>36000</td>\n",
       "      <td>Rajagiriya</td>\n",
       "      <td>Colombo</td>\n",
       "    </tr>\n",
       "    <tr>\n",
       "      <th>4</th>\n",
       "      <td>Yamaha Guitar for sale</td>\n",
       "      <td>Posted on 13 Oct 12:06 pm, Delgoda, Gampaha</td>\n",
       "      <td>Rs 35,000</td>\n",
       "      <td>String Instrument / Amplifier</td>\n",
       "      <td>Used</td>\n",
       "      <td>Yamaha fG-151 Made in Japan Good condition Goo...</td>\n",
       "      <td>https://ikman.lk/en/ad/yamaha-guitar-ex-for-sa...</td>\n",
       "      <td>shiran</td>\n",
       "      <td>Member</td>\n",
       "      <td>2021-10-13 12:06:00</td>\n",
       "      <td>35000</td>\n",
       "      <td>Delgoda</td>\n",
       "      <td>Gampaha</td>\n",
       "    </tr>\n",
       "  </tbody>\n",
       "</table>\n",
       "</div>"
      ],
      "text/plain": [
       "                                       Title  \\\n",
       "0  Yamaha (SY-77) Music Synthesizer for sale   \n",
       "1           SRX-718 BASS BIN (PAIR) for sale   \n",
       "2       Piano (Malcom Mendis Piano) for sale   \n",
       "3      Yamaha Semi Acoustic Guitars for sale   \n",
       "4                     Yamaha Guitar for sale   \n",
       "\n",
       "                                        Sub_title       Price  \\\n",
       "0       Posted on 04 Oct 7:11 pm, Ja-Ela, Gampaha   Rs 39,000   \n",
       "1    Posted on 10 Oct 7:54 pm, Kadawatha, Gampaha   Rs 77,500   \n",
       "2     Posted on 13 Oct 12:43 pm, Kandana, Gampaha  Rs 130,000   \n",
       "3  Posted on 13 Oct 12:44 pm, Rajagiriya, Colombo   Rs 36,000   \n",
       "4     Posted on 13 Oct 12:06 pm, Delgoda, Gampaha   Rs 35,000   \n",
       "\n",
       "                 Instrument_Type Condition  \\\n",
       "0               Keyboard / Piano      Used   \n",
       "1  Studio / Live Music Equipment       New   \n",
       "2               Keyboard / Piano      Used   \n",
       "3  String Instrument / Amplifier      Used   \n",
       "4  String Instrument / Amplifier      Used   \n",
       "\n",
       "                                         Description  \\\n",
       "0  Â°â¢Â°Sri Lanka's Largest Digital Piano Selle...   \n",
       "1              â¡Watts 3200â¡â¡Treated Plywoodâ¡   \n",
       "2  Sri Lanka's Biggest Piano Sale, Reasonable pri...   \n",
       "3  Yamaha semi acoustic guitar.  Model- FX310A. B...   \n",
       "4  Yamaha fG-151 Made in Japan Good condition Goo...   \n",
       "\n",
       "                                            Post_URL  \\\n",
       "0  https://ikman.lk/en/ad/yamaha-sy-77-music-synt...   \n",
       "1  https://ikman.lk/en/ad/srx-718-bass-bin-pair-f...   \n",
       "2  https://ikman.lk/en/ad/piano-malcom-mendis-pia...   \n",
       "3  https://ikman.lk/en/ad/yamaha-semi-acoustic-gu...   \n",
       "4  https://ikman.lk/en/ad/yamaha-guitar-ex-for-sa...   \n",
       "\n",
       "                                         Seller_name Seller_type  \\\n",
       "0                           Seven Star International      Member   \n",
       "1                                Sasiru Super Sonics      Member   \n",
       "2  Sell Fast | à¶à¶³à·à¶± | MCI Ikman à¶¯à·à¶±...      Member   \n",
       "3                                   Tiran Rathnayaka      Member   \n",
       "4                                             shiran      Member   \n",
       "\n",
       "       published_date  Price_value Neigborhood     City  \n",
       "0 2021-10-04 19:11:00        39000      Ja-Ela  Gampaha  \n",
       "1 2021-10-10 19:54:00        77500   Kadawatha  Gampaha  \n",
       "2 2021-10-13 12:43:00       130000     Kandana  Gampaha  \n",
       "3 2021-10-13 12:44:00        36000  Rajagiriya  Colombo  \n",
       "4 2021-10-13 12:06:00        35000     Delgoda  Gampaha  "
      ]
     },
     "execution_count": 7,
     "metadata": {},
     "output_type": "execute_result"
    }
   ],
   "source": [
    "def getLocation(location, option=\"city\"):\n",
    "    locdata = location.split(\",\")\n",
    "    if option == \"city\":\n",
    "        return locdata[1].strip()\n",
    "    elif option == \"neighborhood\":\n",
    "        return locdata[0].strip()\n",
    "    else:\n",
    "        return np.nan\n",
    "\n",
    "print(getLocation(\"Rajagiriya, Colombo\", \"city\"))\n",
    "df[[\"Neigborhood\", \"City\"]] = df['Location'].apply(lambda x: pd.Series([getLocation(x,\"neighborhood\"),getLocation(x,\"city\")]))\n",
    "df.drop([\"Location\"],axis=1, inplace=True)\n",
    "df.head()"
   ]
  },
  {
   "cell_type": "markdown",
   "id": "ce493335",
   "metadata": {},
   "source": [
    "**Title**<br>\n",
    "We can see that text fields are filled with strange characters. # If we take a look at the \"Description\" column, we will see some weird characters mixed with the text"
   ]
  },
  {
   "cell_type": "code",
   "execution_count": 8,
   "id": "5e6a5dd4",
   "metadata": {},
   "outputs": [
    {
     "data": {
      "text/plain": [
       "\"Â°â\\x80¢Â°Sri Lanka's Largest Digital Piano SellerÂ°â\\x80¢Â° Â°â\\x80¢Â° Direct Imported Â°â\\x80¢Â° Fully Functional and ready to Use Â°â\\x80¢Â° Cosmetics : 10/10Â°â\\x80¢Â° Ideal for an Hotelier or For an keen learner.Â°â\\x80¢Â° 6 months of  WarrantyÂ°â\\x80¢Â° Furnished to the OptimumÂ°â\\x80¢Â° At Brand New Conditionâ\\x80¢Â°â\\x80¢ The Art of Honour Lasting Values Â® â\\x80¢Â°â\\x80¢\""
      ]
     },
     "execution_count": 8,
     "metadata": {},
     "output_type": "execute_result"
    }
   ],
   "source": [
    "# Let's se an example:\n",
    "badtext = df.iloc[0].Description\n",
    "badtext"
   ]
  },
  {
   "cell_type": "code",
   "execution_count": 9,
   "id": "c7b0fe82",
   "metadata": {},
   "outputs": [
    {
     "data": {
      "text/plain": [
       "\"Sri Lanka's Largest Digital Piano Seller  Direct Imported  Fully Functional and ready to Use  Cosmetics : 10/10 Ideal for an Hotelier or For an keen learner. 6 months of  Warranty Furnished to the Optimum At Brand New Condition The Art of Honour Lasting Values  \""
      ]
     },
     "execution_count": 9,
     "metadata": {},
     "output_type": "execute_result"
    }
   ],
   "source": [
    "# We are going to make a list of the characters we want to remove and then\n",
    "# we will create a function that will replace those characters with an empty string\n",
    "\n",
    "badchars = [\"Â\",\"\\x80¢\",\"°\",\"â\",\"®\",\"¡\",\"à\", \"¶\",\"±\", \"ð\"]\n",
    "\n",
    "def cleanText(text, badchar_list):\n",
    "    newtext = text\n",
    "    for char in badchar_list:\n",
    "        newtext = newtext.replace(char,\"\")\n",
    "    return newtext\n",
    "\n",
    "# In this example we se many of the characters dissapearing, but most of\n",
    "# the description entries are full of added substrings with seemingly random\n",
    "# patterns, so it is difficult to easyly clean them all with a simple script.\n",
    "\n",
    "goodtext = cleanText(badtext, badchars)\n",
    "goodtext"
   ]
  },
  {
   "cell_type": "code",
   "execution_count": 10,
   "id": "20b846cc",
   "metadata": {},
   "outputs": [],
   "source": [
    "# We apply the changes to the dataframe\n",
    "df[\"Description\"] = df[\"Description\"].apply(lambda x: cleanText(x, badchars))\n",
    "df[\"Title\"] = df[\"Title\"].apply(lambda x: cleanText(x, badchars))"
   ]
  },
  {
   "cell_type": "markdown",
   "id": "a68c325d",
   "metadata": {},
   "source": [
    "But, even though this cleans some of the fields, there are many that are plain unusable. Most of the descriptions are filleds with strange characters, but only a few title fields are completely unusable. We can se it is only about 70 entries:"
   ]
  },
  {
   "cell_type": "code",
   "execution_count": 11,
   "id": "6fc5a959",
   "metadata": {},
   "outputs": [
    {
     "data": {
      "text/html": [
       "<div>\n",
       "<style scoped>\n",
       "    .dataframe tbody tr th:only-of-type {\n",
       "        vertical-align: middle;\n",
       "    }\n",
       "\n",
       "    .dataframe tbody tr th {\n",
       "        vertical-align: top;\n",
       "    }\n",
       "\n",
       "    .dataframe thead th {\n",
       "        text-align: right;\n",
       "    }\n",
       "</style>\n",
       "<table border=\"1\" class=\"dataframe\">\n",
       "  <thead>\n",
       "    <tr style=\"text-align: right;\">\n",
       "      <th></th>\n",
       "      <th>Title</th>\n",
       "      <th>Description</th>\n",
       "    </tr>\n",
       "  </thead>\n",
       "  <tbody>\n",
       "    <tr>\n",
       "      <th>2417</th>\n",
       "      <td>··½ ",
       "»§· ·§ ·» for sale</td>\n",
       "      <td>··½ ",
       "»§···· ·¸ » ½¯ ·§ ·»....  ··...</td>\n",
       "    </tr>\n",
       "    <tr>\n",
       "      <th>3158</th>\n",
       "      <td>···",
       " ·§ ·» for sale</td>\n",
       "      <td>§ ",
       "···º ···",
       ",···¹,¸·½·½ ,··,...</td>\n",
       "    </tr>\n",
       "    <tr>\n",
       "      <th>4548</th>\n",
       "      <td>½·­·· ·· ½¯ MP3 TRACKS for sale</td>\n",
       "      <td>· ·­ ·º ···¯·····¯º ·¯·· 201...</td>\n",
       "    </tr>\n",
       "    <tr>\n",
       "      <th>2490</th>\n",
       "      <td>½·­·¸ ·§·»· for sale</td>\n",
       "      <td>½·­· ···· ·§·»·,··©·,·º½··,...</td>\n",
       "    </tr>\n",
       "    <tr>\n",
       "      <th>150</th>\n",
       "      <td>½· 15 ··½· §·´· for sale</td>\n",
       "      <td>··¯§¸ ­·º··",
       "½· 15 ··½· §·´· ¯·...</td>\n",
       "    </tr>\n",
       "    <tr>\n",
       "      <th>4532</th>\n",
       "      <td>½· 15 §·´· 2 · for sale</td>\n",
       "      <td>··´·»·º§¸ ­.",
       "½· 15 ·½· 2 ·</td>\n",
       "    </tr>\n",
       "    <tr>\n",
       "      <th>4992</th>\n",
       "      <td>FERNANDES 4 String Bass Guitar for sale</td>\n",
       "      <td>··¯§¸ ­·º···. normal volume control 3·...</td>\n",
       "    </tr>\n",
       "    <tr>\n",
       "      <th>3140</th>\n",
       "      <td>yamaha wireless mic for sale</td>\n",
       "      <td>Brand newWireless mic</td>\n",
       "    </tr>\n",
       "    <tr>\n",
       "      <th>136</th>\n",
       "      <td>yamaha stage custom for sale</td>\n",
       "      <td>Import yamaha stage custom sell pack Good soun...</td>\n",
       "    </tr>\n",
       "    <tr>\n",
       "      <th>3870</th>\n",
       "      <td>yamaha speakers for sale</td>\n",
       "      <td>Brand new condition</td>\n",
       "    </tr>\n",
       "    <tr>\n",
       "      <th>2486</th>\n",
       "      <td>yamaha psr2000 for sale</td>\n",
       "      <td>all keyboards are not in working condition.goo...</td>\n",
       "    </tr>\n",
       "    <tr>\n",
       "      <th>2072</th>\n",
       "      <td>yamaha psr e 463 for sale</td>\n",
       "      <td>Brand new conditionUsb midi track playAudio re...</td>\n",
       "    </tr>\n",
       "    <tr>\n",
       "      <th>3540</th>\n",
       "      <td>yamaha psr e 403 for sale</td>\n",
       "      <td>··¯¸ ­­··º· ­Manual, software cd  ­</td>\n",
       "    </tr>\n",
       "    <tr>\n",
       "      <th>1230</th>\n",
       "      <td>yamaha piano for sale</td>\n",
       "      <td>Yamaha piano for saleGood condition Call for m...</td>\n",
       "    </tr>\n",
       "    <tr>\n",
       "      <th>2866</th>\n",
       "      <td>yamaha pasifica 112j for sale</td>\n",
       "      <td>Giurat eke middel pic up eka weda na</td>\n",
       "    </tr>\n",
       "  </tbody>\n",
       "</table>\n",
       "</div>"
      ],
      "text/plain": [
       "                                          Title  \\\n",
       "2417             ··½ \n",
       "»§· ·§ ·» for sale   \n",
       "3158                  ···\n",
       " ·§ ·» for sale   \n",
       "4548     \n",
       "½·­·· ·· ½¯ MP3 TRACKS for sale   \n",
       "2490                \n",
       "½·­·¸ ·§·»· for sale   \n",
       "150          \n",
       "½· 15 ··½· §·´· for sale   \n",
       "4532            \n",
       "½· 15 §·´· 2 · for sale   \n",
       "4992  FERNANDES 4 String Bass Guitar for sale   \n",
       "3140               yamaha wireless mic for sale   \n",
       "136                yamaha stage custom for sale   \n",
       "3870                   yamaha speakers for sale   \n",
       "2486                    yamaha psr2000 for sale   \n",
       "2072                  yamaha psr e 463 for sale   \n",
       "3540                  yamaha psr e 403 for sale   \n",
       "1230                      yamaha piano for sale   \n",
       "2866              yamaha pasifica 112j for sale   \n",
       "\n",
       "                                            Description  \n",
       "2417  ··½ \n",
       "»§···· ·¸ » ½¯ ·§ ·»....  ··...  \n",
       "3158  § \n",
       "···º ···\n",
       ",···¹,¸·½·½ ,··,...  \n",
       "4548  · ·­ ·º ···¯·····¯º ·¯·· 201...  \n",
       "2490  \n",
       "½·­· ···· ·§·»·,··©·,·º½··,...  \n",
       "150   ··¯§¸ ­·º··\n",
       "½· 15 ··½· §·´· ¯·...  \n",
       "4532             ··´·»·º§¸ ­.\n",
       "½· 15 ·½· 2 ·  \n",
       "4992  ··¯§¸ ­·º···. normal volume control 3·...  \n",
       "3140                              Brand newWireless mic  \n",
       "136   Import yamaha stage custom sell pack Good soun...  \n",
       "3870                                Brand new condition  \n",
       "2486  all keyboards are not in working condition.goo...  \n",
       "2072  Brand new conditionUsb midi track playAudio re...  \n",
       "3540         ··¯¸ ­­··º· ­Manual, software cd  ­  \n",
       "1230  Yamaha piano for saleGood condition Call for m...  \n",
       "2866               Giurat eke middel pic up eka weda na  "
      ]
     },
     "execution_count": 11,
     "metadata": {},
     "output_type": "execute_result"
    }
   ],
   "source": [
    "# Those rows cannot be used, so we drop them\n",
    "df = df.sort_values([\"Title\"], ascending=False)\n",
    "df[[\"Title\", \"Description\"]].iloc[60:75]"
   ]
  },
  {
   "cell_type": "code",
   "execution_count": 12,
   "id": "c1edae12",
   "metadata": {},
   "outputs": [
    {
     "data": {
      "text/html": [
       "<div>\n",
       "<style scoped>\n",
       "    .dataframe tbody tr th:only-of-type {\n",
       "        vertical-align: middle;\n",
       "    }\n",
       "\n",
       "    .dataframe tbody tr th {\n",
       "        vertical-align: top;\n",
       "    }\n",
       "\n",
       "    .dataframe thead th {\n",
       "        text-align: right;\n",
       "    }\n",
       "</style>\n",
       "<table border=\"1\" class=\"dataframe\">\n",
       "  <thead>\n",
       "    <tr style=\"text-align: right;\">\n",
       "      <th></th>\n",
       "      <th>Title</th>\n",
       "      <th>Description</th>\n",
       "    </tr>\n",
       "  </thead>\n",
       "  <tbody>\n",
       "    <tr>\n",
       "      <th>2486</th>\n",
       "      <td>yamaha psr2000 for sale</td>\n",
       "      <td>all keyboards are not in working condition.goo...</td>\n",
       "    </tr>\n",
       "    <tr>\n",
       "      <th>2072</th>\n",
       "      <td>yamaha psr e 463 for sale</td>\n",
       "      <td>Brand new conditionUsb midi track playAudio re...</td>\n",
       "    </tr>\n",
       "    <tr>\n",
       "      <th>3540</th>\n",
       "      <td>yamaha psr e 403 for sale</td>\n",
       "      <td>··¯¸ ­­··º· ­Manual, software cd  ­</td>\n",
       "    </tr>\n",
       "    <tr>\n",
       "      <th>1230</th>\n",
       "      <td>yamaha piano for sale</td>\n",
       "      <td>Yamaha piano for saleGood condition Call for m...</td>\n",
       "    </tr>\n",
       "    <tr>\n",
       "      <th>2866</th>\n",
       "      <td>yamaha pasifica 112j for sale</td>\n",
       "      <td>Giurat eke middel pic up eka weda na</td>\n",
       "    </tr>\n",
       "    <tr>\n",
       "      <th>1884</th>\n",
       "      <td>yamaha mixer 6 chanel for sale</td>\n",
       "      <td>yamaha mixer 6 chanelorginel japan use japan f...</td>\n",
       "    </tr>\n",
       "    <tr>\n",
       "      <th>1051</th>\n",
       "      <td>yamaha hs 8 for sale</td>\n",
       "      <td>yamaha hs 8 from USA Brand new condition 100%</td>\n",
       "    </tr>\n",
       "    <tr>\n",
       "      <th>3982</th>\n",
       "      <td>yamaha double top speakers for sale</td>\n",
       "      <td>Super quality soundsGood low Perfect for outdo...</td>\n",
       "    </tr>\n",
       "    <tr>\n",
       "      <th>2144</th>\n",
       "      <td>yamaha csr225 for sale</td>\n",
       "      <td>No errorsGood condition full set</td>\n",
       "    </tr>\n",
       "    <tr>\n",
       "      <th>2024</th>\n",
       "      <td>yamaha bbn5 japan bass Guitar for sale</td>\n",
       "      <td>yamaha bbn5 japan bass Guitarfrom japan</td>\n",
       "    </tr>\n",
       "  </tbody>\n",
       "</table>\n",
       "</div>"
      ],
      "text/plain": [
       "                                       Title  \\\n",
       "2486                 yamaha psr2000 for sale   \n",
       "2072               yamaha psr e 463 for sale   \n",
       "3540               yamaha psr e 403 for sale   \n",
       "1230                   yamaha piano for sale   \n",
       "2866           yamaha pasifica 112j for sale   \n",
       "1884          yamaha mixer 6 chanel for sale   \n",
       "1051                    yamaha hs 8 for sale   \n",
       "3982     yamaha double top speakers for sale   \n",
       "2144                  yamaha csr225 for sale   \n",
       "2024  yamaha bbn5 japan bass Guitar for sale   \n",
       "\n",
       "                                            Description  \n",
       "2486  all keyboards are not in working condition.goo...  \n",
       "2072  Brand new conditionUsb midi track playAudio re...  \n",
       "3540         ··¯¸ ­­··º· ­Manual, software cd  ­  \n",
       "1230  Yamaha piano for saleGood condition Call for m...  \n",
       "2866               Giurat eke middel pic up eka weda na  \n",
       "1884  yamaha mixer 6 chanelorginel japan use japan f...  \n",
       "1051      yamaha hs 8 from USA Brand new condition 100%  \n",
       "3982  Super quality soundsGood low Perfect for outdo...  \n",
       "2144                   No errorsGood condition full set  \n",
       "2024            yamaha bbn5 japan bass Guitarfrom japan  "
      ]
     },
     "execution_count": 12,
     "metadata": {},
     "output_type": "execute_result"
    }
   ],
   "source": [
    "df.drop(df.index[:70], inplace=True)\n",
    "df[[\"Title\", \"Description\"]].iloc[:10]"
   ]
  },
  {
   "cell_type": "markdown",
   "id": "bf1f303d",
   "metadata": {},
   "source": [
    "Everything looks fine, but whe see the irrelevan phrase \"for sale\" in most of the titles. We are going to remove it before going on."
   ]
  },
  {
   "cell_type": "code",
   "execution_count": 13,
   "id": "a94796f0",
   "metadata": {},
   "outputs": [
    {
     "data": {
      "text/plain": [
       "2486                   yamaha psr2000\n",
       "2072                 yamaha psr e 463\n",
       "3540                 yamaha psr e 403\n",
       "1230                     yamaha piano\n",
       "2866             yamaha pasifica 112j\n",
       "1884            yamaha mixer 6 chanel\n",
       "1051                      yamaha hs 8\n",
       "3982       yamaha double top speakers\n",
       "2144                    yamaha csr225\n",
       "2024    yamaha bbn5 japan bass Guitar\n",
       "Name: Title, dtype: object"
      ]
     },
     "execution_count": 13,
     "metadata": {},
     "output_type": "execute_result"
    }
   ],
   "source": [
    "def removeIrrelevantSubstring(string,substring):\n",
    "    return string.replace(substring,\"\")\n",
    "\n",
    "df[\"Title\"] = df[\"Title\"].apply(lambda x: removeIrrelevantSubstring(x, \" for sale\"))\n",
    "\n",
    "# Check that the substring is gone\n",
    "df[\"Title\"].iloc[:10]"
   ]
  },
  {
   "cell_type": "code",
   "execution_count": 14,
   "id": "cbccd9d2",
   "metadata": {},
   "outputs": [],
   "source": [
    "# We saved the processed data\n",
    "# df.to_csv(\"processed-data.csv\")"
   ]
  },
  {
   "cell_type": "markdown",
   "id": "d8be00fb",
   "metadata": {},
   "source": [
    "## Data Expansion\n",
    "\n",
    "We have a title variable that, contains a short text describing the product. It would be interesting to be able to identify if the product is an instrument or an accesory and, ideally, to get the name of the item. That would allow us to perform a deeper analisis, detecting trends on items itself and no only broad categories."
   ]
  },
  {
   "cell_type": "markdown",
   "id": "03f5e0a3",
   "metadata": {},
   "source": [
    "### Guessing the instrument"
   ]
  },
  {
   "cell_type": "code",
   "execution_count": 15,
   "id": "d6850a91",
   "metadata": {},
   "outputs": [],
   "source": [
    "# As a simple first approach, we are going to use a list of common instruments\n",
    "# and we are going to check for each instrument in each title text\n",
    "\n",
    "import json\n",
    "\n",
    "def guessInstrument(text):\n",
    "    with open(\"resources/instruments_names.json\") as file:\n",
    "        data = json.load(file)\n",
    "    instrument = np.nan\n",
    "    for name in data[\"instruments\"]:\n",
    "        if name.upper() in text.upper():\n",
    "            return name.capitalize()\n",
    "    return instrument\n"
   ]
  },
  {
   "cell_type": "code",
   "execution_count": 16,
   "id": "884c2cc2",
   "metadata": {},
   "outputs": [
    {
     "name": "stdout",
     "output_type": "stream",
     "text": [
      "43.86894251520502  % of the instruments have been guessed from the title\n",
      "\n",
      "<class 'pandas.core.frame.DataFrame'>\n",
      "Int64Index: 5097 entries, 2486 to 2808\n",
      "Data columns (total 1 columns):\n",
      " #   Column      Non-Null Count  Dtype \n",
      "---  ------      --------------  ----- \n",
      " 0   Instrument  2236 non-null   object\n",
      "dtypes: object(1)\n",
      "memory usage: 79.6+ KB\n"
     ]
    }
   ],
   "source": [
    "df[\"Instrument\"] = df.apply(lambda row: guessInstrument(row[\"Title\"]), axis=1)\n",
    "print(100 * int(df[[\"Instrument\"]].count()) /int(df[[\"Title\"]].count()),\" % of the instruments have been guessed from the title\\n\")\n",
    "df[[\"Instrument\"]].info()"
   ]
  },
  {
   "cell_type": "code",
   "execution_count": 17,
   "id": "e4b95f8e",
   "metadata": {
    "scrolled": true
   },
   "outputs": [
    {
     "data": {
      "text/html": [
       "<div>\n",
       "<style scoped>\n",
       "    .dataframe tbody tr th:only-of-type {\n",
       "        vertical-align: middle;\n",
       "    }\n",
       "\n",
       "    .dataframe tbody tr th {\n",
       "        vertical-align: top;\n",
       "    }\n",
       "\n",
       "    .dataframe thead th {\n",
       "        text-align: right;\n",
       "    }\n",
       "</style>\n",
       "<table border=\"1\" class=\"dataframe\">\n",
       "  <thead>\n",
       "    <tr style=\"text-align: right;\">\n",
       "      <th></th>\n",
       "      <th>Title</th>\n",
       "      <th>Instrument</th>\n",
       "      <th>Description</th>\n",
       "    </tr>\n",
       "  </thead>\n",
       "  <tbody>\n",
       "    <tr>\n",
       "      <th>0</th>\n",
       "      <td>Yamaha (SY-77) Music Synthesizer</td>\n",
       "      <td>Synthesizer</td>\n",
       "      <td>Sri Lanka's Largest Digital Piano Seller  Dire...</td>\n",
       "    </tr>\n",
       "    <tr>\n",
       "      <th>2</th>\n",
       "      <td>Piano (Malcom Mendis Piano)</td>\n",
       "      <td>Piano</td>\n",
       "      <td>Sri Lanka's Biggest Piano Sale, Reasonable pri...</td>\n",
       "    </tr>\n",
       "    <tr>\n",
       "      <th>3</th>\n",
       "      <td>Yamaha Semi Acoustic Guitars</td>\n",
       "      <td>Guitar</td>\n",
       "      <td>Yamaha semi acoustic guitar.  Model- FX310A. B...</td>\n",
       "    </tr>\n",
       "    <tr>\n",
       "      <th>4</th>\n",
       "      <td>Yamaha Guitar</td>\n",
       "      <td>Guitar</td>\n",
       "      <td>Yamaha fG-151 Made in Japan Good condition Goo...</td>\n",
       "    </tr>\n",
       "    <tr>\n",
       "      <th>5</th>\n",
       "      <td>Violin</td>\n",
       "      <td>Violin</td>\n",
       "      <td>Brand new ConditionFull set With BoxBrand - Ne...</td>\n",
       "    </tr>\n",
       "  </tbody>\n",
       "</table>\n",
       "</div>"
      ],
      "text/plain": [
       "                              Title   Instrument  \\\n",
       "0  Yamaha (SY-77) Music Synthesizer  Synthesizer   \n",
       "2       Piano (Malcom Mendis Piano)        Piano   \n",
       "3      Yamaha Semi Acoustic Guitars       Guitar   \n",
       "4                     Yamaha Guitar       Guitar   \n",
       "5                            Violin       Violin   \n",
       "\n",
       "                                         Description  \n",
       "0  Sri Lanka's Largest Digital Piano Seller  Dire...  \n",
       "2  Sri Lanka's Biggest Piano Sale, Reasonable pri...  \n",
       "3  Yamaha semi acoustic guitar.  Model- FX310A. B...  \n",
       "4  Yamaha fG-151 Made in Japan Good condition Goo...  \n",
       "5  Brand new ConditionFull set With BoxBrand - Ne...  "
      ]
     },
     "execution_count": 17,
     "metadata": {},
     "output_type": "execute_result"
    }
   ],
   "source": [
    "df.sort_index(inplace=True)\n",
    "df[df.Instrument.notnull()][[\"Title\", \"Instrument\",\"Description\"]].head()"
   ]
  },
  {
   "cell_type": "code",
   "execution_count": 18,
   "id": "403ba4b2",
   "metadata": {},
   "outputs": [
    {
     "name": "stdout",
     "output_type": "stream",
     "text": [
      "This are the Instrumets that where identified:\n",
      "\n"
     ]
    },
    {
     "data": {
      "text/plain": [
       "array(['Synthesizer', nan, 'Piano', 'Guitar', 'Violin', 'Melodica',\n",
       "       'Sarpina', 'Drum', 'Keyboard', 'Bass guitar', 'Saxaphone', 'Flute',\n",
       "       'Cello', 'Mandolin', 'Clarinet', 'Ukulele', 'Harp', 'Sitar',\n",
       "       'Grand piano', 'Viola', 'Tambourine', 'Accordian', 'Glockenspiel',\n",
       "       'Harmonica', 'Trombone'], dtype=object)"
      ]
     },
     "execution_count": 18,
     "metadata": {},
     "output_type": "execute_result"
    }
   ],
   "source": [
    "print (\"This are the Instrumets that where identified:\\n\")\n",
    "df.Instrument.unique()"
   ]
  },
  {
   "cell_type": "markdown",
   "id": "d793c032",
   "metadata": {},
   "source": [
    "We can see that, even though we got the mentioned instrument right, we still don't know if the product is the instrument itself or some related product (accessory, part, etc). But at least we know the instrument, wich is progress. Let's continue by analizing some of the entries that where missed"
   ]
  },
  {
   "cell_type": "code",
   "execution_count": 19,
   "id": "e6bfed13",
   "metadata": {},
   "outputs": [
    {
     "data": {
      "text/html": [
       "<div>\n",
       "<style scoped>\n",
       "    .dataframe tbody tr th:only-of-type {\n",
       "        vertical-align: middle;\n",
       "    }\n",
       "\n",
       "    .dataframe tbody tr th {\n",
       "        vertical-align: top;\n",
       "    }\n",
       "\n",
       "    .dataframe thead th {\n",
       "        text-align: right;\n",
       "    }\n",
       "</style>\n",
       "<table border=\"1\" class=\"dataframe\">\n",
       "  <thead>\n",
       "    <tr style=\"text-align: right;\">\n",
       "      <th></th>\n",
       "      <th>Title</th>\n",
       "      <th>Instrument</th>\n",
       "      <th>Description</th>\n",
       "    </tr>\n",
       "  </thead>\n",
       "  <tbody>\n",
       "    <tr>\n",
       "      <th>1</th>\n",
       "      <td>SRX-718 BASS BIN (PAIR)</td>\n",
       "      <td>NaN</td>\n",
       "      <td>Watts 3200Treated Plywood</td>\n",
       "    </tr>\n",
       "    <tr>\n",
       "      <th>6</th>\n",
       "      <td>Expnsoin Card Xp 30.50.60.80</td>\n",
       "      <td>NaN</td>\n",
       "      <td>brand new thiyenawa niyama tons set thiyenawa ...</td>\n",
       "    </tr>\n",
       "    <tr>\n",
       "      <th>16</th>\n",
       "      <td>Crossover X Pro</td>\n",
       "      <td>NaN</td>\n",
       "      <td>Crossover X Pro</td>\n",
       "    </tr>\n",
       "    <tr>\n",
       "      <th>17</th>\n",
       "      <td>10\" / 12\" 14\" cymbals plates</td>\n",
       "      <td>NaN</td>\n",
       "      <td>10- Rs.1800/=12- Rs. 2700/=14 - Rs.3200/=Brand...</td>\n",
       "    </tr>\n",
       "    <tr>\n",
       "      <th>19</th>\n",
       "      <td>Duble Top</td>\n",
       "      <td>NaN</td>\n",
       "      <td>Hodama thathvaye atha  no  speaker repiar   75...</td>\n",
       "    </tr>\n",
       "  </tbody>\n",
       "</table>\n",
       "</div>"
      ],
      "text/plain": [
       "                           Title Instrument  \\\n",
       "1        SRX-718 BASS BIN (PAIR)        NaN   \n",
       "6   Expnsoin Card Xp 30.50.60.80        NaN   \n",
       "16               Crossover X Pro        NaN   \n",
       "17  10\" / 12\" 14\" cymbals plates        NaN   \n",
       "19                     Duble Top        NaN   \n",
       "\n",
       "                                          Description  \n",
       "1                           Watts 3200Treated Plywood  \n",
       "6   brand new thiyenawa niyama tons set thiyenawa ...  \n",
       "16                                    Crossover X Pro  \n",
       "17  10- Rs.1800/=12- Rs. 2700/=14 - Rs.3200/=Brand...  \n",
       "19  Hodama thathvaye atha  no  speaker repiar   75...  "
      ]
     },
     "execution_count": 19,
     "metadata": {},
     "output_type": "execute_result"
    }
   ],
   "source": [
    "df[df.Instrument.isnull()][[\"Title\", \"Instrument\",\"Description\"]].head()"
   ]
  },
  {
   "cell_type": "markdown",
   "id": "bf0c03b9",
   "metadata": {},
   "source": [
    "### Guessing the Brand"
   ]
  },
  {
   "cell_type": "markdown",
   "id": "6b6c0548",
   "metadata": {},
   "source": [
    "This website (https://www.americanmusical.com/BrandList.aspx) contains a broad list of companies that comercialize musical instruments. The list was copyied and pasted on a text file. Since it is a list of links, other elements were copied aswell, so the list needs to be cleaned fist."
   ]
  },
  {
   "cell_type": "code",
   "execution_count": 20,
   "id": "15cb74c2",
   "metadata": {},
   "outputs": [],
   "source": [
    "# The following lines show the process followed to obtain the brand names from the txt\n",
    "\n",
    "#with open(\"resources/instrument_brands_list.txt\") as file:\n",
    "#    data = file.read().replace(\"\\n\",\"\")\n",
    "#result = ''.join([i for i in data if not i.isdigit()])\n",
    "#result = result.replace(\" items()\", \",\")\n",
    "#result = result.replace(\" item()\", \",\")\n",
    "#brandlist = result.split(\",\")\n",
    "#brandlist = list(filter(lambda a: a != \"\", brandlist))\n",
    "#brands = {\"Description\":\"Musical Instruments Brands\",\"Brands\":brandlist}\n",
    "#print(brands)\n",
    "\n",
    "#Write this into a JSON\n",
    "#with open('resources/brands.json', 'w') as fp:\n",
    "#    json.dump(brands, fp)"
   ]
  },
  {
   "cell_type": "code",
   "execution_count": 21,
   "id": "4cd91f98",
   "metadata": {},
   "outputs": [
    {
     "name": "stdout",
     "output_type": "stream",
     "text": [
      "34.490876986462624  % of the brands have been guessed from the title\n",
      "\n",
      "<class 'pandas.core.frame.DataFrame'>\n",
      "Int64Index: 5097 entries, 0 to 5166\n",
      "Data columns (total 1 columns):\n",
      " #   Column  Non-Null Count  Dtype \n",
      "---  ------  --------------  ----- \n",
      " 0   Brand   1758 non-null   object\n",
      "dtypes: object(1)\n",
      "memory usage: 79.6+ KB\n"
     ]
    }
   ],
   "source": [
    "def guessBrand(text):\n",
    "    with open(\"resources/Brands.json\") as file:\n",
    "        data = json.load(file)\n",
    "    brand = np.nan\n",
    "    for name in data[\"Brands\"]:\n",
    "        if name.upper() in text.upper():\n",
    "            return name.capitalize()\n",
    "    return brand\n",
    "\n",
    "\n",
    "df[\"Brand\"] = df.apply(lambda row: guessBrand(row[\"Title\"]), axis=1)\n",
    "\n",
    "print(100 * int(df[[\"Brand\"]].count()) /int(df[[\"Title\"]].count()),\" % of the brands have been guessed from the title\\n\")\n",
    "df[[\"Brand\"]].info()"
   ]
  },
  {
   "cell_type": "code",
   "execution_count": 22,
   "id": "739e138e",
   "metadata": {},
   "outputs": [
    {
     "data": {
      "text/html": [
       "<div>\n",
       "<style scoped>\n",
       "    .dataframe tbody tr th:only-of-type {\n",
       "        vertical-align: middle;\n",
       "    }\n",
       "\n",
       "    .dataframe tbody tr th {\n",
       "        vertical-align: top;\n",
       "    }\n",
       "\n",
       "    .dataframe thead th {\n",
       "        text-align: right;\n",
       "    }\n",
       "</style>\n",
       "<table border=\"1\" class=\"dataframe\">\n",
       "  <thead>\n",
       "    <tr style=\"text-align: right;\">\n",
       "      <th></th>\n",
       "      <th>Title</th>\n",
       "      <th>Instrument</th>\n",
       "      <th>Description</th>\n",
       "      <th>Brand</th>\n",
       "    </tr>\n",
       "  </thead>\n",
       "  <tbody>\n",
       "    <tr>\n",
       "      <th>0</th>\n",
       "      <td>Yamaha (SY-77) Music Synthesizer</td>\n",
       "      <td>Synthesizer</td>\n",
       "      <td>Sri Lanka's Largest Digital Piano Seller  Dire...</td>\n",
       "      <td>Yamaha</td>\n",
       "    </tr>\n",
       "    <tr>\n",
       "      <th>3</th>\n",
       "      <td>Yamaha Semi Acoustic Guitars</td>\n",
       "      <td>Guitar</td>\n",
       "      <td>Yamaha semi acoustic guitar.  Model- FX310A. B...</td>\n",
       "      <td>Yamaha</td>\n",
       "    </tr>\n",
       "    <tr>\n",
       "      <th>4</th>\n",
       "      <td>Yamaha Guitar</td>\n",
       "      <td>Guitar</td>\n",
       "      <td>Yamaha fG-151 Made in Japan Good condition Goo...</td>\n",
       "      <td>Yamaha</td>\n",
       "    </tr>\n",
       "    <tr>\n",
       "      <th>11</th>\n",
       "      <td>Fender 41\" box guitar</td>\n",
       "      <td>Guitar</td>\n",
       "      <td>Perfect sound and toneF cut model Brand new Is...</td>\n",
       "      <td>Fender</td>\n",
       "    </tr>\n",
       "    <tr>\n",
       "      <th>20</th>\n",
       "      <td>Yamaha PSR 433 Keyboard</td>\n",
       "      <td>Keyboard</td>\n",
       "      <td>Yamaha Organ in good condition with Hercules a...</td>\n",
       "      <td>Yamaha</td>\n",
       "    </tr>\n",
       "  </tbody>\n",
       "</table>\n",
       "</div>"
      ],
      "text/plain": [
       "                               Title   Instrument  \\\n",
       "0   Yamaha (SY-77) Music Synthesizer  Synthesizer   \n",
       "3       Yamaha Semi Acoustic Guitars       Guitar   \n",
       "4                      Yamaha Guitar       Guitar   \n",
       "11             Fender 41\" box guitar       Guitar   \n",
       "20           Yamaha PSR 433 Keyboard     Keyboard   \n",
       "\n",
       "                                          Description   Brand  \n",
       "0   Sri Lanka's Largest Digital Piano Seller  Dire...  Yamaha  \n",
       "3   Yamaha semi acoustic guitar.  Model- FX310A. B...  Yamaha  \n",
       "4   Yamaha fG-151 Made in Japan Good condition Goo...  Yamaha  \n",
       "11  Perfect sound and toneF cut model Brand new Is...  Fender  \n",
       "20  Yamaha Organ in good condition with Hercules a...  Yamaha  "
      ]
     },
     "execution_count": 22,
     "metadata": {},
     "output_type": "execute_result"
    }
   ],
   "source": [
    "df[df.Brand.notnull()][[\"Title\", \"Instrument\", \"Description\", \"Brand\"]].head()"
   ]
  },
  {
   "cell_type": "code",
   "execution_count": 23,
   "id": "2dfb1440",
   "metadata": {},
   "outputs": [
    {
     "data": {
      "text/plain": [
       "array(['Yamaha', nan, 'Fender', 'Boss', 'Emg', 'Ibanez', 'Roland',\n",
       "       'Numark', ' audio', 'Art', 'Zoom', 'Ams', 'Korg', 'Rme',\n",
       "       'Behringer', 'Fishman', 'Jbl', 'Pioneer', 'Casio', 'Crown',\n",
       "       'Shure', 'Marshall', 'Zildjian', 'Dbx', 'Sennheiser', 'Pearl',\n",
       "       'Tama', 'Soundcraft', 'Epiphone', 'M-audio', 'Sabian', 'Rcf',\n",
       "       'Gemini', 'Tascam', 'Peavey', 'Access', 'Line ', 'Nord', 'Rode',\n",
       "       'Mapex', 'Sony', 'Alesis', 'Nux', 'Remo', 'Akg', 'Takamine',\n",
       "       'Luna', 'Vox', 'Digitech', 'Cme', 'Jackson', \"D'addario\", 'Hohner',\n",
       "       'Bose', 'Medeli', 'Esp', 'Novation', 'Lakland', 'Mackie', 'Evans',\n",
       "       'Denon dj', 'Kawai', 'Washburn', 'Qsc', 'Electro voice', 'Ampeg',\n",
       "       'Paiste', 'Warwick', 'Matrix', 'Audix', 'Randall', 'Nektar',\n",
       "       'Apogee', 'Neutrik', 'Mxr', 'Reloop', 'Prs', 'Skb', 'Gibson',\n",
       "       'Gth', 'Gator', 'Lexicon', 'Genelec', 'Laney', 'Rane', 'Dunlop',\n",
       "       'Native instruments', 'Presonus', 'Tc helicon', 'Eminence',\n",
       "       'Celestion', 'Kickport', 'Meinl', 'Roli', 'Kramer', 'Ludwig',\n",
       "       'Pedaltrain'], dtype=object)"
      ]
     },
     "execution_count": 23,
     "metadata": {},
     "output_type": "execute_result"
    }
   ],
   "source": [
    "df.Brand.unique()"
   ]
  },
  {
   "cell_type": "code",
   "execution_count": 24,
   "id": "f3d94233",
   "metadata": {},
   "outputs": [
    {
     "data": {
      "text/html": [
       "<div>\n",
       "<style scoped>\n",
       "    .dataframe tbody tr th:only-of-type {\n",
       "        vertical-align: middle;\n",
       "    }\n",
       "\n",
       "    .dataframe tbody tr th {\n",
       "        vertical-align: top;\n",
       "    }\n",
       "\n",
       "    .dataframe thead th {\n",
       "        text-align: right;\n",
       "    }\n",
       "</style>\n",
       "<table border=\"1\" class=\"dataframe\">\n",
       "  <thead>\n",
       "    <tr style=\"text-align: right;\">\n",
       "      <th></th>\n",
       "      <th></th>\n",
       "      <th></th>\n",
       "      <th>Items</th>\n",
       "    </tr>\n",
       "    <tr>\n",
       "      <th>Instrument_Type</th>\n",
       "      <th>Instrument</th>\n",
       "      <th>Brand</th>\n",
       "      <th></th>\n",
       "    </tr>\n",
       "  </thead>\n",
       "  <tbody>\n",
       "    <tr>\n",
       "      <th rowspan=\"5\" valign=\"top\">Keyboard / Piano</th>\n",
       "      <th rowspan=\"2\" valign=\"top\">Guitar</th>\n",
       "      <th>Boss</th>\n",
       "      <td>1</td>\n",
       "    </tr>\n",
       "    <tr>\n",
       "      <th>Ibanez</th>\n",
       "      <td>1</td>\n",
       "    </tr>\n",
       "    <tr>\n",
       "      <th rowspan=\"3\" valign=\"top\">Keyboard</th>\n",
       "      <th>audio</th>\n",
       "      <td>2</td>\n",
       "    </tr>\n",
       "    <tr>\n",
       "      <th>Casio</th>\n",
       "      <td>45</td>\n",
       "    </tr>\n",
       "    <tr>\n",
       "      <th>Cme</th>\n",
       "      <td>2</td>\n",
       "    </tr>\n",
       "    <tr>\n",
       "      <th>...</th>\n",
       "      <th>...</th>\n",
       "      <th>...</th>\n",
       "      <td>...</td>\n",
       "    </tr>\n",
       "    <tr>\n",
       "      <th>Studio / Live Music Equipment</th>\n",
       "      <th>Harp</th>\n",
       "      <th>Ams</th>\n",
       "      <td>1</td>\n",
       "    </tr>\n",
       "    <tr>\n",
       "      <th rowspan=\"4\" valign=\"top\">Woodwind / brass</th>\n",
       "      <th>Bass guitar</th>\n",
       "      <th>Yamaha</th>\n",
       "      <td>1</td>\n",
       "    </tr>\n",
       "    <tr>\n",
       "      <th>Clarinet</th>\n",
       "      <th>Yamaha</th>\n",
       "      <td>1</td>\n",
       "    </tr>\n",
       "    <tr>\n",
       "      <th>Flute</th>\n",
       "      <th>Yamaha</th>\n",
       "      <td>4</td>\n",
       "    </tr>\n",
       "    <tr>\n",
       "      <th>Guitar</th>\n",
       "      <th>Fender</th>\n",
       "      <td>1</td>\n",
       "    </tr>\n",
       "  </tbody>\n",
       "</table>\n",
       "<p>108 rows × 1 columns</p>\n",
       "</div>"
      ],
      "text/plain": [
       "                                                  Items\n",
       "Instrument_Type               Instrument  Brand        \n",
       "Keyboard / Piano              Guitar      Boss        1\n",
       "                                          Ibanez      1\n",
       "                              Keyboard     audio      2\n",
       "                                          Casio      45\n",
       "                                          Cme         2\n",
       "...                                                 ...\n",
       "Studio / Live Music Equipment Harp        Ams         1\n",
       "Woodwind / brass              Bass guitar Yamaha      1\n",
       "                              Clarinet    Yamaha      1\n",
       "                              Flute       Yamaha      4\n",
       "                              Guitar      Fender      1\n",
       "\n",
       "[108 rows x 1 columns]"
      ]
     },
     "execution_count": 24,
     "metadata": {},
     "output_type": "execute_result"
    }
   ],
   "source": [
    "df[[\"Instrument_Type\", \"Instrument\", \"Brand\",\"Title\"]].groupby([\"Instrument_Type\", \"Instrument\", \"Brand\"]).count().rename(columns={\"Title\":\"Items\"})"
   ]
  },
  {
   "cell_type": "code",
   "execution_count": 25,
   "id": "d4c4e823",
   "metadata": {},
   "outputs": [],
   "source": [
    "# We saved the processed data\n",
    "df.to_csv(\"processed-data.csv\")"
   ]
  },
  {
   "cell_type": "code",
   "execution_count": null,
   "id": "9eb5b6db",
   "metadata": {},
   "outputs": [],
   "source": []
  }
 ],
 "metadata": {
  "kernelspec": {
   "display_name": "Python 3 (ipykernel)",
   "language": "python",
   "name": "python3"
  },
  "language_info": {
   "codemirror_mode": {
    "name": "ipython",
    "version": 3
   },
   "file_extension": ".py",
   "mimetype": "text/x-python",
   "name": "python",
   "nbconvert_exporter": "python",
   "pygments_lexer": "ipython3",
   "version": "3.9.7"
  }
 },
 "nbformat": 4,
 "nbformat_minor": 5
}
