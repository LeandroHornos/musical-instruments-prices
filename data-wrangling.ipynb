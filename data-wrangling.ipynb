{
 "cells": [
  {
   "cell_type": "markdown",
   "id": "7658dd1f",
   "metadata": {},
   "source": [
    "# Musical instruments prices\n",
    "### A study of the musical instruments market in Sri Lanka"
   ]
  },
  {
   "cell_type": "markdown",
   "id": "42b5d647",
   "metadata": {},
   "source": [
    "Author: Leandro Hornos"
   ]
  },
  {
   "cell_type": "code",
   "execution_count": 1,
   "id": "06fcafd2",
   "metadata": {},
   "outputs": [],
   "source": [
    "import numpy as np\n",
    "import pandas as pd\n",
    "import matplotlib.pyplot as plt\n",
    "\n",
    "import re\n",
    "import json\n",
    "\n",
    "from wordcloud import WordCloud"
   ]
  },
  {
   "cell_type": "code",
   "execution_count": 2,
   "id": "4802f534",
   "metadata": {},
   "outputs": [],
   "source": [
    "df = pd.read_csv(\"raw-data.csv\", encoding=\"utf-8\", parse_dates=[\"published_date\"])"
   ]
  },
  {
   "cell_type": "markdown",
   "id": "7079e8e9",
   "metadata": {},
   "source": [
    "## Cleaning the dataset"
   ]
  },
  {
   "cell_type": "markdown",
   "id": "30a8b232",
   "metadata": {},
   "source": [
    "Let's take a look at data that we imported from the csv"
   ]
  },
  {
   "cell_type": "code",
   "execution_count": 3,
   "id": "f1075aba",
   "metadata": {},
   "outputs": [
    {
     "data": {
      "text/html": [
       "<div>\n",
       "<style scoped>\n",
       "    .dataframe tbody tr th:only-of-type {\n",
       "        vertical-align: middle;\n",
       "    }\n",
       "\n",
       "    .dataframe tbody tr th {\n",
       "        vertical-align: top;\n",
       "    }\n",
       "\n",
       "    .dataframe thead th {\n",
       "        text-align: right;\n",
       "    }\n",
       "</style>\n",
       "<table border=\"1\" class=\"dataframe\">\n",
       "  <thead>\n",
       "    <tr style=\"text-align: right;\">\n",
       "      <th></th>\n",
       "      <th>Title</th>\n",
       "      <th>Sub_title</th>\n",
       "      <th>Price</th>\n",
       "      <th>Instrument_Type</th>\n",
       "      <th>Condition</th>\n",
       "      <th>Location</th>\n",
       "      <th>Description</th>\n",
       "      <th>Post_URL</th>\n",
       "      <th>Seller_name</th>\n",
       "      <th>Seller_type</th>\n",
       "      <th>published_date</th>\n",
       "    </tr>\n",
       "  </thead>\n",
       "  <tbody>\n",
       "    <tr>\n",
       "      <th>0</th>\n",
       "      <td>Yamaha (SY-77) Music Synthesizer for sale</td>\n",
       "      <td>Posted on 04 Oct 7:11 pm, Ja-Ela, Gampaha</td>\n",
       "      <td>Rs 39,000</td>\n",
       "      <td>Keyboard / Piano</td>\n",
       "      <td>Used</td>\n",
       "      <td>Ja-Ela,  Gampaha</td>\n",
       "      <td>Â°â¢Â°Sri Lanka's Largest Digital Piano Selle...</td>\n",
       "      <td>https://ikman.lk/en/ad/yamaha-sy-77-music-synt...</td>\n",
       "      <td>Seven Star International</td>\n",
       "      <td>Member</td>\n",
       "      <td>2021-10-04 19:11:00</td>\n",
       "    </tr>\n",
       "    <tr>\n",
       "      <th>1</th>\n",
       "      <td>SRX-718 BASS BIN (PAIR) for sale</td>\n",
       "      <td>Posted on 10 Oct 7:54 pm, Kadawatha, Gampaha</td>\n",
       "      <td>Rs 77,500</td>\n",
       "      <td>Studio / Live Music Equipment</td>\n",
       "      <td>New</td>\n",
       "      <td>Kadawatha,  Gampaha</td>\n",
       "      <td>â¡Watts 3200â¡â¡Treated Plywoodâ¡</td>\n",
       "      <td>https://ikman.lk/en/ad/srx-718-bass-bin-pair-f...</td>\n",
       "      <td>Sasiru Super Sonics</td>\n",
       "      <td>Member</td>\n",
       "      <td>2021-10-10 19:54:00</td>\n",
       "    </tr>\n",
       "    <tr>\n",
       "      <th>2</th>\n",
       "      <td>Piano (Malcom Mendis Piano) for sale</td>\n",
       "      <td>Posted on 13 Oct 12:43 pm, Kandana, Gampaha</td>\n",
       "      <td>Rs 130,000</td>\n",
       "      <td>Keyboard / Piano</td>\n",
       "      <td>Used</td>\n",
       "      <td>Kandana,  Gampaha</td>\n",
       "      <td>Sri Lanka's Biggest Piano Sale, Reasonable pri...</td>\n",
       "      <td>https://ikman.lk/en/ad/piano-malcom-mendis-pia...</td>\n",
       "      <td>Sell Fast | à¶à¶³à·à¶± | MCI Ikman à¶¯à·à¶±...</td>\n",
       "      <td>Member</td>\n",
       "      <td>2021-10-13 12:43:00</td>\n",
       "    </tr>\n",
       "  </tbody>\n",
       "</table>\n",
       "</div>"
      ],
      "text/plain": [
       "                                       Title  \\\n",
       "0  Yamaha (SY-77) Music Synthesizer for sale   \n",
       "1           SRX-718 BASS BIN (PAIR) for sale   \n",
       "2       Piano (Malcom Mendis Piano) for sale   \n",
       "\n",
       "                                      Sub_title       Price  \\\n",
       "0     Posted on 04 Oct 7:11 pm, Ja-Ela, Gampaha   Rs 39,000   \n",
       "1  Posted on 10 Oct 7:54 pm, Kadawatha, Gampaha   Rs 77,500   \n",
       "2   Posted on 13 Oct 12:43 pm, Kandana, Gampaha  Rs 130,000   \n",
       "\n",
       "                 Instrument_Type Condition              Location  \\\n",
       "0               Keyboard / Piano      Used      Ja-Ela,  Gampaha   \n",
       "1  Studio / Live Music Equipment       New   Kadawatha,  Gampaha   \n",
       "2               Keyboard / Piano      Used     Kandana,  Gampaha   \n",
       "\n",
       "                                         Description  \\\n",
       "0  Â°â¢Â°Sri Lanka's Largest Digital Piano Selle...   \n",
       "1              â¡Watts 3200â¡â¡Treated Plywoodâ¡   \n",
       "2  Sri Lanka's Biggest Piano Sale, Reasonable pri...   \n",
       "\n",
       "                                            Post_URL  \\\n",
       "0  https://ikman.lk/en/ad/yamaha-sy-77-music-synt...   \n",
       "1  https://ikman.lk/en/ad/srx-718-bass-bin-pair-f...   \n",
       "2  https://ikman.lk/en/ad/piano-malcom-mendis-pia...   \n",
       "\n",
       "                                         Seller_name Seller_type  \\\n",
       "0                           Seven Star International      Member   \n",
       "1                                Sasiru Super Sonics      Member   \n",
       "2  Sell Fast | à¶à¶³à·à¶± | MCI Ikman à¶¯à·à¶±...      Member   \n",
       "\n",
       "       published_date  \n",
       "0 2021-10-04 19:11:00  \n",
       "1 2021-10-10 19:54:00  \n",
       "2 2021-10-13 12:43:00  "
      ]
     },
     "execution_count": 3,
     "metadata": {},
     "output_type": "execute_result"
    }
   ],
   "source": [
    "df.head(3)"
   ]
  },
  {
   "cell_type": "code",
   "execution_count": 4,
   "id": "f9ed1215",
   "metadata": {},
   "outputs": [
    {
     "name": "stdout",
     "output_type": "stream",
     "text": [
      "<class 'pandas.core.frame.DataFrame'>\n",
      "RangeIndex: 5167 entries, 0 to 5166\n",
      "Data columns (total 11 columns):\n",
      " #   Column           Non-Null Count  Dtype         \n",
      "---  ------           --------------  -----         \n",
      " 0   Title            5167 non-null   object        \n",
      " 1   Sub_title        5167 non-null   object        \n",
      " 2   Price            5167 non-null   object        \n",
      " 3   Instrument_Type  5167 non-null   object        \n",
      " 4   Condition        5167 non-null   object        \n",
      " 5   Location         5167 non-null   object        \n",
      " 6   Description      5167 non-null   object        \n",
      " 7   Post_URL         5167 non-null   object        \n",
      " 8   Seller_name      5167 non-null   object        \n",
      " 9   Seller_type      5167 non-null   object        \n",
      " 10  published_date   5167 non-null   datetime64[ns]\n",
      "dtypes: datetime64[ns](1), object(10)\n",
      "memory usage: 444.2+ KB\n"
     ]
    }
   ],
   "source": [
    "df.info()"
   ]
  },
  {
   "cell_type": "markdown",
   "id": "c44935a6",
   "metadata": {},
   "source": [
    "We can se that we have no missing values on this dataset. "
   ]
  },
  {
   "cell_type": "code",
   "execution_count": 5,
   "id": "11514f98",
   "metadata": {},
   "outputs": [
    {
     "name": "stdout",
     "output_type": "stream",
     "text": [
      "['Used' 'New']\n",
      "['Member' 'Premium-Member']\n"
     ]
    }
   ],
   "source": [
    "print(df.Condition.unique())\n",
    "print(df.Seller_type.unique())"
   ]
  },
  {
   "cell_type": "markdown",
   "id": "5a657e17",
   "metadata": {},
   "source": [
    "As suspected, both variables are binaries. We will change those of a new pair of variables that take 1s and 0s as it's possible values"
   ]
  },
  {
   "cell_type": "markdown",
   "id": "14da7f55",
   "metadata": {},
   "source": [
    "**Prices**"
   ]
  },
  {
   "cell_type": "code",
   "execution_count": 6,
   "id": "b66dfe7a",
   "metadata": {},
   "outputs": [],
   "source": [
    "# We want to convert prices to numbers:\n",
    "\n",
    "def parsePrice(text):\n",
    "    text = text.replace(\"Rs \",\"\")\n",
    "    text = text.replace(\",\",\"\")\n",
    "    return int(text)\n",
    "\n",
    "df[\"Price_value\"] = df[\"Price\"].apply(lambda x: parsePrice(x))"
   ]
  },
  {
   "cell_type": "markdown",
   "id": "9e3d0724",
   "metadata": {},
   "source": [
    "**Location**<br>\n",
    "The location field contains the name of the neighborhood/suburb and the city, separated by a comma. It would be a good idea to split this columns in two."
   ]
  },
  {
   "cell_type": "code",
   "execution_count": 7,
   "id": "17069924",
   "metadata": {},
   "outputs": [
    {
     "data": {
      "text/html": [
       "<div>\n",
       "<style scoped>\n",
       "    .dataframe tbody tr th:only-of-type {\n",
       "        vertical-align: middle;\n",
       "    }\n",
       "\n",
       "    .dataframe tbody tr th {\n",
       "        vertical-align: top;\n",
       "    }\n",
       "\n",
       "    .dataframe thead th {\n",
       "        text-align: right;\n",
       "    }\n",
       "</style>\n",
       "<table border=\"1\" class=\"dataframe\">\n",
       "  <thead>\n",
       "    <tr style=\"text-align: right;\">\n",
       "      <th></th>\n",
       "      <th>Title</th>\n",
       "      <th>Sub_title</th>\n",
       "      <th>Price</th>\n",
       "      <th>Instrument_Type</th>\n",
       "      <th>Condition</th>\n",
       "      <th>Description</th>\n",
       "      <th>Post_URL</th>\n",
       "      <th>Seller_name</th>\n",
       "      <th>Seller_type</th>\n",
       "      <th>published_date</th>\n",
       "      <th>Price_value</th>\n",
       "      <th>Neigborhood</th>\n",
       "      <th>City</th>\n",
       "    </tr>\n",
       "  </thead>\n",
       "  <tbody>\n",
       "    <tr>\n",
       "      <th>0</th>\n",
       "      <td>Yamaha (SY-77) Music Synthesizer for sale</td>\n",
       "      <td>Posted on 04 Oct 7:11 pm, Ja-Ela, Gampaha</td>\n",
       "      <td>Rs 39,000</td>\n",
       "      <td>Keyboard / Piano</td>\n",
       "      <td>Used</td>\n",
       "      <td>Â°â¢Â°Sri Lanka's Largest Digital Piano Selle...</td>\n",
       "      <td>https://ikman.lk/en/ad/yamaha-sy-77-music-synt...</td>\n",
       "      <td>Seven Star International</td>\n",
       "      <td>Member</td>\n",
       "      <td>2021-10-04 19:11:00</td>\n",
       "      <td>39000</td>\n",
       "      <td>Ja-Ela</td>\n",
       "      <td>Gampaha</td>\n",
       "    </tr>\n",
       "    <tr>\n",
       "      <th>1</th>\n",
       "      <td>SRX-718 BASS BIN (PAIR) for sale</td>\n",
       "      <td>Posted on 10 Oct 7:54 pm, Kadawatha, Gampaha</td>\n",
       "      <td>Rs 77,500</td>\n",
       "      <td>Studio / Live Music Equipment</td>\n",
       "      <td>New</td>\n",
       "      <td>â¡Watts 3200â¡â¡Treated Plywoodâ¡</td>\n",
       "      <td>https://ikman.lk/en/ad/srx-718-bass-bin-pair-f...</td>\n",
       "      <td>Sasiru Super Sonics</td>\n",
       "      <td>Member</td>\n",
       "      <td>2021-10-10 19:54:00</td>\n",
       "      <td>77500</td>\n",
       "      <td>Kadawatha</td>\n",
       "      <td>Gampaha</td>\n",
       "    </tr>\n",
       "    <tr>\n",
       "      <th>2</th>\n",
       "      <td>Piano (Malcom Mendis Piano) for sale</td>\n",
       "      <td>Posted on 13 Oct 12:43 pm, Kandana, Gampaha</td>\n",
       "      <td>Rs 130,000</td>\n",
       "      <td>Keyboard / Piano</td>\n",
       "      <td>Used</td>\n",
       "      <td>Sri Lanka's Biggest Piano Sale, Reasonable pri...</td>\n",
       "      <td>https://ikman.lk/en/ad/piano-malcom-mendis-pia...</td>\n",
       "      <td>Sell Fast | à¶à¶³à·à¶± | MCI Ikman à¶¯à·à¶±...</td>\n",
       "      <td>Member</td>\n",
       "      <td>2021-10-13 12:43:00</td>\n",
       "      <td>130000</td>\n",
       "      <td>Kandana</td>\n",
       "      <td>Gampaha</td>\n",
       "    </tr>\n",
       "  </tbody>\n",
       "</table>\n",
       "</div>"
      ],
      "text/plain": [
       "                                       Title  \\\n",
       "0  Yamaha (SY-77) Music Synthesizer for sale   \n",
       "1           SRX-718 BASS BIN (PAIR) for sale   \n",
       "2       Piano (Malcom Mendis Piano) for sale   \n",
       "\n",
       "                                      Sub_title       Price  \\\n",
       "0     Posted on 04 Oct 7:11 pm, Ja-Ela, Gampaha   Rs 39,000   \n",
       "1  Posted on 10 Oct 7:54 pm, Kadawatha, Gampaha   Rs 77,500   \n",
       "2   Posted on 13 Oct 12:43 pm, Kandana, Gampaha  Rs 130,000   \n",
       "\n",
       "                 Instrument_Type Condition  \\\n",
       "0               Keyboard / Piano      Used   \n",
       "1  Studio / Live Music Equipment       New   \n",
       "2               Keyboard / Piano      Used   \n",
       "\n",
       "                                         Description  \\\n",
       "0  Â°â¢Â°Sri Lanka's Largest Digital Piano Selle...   \n",
       "1              â¡Watts 3200â¡â¡Treated Plywoodâ¡   \n",
       "2  Sri Lanka's Biggest Piano Sale, Reasonable pri...   \n",
       "\n",
       "                                            Post_URL  \\\n",
       "0  https://ikman.lk/en/ad/yamaha-sy-77-music-synt...   \n",
       "1  https://ikman.lk/en/ad/srx-718-bass-bin-pair-f...   \n",
       "2  https://ikman.lk/en/ad/piano-malcom-mendis-pia...   \n",
       "\n",
       "                                         Seller_name Seller_type  \\\n",
       "0                           Seven Star International      Member   \n",
       "1                                Sasiru Super Sonics      Member   \n",
       "2  Sell Fast | à¶à¶³à·à¶± | MCI Ikman à¶¯à·à¶±...      Member   \n",
       "\n",
       "       published_date  Price_value Neigborhood     City  \n",
       "0 2021-10-04 19:11:00        39000      Ja-Ela  Gampaha  \n",
       "1 2021-10-10 19:54:00        77500   Kadawatha  Gampaha  \n",
       "2 2021-10-13 12:43:00       130000     Kandana  Gampaha  "
      ]
     },
     "execution_count": 7,
     "metadata": {},
     "output_type": "execute_result"
    }
   ],
   "source": [
    "def getLocation(location, option=\"city\"):\n",
    "    locdata = location.split(\",\")\n",
    "    if option == \"city\":\n",
    "        return locdata[1].strip()\n",
    "    elif option == \"neighborhood\":\n",
    "        return locdata[0].strip()\n",
    "    else:\n",
    "        return np.nan\n",
    "\n",
    "\n",
    "df[[\"Neigborhood\", \"City\"]] = df['Location'].apply(lambda x: pd.Series([getLocation(x,\"neighborhood\"),getLocation(x,\"city\")]))\n",
    "df.drop([\"Location\"],axis=1, inplace=True)\n",
    "df.head(3)"
   ]
  },
  {
   "cell_type": "markdown",
   "id": "ce493335",
   "metadata": {},
   "source": [
    "**Text fields**<br>\n",
    "We can see that text fields are filled with strange characters. # If we take a look at the \"Description\" column, we will see some weird characters mixed with the text"
   ]
  },
  {
   "cell_type": "code",
   "execution_count": 8,
   "id": "c7b0fe82",
   "metadata": {},
   "outputs": [],
   "source": [
    "# We define a function to remove every non ascii character\n",
    "\n",
    "def removeNonAsciiChars(text):\n",
    "    return \"\".join(char for char in text if ord(char) <128)\n",
    "    \n",
    "df[\"Description\"] = df[\"Description\"].apply(removeNonAsciiChars)\n",
    "df[\"Title\"] = df[\"Title\"].apply(removeNonAsciiChars)"
   ]
  },
  {
   "cell_type": "code",
   "execution_count": null,
   "id": "20b846cc",
   "metadata": {},
   "outputs": [],
   "source": []
  },
  {
   "cell_type": "markdown",
   "id": "a68c325d",
   "metadata": {},
   "source": [
    "But, even though this cleans some of the fields, there are many that are plain unusable. Most of the descriptions are filleds with strange characters, but only a few title fields are completely unusable. We can se it is only about 70 entries:"
   ]
  },
  {
   "cell_type": "code",
   "execution_count": 9,
   "id": "6fc5a959",
   "metadata": {},
   "outputs": [
    {
     "data": {
      "text/html": [
       "<div>\n",
       "<style scoped>\n",
       "    .dataframe tbody tr th:only-of-type {\n",
       "        vertical-align: middle;\n",
       "    }\n",
       "\n",
       "    .dataframe tbody tr th {\n",
       "        vertical-align: top;\n",
       "    }\n",
       "\n",
       "    .dataframe thead th {\n",
       "        text-align: right;\n",
       "    }\n",
       "</style>\n",
       "<table border=\"1\" class=\"dataframe\">\n",
       "  <thead>\n",
       "    <tr style=\"text-align: right;\">\n",
       "      <th></th>\n",
       "      <th>Title</th>\n",
       "      <th>Description</th>\n",
       "    </tr>\n",
       "  </thead>\n",
       "  <tbody>\n",
       "    <tr>\n",
       "      <th>3355</th>\n",
       "      <td>lexicon effect for sale</td>\n",
       "      <td>Good made in usa.110v.call Message</td>\n",
       "    </tr>\n",
       "    <tr>\n",
       "      <th>1962</th>\n",
       "      <td>les poul guitar for sale</td>\n",
       "      <td>Harly Benton guitar ..brand new ..super tone q...</td>\n",
       "    </tr>\n",
       "    <tr>\n",
       "      <th>195</th>\n",
       "      <td>les paul guitar for sale</td>\n",
       "      <td></td>\n",
       "    </tr>\n",
       "    <tr>\n",
       "      <th>4335</th>\n",
       "      <td>korg sp-170 piano for sale</td>\n",
       "      <td>Korg sp-170 piono good sounds an conditions Im...</td>\n",
       "    </tr>\n",
       "    <tr>\n",
       "      <th>4033</th>\n",
       "      <td>keyboard piano for sale</td>\n",
       "      <td>Good condition</td>\n",
       "    </tr>\n",
       "    <tr>\n",
       "      <th>1819</th>\n",
       "      <td>keyboard for sale</td>\n",
       "      <td>Yamaha E253</td>\n",
       "    </tr>\n",
       "    <tr>\n",
       "      <th>3466</th>\n",
       "      <td>keyboard for sale</td>\n",
       "      <td>Cash on delivery available          Wholesale,...</td>\n",
       "    </tr>\n",
       "    <tr>\n",
       "      <th>3669</th>\n",
       "      <td>keyboard for sale</td>\n",
       "      <td>Good condition No errors With keyboard bag and...</td>\n",
       "    </tr>\n",
       "    <tr>\n",
       "      <th>4809</th>\n",
       "      <td>keyboard for sale</td>\n",
       "      <td>Brand nd new keyboard. Keys 61. Free dilivery....</td>\n",
       "    </tr>\n",
       "    <tr>\n",
       "      <th>4806</th>\n",
       "      <td>keyboard for sale</td>\n",
       "      <td>Brand new 61 keys keyboard. Free mic. Free not...</td>\n",
       "    </tr>\n",
       "    <tr>\n",
       "      <th>3913</th>\n",
       "      <td>keyboard for sale</td>\n",
       "      <td>CELEBRATE MUSIC HOUSE 077...</td>\n",
       "    </tr>\n",
       "    <tr>\n",
       "      <th>3910</th>\n",
       "      <td>keyboard for sale</td>\n",
       "      <td>CELEBRATE MUSIC HOUSE 077...</td>\n",
       "    </tr>\n",
       "    <tr>\n",
       "      <th>1235</th>\n",
       "      <td>karaoke speaker-LA Brand for sale</td>\n",
       "      <td>Model :PE10 -Battery Powered Two way 10\" Full ...</td>\n",
       "    </tr>\n",
       "    <tr>\n",
       "      <th>4198</th>\n",
       "      <td>john packer jp043 g soprano for sale</td>\n",
       "      <td>john packer jp043 g soprano Brand new</td>\n",
       "    </tr>\n",
       "    <tr>\n",
       "      <th>1206</th>\n",
       "      <td>jbl srx 725 for sale</td>\n",
       "      <td>jbl srx 725 brand new warrenty7000 w</td>\n",
       "    </tr>\n",
       "  </tbody>\n",
       "</table>\n",
       "</div>"
      ],
      "text/plain": [
       "                                     Title  \\\n",
       "3355               lexicon effect for sale   \n",
       "1962              les poul guitar for sale   \n",
       "195               les paul guitar for sale   \n",
       "4335            korg sp-170 piano for sale   \n",
       "4033               keyboard piano for sale   \n",
       "1819                     keyboard for sale   \n",
       "3466                     keyboard for sale   \n",
       "3669                     keyboard for sale   \n",
       "4809                     keyboard for sale   \n",
       "4806                     keyboard for sale   \n",
       "3913                     keyboard for sale   \n",
       "3910                     keyboard for sale   \n",
       "1235     karaoke speaker-LA Brand for sale   \n",
       "4198  john packer jp043 g soprano for sale   \n",
       "1206                  jbl srx 725 for sale   \n",
       "\n",
       "                                            Description  \n",
       "3355                 Good made in usa.110v.call Message  \n",
       "1962  Harly Benton guitar ..brand new ..super tone q...  \n",
       "195                                                      \n",
       "4335  Korg sp-170 piono good sounds an conditions Im...  \n",
       "4033                                     Good condition  \n",
       "1819                                        Yamaha E253  \n",
       "3466  Cash on delivery available          Wholesale,...  \n",
       "3669  Good condition No errors With keyboard bag and...  \n",
       "4809  Brand nd new keyboard. Keys 61. Free dilivery....  \n",
       "4806  Brand new 61 keys keyboard. Free mic. Free not...  \n",
       "3913                       CELEBRATE MUSIC HOUSE 077...  \n",
       "3910                       CELEBRATE MUSIC HOUSE 077...  \n",
       "1235  Model :PE10 -Battery Powered Two way 10\" Full ...  \n",
       "4198             john packer jp043 g soprano Brand new   \n",
       "1206               jbl srx 725 brand new warrenty7000 w  "
      ]
     },
     "execution_count": 9,
     "metadata": {},
     "output_type": "execute_result"
    }
   ],
   "source": [
    "# Those rows cannot be used, so we drop them\n",
    "df = df.sort_values([\"Title\"], ascending=False)\n",
    "df[[\"Title\", \"Description\"]].iloc[60:75]"
   ]
  },
  {
   "cell_type": "code",
   "execution_count": 10,
   "id": "c1edae12",
   "metadata": {},
   "outputs": [
    {
     "data": {
      "text/html": [
       "<div>\n",
       "<style scoped>\n",
       "    .dataframe tbody tr th:only-of-type {\n",
       "        vertical-align: middle;\n",
       "    }\n",
       "\n",
       "    .dataframe tbody tr th {\n",
       "        vertical-align: top;\n",
       "    }\n",
       "\n",
       "    .dataframe thead th {\n",
       "        text-align: right;\n",
       "    }\n",
       "</style>\n",
       "<table border=\"1\" class=\"dataframe\">\n",
       "  <thead>\n",
       "    <tr style=\"text-align: right;\">\n",
       "      <th></th>\n",
       "      <th>Title</th>\n",
       "      <th>Description</th>\n",
       "    </tr>\n",
       "  </thead>\n",
       "  <tbody>\n",
       "    <tr>\n",
       "      <th>3913</th>\n",
       "      <td>keyboard for sale</td>\n",
       "      <td>CELEBRATE MUSIC HOUSE 077...</td>\n",
       "    </tr>\n",
       "    <tr>\n",
       "      <th>3910</th>\n",
       "      <td>keyboard for sale</td>\n",
       "      <td>CELEBRATE MUSIC HOUSE 077...</td>\n",
       "    </tr>\n",
       "    <tr>\n",
       "      <th>1235</th>\n",
       "      <td>karaoke speaker-LA Brand for sale</td>\n",
       "      <td>Model :PE10 -Battery Powered Two way 10\" Full ...</td>\n",
       "    </tr>\n",
       "    <tr>\n",
       "      <th>4198</th>\n",
       "      <td>john packer jp043 g soprano for sale</td>\n",
       "      <td>john packer jp043 g soprano Brand new</td>\n",
       "    </tr>\n",
       "    <tr>\n",
       "      <th>1206</th>\n",
       "      <td>jbl srx 725 for sale</td>\n",
       "      <td>jbl srx 725 brand new warrenty7000 w</td>\n",
       "    </tr>\n",
       "    <tr>\n",
       "      <th>2817</th>\n",
       "      <td>jbl srx 725 718 qsc amp soundcraft dbx for sale</td>\n",
       "      <td>brand new jbl srx 725 6000 w 750 his jbl 2226h...</td>\n",
       "    </tr>\n",
       "    <tr>\n",
       "      <th>3092</th>\n",
       "      <td>jbl srx 715 for sale</td>\n",
       "      <td>2000 w jbl srx 715 sale from dubai</td>\n",
       "    </tr>\n",
       "    <tr>\n",
       "      <th>176</th>\n",
       "      <td>jbl srx 715 (IMPORTED) TOP (PAIR) for sale</td>\n",
       "      <td>jbl srx 715  (IMPORTED) TOP (PAIR)2000 rms bra...</td>\n",
       "    </tr>\n",
       "    <tr>\n",
       "      <th>175</th>\n",
       "      <td>jbl srx 712 m for sale</td>\n",
       "      <td>jbl srx 712 mbrand new 1500 w</td>\n",
       "    </tr>\n",
       "    <tr>\n",
       "      <th>2819</th>\n",
       "      <td>jbl srx 712 2500 amp mixer for sale</td>\n",
       "      <td>brand new jbl srx 712 proel 2500 w amplifier6 ...</td>\n",
       "    </tr>\n",
       "  </tbody>\n",
       "</table>\n",
       "</div>"
      ],
      "text/plain": [
       "                                                Title  \\\n",
       "3913                                keyboard for sale   \n",
       "3910                                keyboard for sale   \n",
       "1235                karaoke speaker-LA Brand for sale   \n",
       "4198             john packer jp043 g soprano for sale   \n",
       "1206                             jbl srx 725 for sale   \n",
       "2817  jbl srx 725 718 qsc amp soundcraft dbx for sale   \n",
       "3092                             jbl srx 715 for sale   \n",
       "176        jbl srx 715 (IMPORTED) TOP (PAIR) for sale   \n",
       "175                            jbl srx 712 m for sale   \n",
       "2819              jbl srx 712 2500 amp mixer for sale   \n",
       "\n",
       "                                            Description  \n",
       "3913                       CELEBRATE MUSIC HOUSE 077...  \n",
       "3910                       CELEBRATE MUSIC HOUSE 077...  \n",
       "1235  Model :PE10 -Battery Powered Two way 10\" Full ...  \n",
       "4198             john packer jp043 g soprano Brand new   \n",
       "1206               jbl srx 725 brand new warrenty7000 w  \n",
       "2817  brand new jbl srx 725 6000 w 750 his jbl 2226h...  \n",
       "3092                 2000 w jbl srx 715 sale from dubai  \n",
       "176   jbl srx 715  (IMPORTED) TOP (PAIR)2000 rms bra...  \n",
       "175                       jbl srx 712 mbrand new 1500 w  \n",
       "2819  brand new jbl srx 712 proel 2500 w amplifier6 ...  "
      ]
     },
     "execution_count": 10,
     "metadata": {},
     "output_type": "execute_result"
    }
   ],
   "source": [
    "df.drop(df.index[:70], inplace=True)\n",
    "df[[\"Title\", \"Description\"]].iloc[:10]"
   ]
  },
  {
   "cell_type": "markdown",
   "id": "bf1f303d",
   "metadata": {},
   "source": [
    "Everything looks fine, but whe see the irrelevan phrase \"for sale\" in most of the titles. We are going to remove it before going on."
   ]
  },
  {
   "cell_type": "code",
   "execution_count": 11,
   "id": "a94796f0",
   "metadata": {},
   "outputs": [
    {
     "data": {
      "text/plain": [
       "3913                                  keyboard\n",
       "3910                                  keyboard\n",
       "1235                  karaoke speaker-LA Brand\n",
       "4198               john packer jp043 g soprano\n",
       "1206                               jbl srx 725\n",
       "2817    jbl srx 725 718 qsc amp soundcraft dbx\n",
       "3092                               jbl srx 715\n",
       "176          jbl srx 715 (IMPORTED) TOP (PAIR)\n",
       "175                              jbl srx 712 m\n",
       "2819                jbl srx 712 2500 amp mixer\n",
       "Name: Title, dtype: object"
      ]
     },
     "execution_count": 11,
     "metadata": {},
     "output_type": "execute_result"
    }
   ],
   "source": [
    "df[\"Title\"] = df[\"Title\"].apply(lambda x: x.replace(\" for sale\", \"\"))\n",
    "\n",
    "# Check that the substring is gone\n",
    "df[\"Title\"].iloc[:10]"
   ]
  },
  {
   "cell_type": "markdown",
   "id": "d8be00fb",
   "metadata": {},
   "source": [
    "## Data Expansion\n",
    "\n",
    "We have a title variable that, contains a short text describing the product. It would be interesting to be able to identify if the product is an instrument or an accesory and, ideally, to get the name of the item. That would allow us to perform a deeper analisis, detecting trends on items itself and no only broad categories."
   ]
  },
  {
   "cell_type": "markdown",
   "id": "03f5e0a3",
   "metadata": {},
   "source": [
    "### Extracting the product from the Title"
   ]
  },
  {
   "cell_type": "markdown",
   "id": "740e7ff8",
   "metadata": {},
   "source": [
    "Even though the dataset only contains a broad classification of products, the title of each entry contains a detailed description of what it is, from which the product can be extracted. We know that the dataset contains mainly musical instruments, that are quite easy to identify, and all sorts of accesories, parts and devices that will not be that easy to extract.<br>\n",
    "The aproach that we are going to take is to obtain a list in english of the most popular musical instruments in the world. We will also make a list of common music related products. We will search for this keywords in the titles, and the info about the matches will be stored in two new columns, one containing the name of the product and one a category label in order to discriminate actual musical instruments from other products."
   ]
  },
  {
   "cell_type": "code",
   "execution_count": 12,
   "id": "d6850a91",
   "metadata": {},
   "outputs": [],
   "source": [
    "# As a simple first approach, we are going to use a list of common instruments\n",
    "# and we are going to check for each instrument in each title text\n",
    "\n",
    "def extractKeyword(text, keywords):\n",
    "    # Recieves a dictionary with lists of\n",
    "    # types of products\n",
    "    for productType in list(keywords.keys()):\n",
    "        for product in keywords[productType]:\n",
    "            if product.upper() in text.upper():\n",
    "                return (product.capitalize()+\",\"+productType)\n",
    "    # If there are no matches return NaN\n",
    "    return np.nan"
   ]
  },
  {
   "cell_type": "code",
   "execution_count": 13,
   "id": "390c3cd3",
   "metadata": {},
   "outputs": [
    {
     "name": "stdout",
     "output_type": "stream",
     "text": [
      "['speaker', 'microphone', 'mic', 'mixer', 'effect', 'recorder', 'amplifier', 'light', 'console', 'card', 'monitor']\n",
      "72.47400431626447  % of the products have been guessed from the title\n",
      "\n"
     ]
    },
    {
     "data": {
      "text/html": [
       "<div>\n",
       "<style scoped>\n",
       "    .dataframe tbody tr th:only-of-type {\n",
       "        vertical-align: middle;\n",
       "    }\n",
       "\n",
       "    .dataframe tbody tr th {\n",
       "        vertical-align: top;\n",
       "    }\n",
       "\n",
       "    .dataframe thead th {\n",
       "        text-align: right;\n",
       "    }\n",
       "</style>\n",
       "<table border=\"1\" class=\"dataframe\">\n",
       "  <thead>\n",
       "    <tr style=\"text-align: right;\">\n",
       "      <th></th>\n",
       "      <th>Title</th>\n",
       "      <th>Sub_title</th>\n",
       "      <th>Price</th>\n",
       "      <th>Instrument_Type</th>\n",
       "      <th>Condition</th>\n",
       "      <th>Description</th>\n",
       "      <th>Post_URL</th>\n",
       "      <th>Seller_name</th>\n",
       "      <th>Seller_type</th>\n",
       "      <th>published_date</th>\n",
       "      <th>Price_value</th>\n",
       "      <th>Neigborhood</th>\n",
       "      <th>City</th>\n",
       "      <th>Product</th>\n",
       "      <th>Category</th>\n",
       "    </tr>\n",
       "  </thead>\n",
       "  <tbody>\n",
       "    <tr>\n",
       "      <th>3913</th>\n",
       "      <td>keyboard</td>\n",
       "      <td>Posted on 01 Nov 10:36 am, Galle City, Galle</td>\n",
       "      <td>Rs 11,500</td>\n",
       "      <td>Keyboard / Piano</td>\n",
       "      <td>Used</td>\n",
       "      <td>CELEBRATE MUSIC HOUSE 077...</td>\n",
       "      <td>https://ikman.lk/en/ad/keyboard-for-sale-galle-47</td>\n",
       "      <td>Celebrate Music House</td>\n",
       "      <td>Member</td>\n",
       "      <td>2021-11-01 10:36:00</td>\n",
       "      <td>11500</td>\n",
       "      <td>Galle City</td>\n",
       "      <td>Galle</td>\n",
       "      <td>Keyboard</td>\n",
       "      <td>instrument</td>\n",
       "    </tr>\n",
       "    <tr>\n",
       "      <th>3910</th>\n",
       "      <td>keyboard</td>\n",
       "      <td>Posted on 01 Nov 10:48 am, Galle City, Galle</td>\n",
       "      <td>Rs 8,500</td>\n",
       "      <td>Keyboard / Piano</td>\n",
       "      <td>Used</td>\n",
       "      <td>CELEBRATE MUSIC HOUSE 077...</td>\n",
       "      <td>https://ikman.lk/en/ad/keyboard-for-sale-galle-48</td>\n",
       "      <td>Celebrate Music House</td>\n",
       "      <td>Member</td>\n",
       "      <td>2021-11-01 10:48:00</td>\n",
       "      <td>8500</td>\n",
       "      <td>Galle City</td>\n",
       "      <td>Galle</td>\n",
       "      <td>Keyboard</td>\n",
       "      <td>instrument</td>\n",
       "    </tr>\n",
       "    <tr>\n",
       "      <th>1235</th>\n",
       "      <td>karaoke speaker-LA Brand</td>\n",
       "      <td>Posted on 28 Sep 10:21 am, Kelaniya, Gampaha</td>\n",
       "      <td>Rs 19,750</td>\n",
       "      <td>Studio / Live Music Equipment</td>\n",
       "      <td>New</td>\n",
       "      <td>Model :PE10 -Battery Powered Two way 10\" Full ...</td>\n",
       "      <td>https://ikman.lk/en/ad/karaoke-speaker-la-bran...</td>\n",
       "      <td>MV AUDIO</td>\n",
       "      <td>Member</td>\n",
       "      <td>2021-09-28 10:21:00</td>\n",
       "      <td>19750</td>\n",
       "      <td>Kelaniya</td>\n",
       "      <td>Gampaha</td>\n",
       "      <td>Speaker</td>\n",
       "      <td>equipment</td>\n",
       "    </tr>\n",
       "    <tr>\n",
       "      <th>4198</th>\n",
       "      <td>john packer jp043 g soprano</td>\n",
       "      <td>Posted on 28 Oct 4:36 pm, Kolonnawa, Colombo</td>\n",
       "      <td>Rs 155,000</td>\n",
       "      <td>Woodwind / brass</td>\n",
       "      <td>New</td>\n",
       "      <td>john packer jp043 g soprano Brand new</td>\n",
       "      <td>https://ikman.lk/en/ad/soprano-for-sale-colombo</td>\n",
       "      <td>Dilhan siriwardena</td>\n",
       "      <td>Member</td>\n",
       "      <td>2021-10-28 16:36:00</td>\n",
       "      <td>155000</td>\n",
       "      <td>Kolonnawa</td>\n",
       "      <td>Colombo</td>\n",
       "      <td>NaN</td>\n",
       "      <td>NaN</td>\n",
       "    </tr>\n",
       "    <tr>\n",
       "      <th>1206</th>\n",
       "      <td>jbl srx 725</td>\n",
       "      <td>Posted on 28 Sep 8:38 pm, Negombo, Gampaha</td>\n",
       "      <td>Rs 150,000</td>\n",
       "      <td>Studio / Live Music Equipment</td>\n",
       "      <td>New</td>\n",
       "      <td>jbl srx 725 brand new warrenty7000 w</td>\n",
       "      <td>https://ikman.lk/en/ad/jbl-srx-725-for-sale-ga...</td>\n",
       "      <td>Canon Sound Music Center</td>\n",
       "      <td>Member</td>\n",
       "      <td>2021-09-28 20:38:00</td>\n",
       "      <td>150000</td>\n",
       "      <td>Negombo</td>\n",
       "      <td>Gampaha</td>\n",
       "      <td>NaN</td>\n",
       "      <td>NaN</td>\n",
       "    </tr>\n",
       "  </tbody>\n",
       "</table>\n",
       "</div>"
      ],
      "text/plain": [
       "                            Title  \\\n",
       "3913                     keyboard   \n",
       "3910                     keyboard   \n",
       "1235     karaoke speaker-LA Brand   \n",
       "4198  john packer jp043 g soprano   \n",
       "1206                  jbl srx 725   \n",
       "\n",
       "                                         Sub_title       Price  \\\n",
       "3913  Posted on 01 Nov 10:36 am, Galle City, Galle   Rs 11,500   \n",
       "3910  Posted on 01 Nov 10:48 am, Galle City, Galle    Rs 8,500   \n",
       "1235  Posted on 28 Sep 10:21 am, Kelaniya, Gampaha   Rs 19,750   \n",
       "4198  Posted on 28 Oct 4:36 pm, Kolonnawa, Colombo  Rs 155,000   \n",
       "1206    Posted on 28 Sep 8:38 pm, Negombo, Gampaha  Rs 150,000   \n",
       "\n",
       "                    Instrument_Type Condition  \\\n",
       "3913               Keyboard / Piano      Used   \n",
       "3910               Keyboard / Piano      Used   \n",
       "1235  Studio / Live Music Equipment       New   \n",
       "4198               Woodwind / brass       New   \n",
       "1206  Studio / Live Music Equipment       New   \n",
       "\n",
       "                                            Description  \\\n",
       "3913                       CELEBRATE MUSIC HOUSE 077...   \n",
       "3910                       CELEBRATE MUSIC HOUSE 077...   \n",
       "1235  Model :PE10 -Battery Powered Two way 10\" Full ...   \n",
       "4198             john packer jp043 g soprano Brand new    \n",
       "1206               jbl srx 725 brand new warrenty7000 w   \n",
       "\n",
       "                                               Post_URL  \\\n",
       "3913  https://ikman.lk/en/ad/keyboard-for-sale-galle-47   \n",
       "3910  https://ikman.lk/en/ad/keyboard-for-sale-galle-48   \n",
       "1235  https://ikman.lk/en/ad/karaoke-speaker-la-bran...   \n",
       "4198    https://ikman.lk/en/ad/soprano-for-sale-colombo   \n",
       "1206  https://ikman.lk/en/ad/jbl-srx-725-for-sale-ga...   \n",
       "\n",
       "                   Seller_name Seller_type      published_date  Price_value  \\\n",
       "3913     Celebrate Music House      Member 2021-11-01 10:36:00        11500   \n",
       "3910     Celebrate Music House      Member 2021-11-01 10:48:00         8500   \n",
       "1235                  MV AUDIO      Member 2021-09-28 10:21:00        19750   \n",
       "4198        Dilhan siriwardena      Member 2021-10-28 16:36:00       155000   \n",
       "1206  Canon Sound Music Center      Member 2021-09-28 20:38:00       150000   \n",
       "\n",
       "     Neigborhood     City   Product    Category  \n",
       "3913  Galle City    Galle  Keyboard  instrument  \n",
       "3910  Galle City    Galle  Keyboard  instrument  \n",
       "1235    Kelaniya  Gampaha   Speaker   equipment  \n",
       "4198   Kolonnawa  Colombo       NaN         NaN  \n",
       "1206     Negombo  Gampaha       NaN         NaN  "
      ]
     },
     "execution_count": 13,
     "metadata": {},
     "output_type": "execute_result"
    }
   ],
   "source": [
    "with open(\"resources/instruments_names.json\") as file:\n",
    "    keywords = json.load(file)\n",
    "\n",
    "print(keywords[\"equipment\"])\n",
    "df[\"Product\"] = df.apply(lambda row: extractKeyword(row[\"Title\"], keywords), axis=1)\n",
    "\n",
    "def getCategory(value, option=\"category\"):\n",
    "    if type(value) != str:\n",
    "        return np.nan\n",
    "    data = value.split(\",\")\n",
    "    if option == \"product\":\n",
    "        return data[0].strip()\n",
    "    elif option == \"category\":\n",
    "        return data[1].strip()\n",
    "    else:\n",
    "        return np.nan\n",
    "\n",
    "\n",
    "df[[\"Product\", \"Category\"]] = df['Product'].apply(lambda x: pd.Series([getCategory(x,\"product\"), getCategory(x,\"category\")]))\n",
    "\n",
    "print(100 * int(df[[\"Product\"]].count()) /int(df[[\"Title\"]].count()),\" % of the products have been guessed from the title\\n\")\n",
    "df.head()"
   ]
  },
  {
   "cell_type": "code",
   "execution_count": 14,
   "id": "e4b95f8e",
   "metadata": {
    "scrolled": true
   },
   "outputs": [
    {
     "data": {
      "text/html": [
       "<div>\n",
       "<style scoped>\n",
       "    .dataframe tbody tr th:only-of-type {\n",
       "        vertical-align: middle;\n",
       "    }\n",
       "\n",
       "    .dataframe tbody tr th {\n",
       "        vertical-align: top;\n",
       "    }\n",
       "\n",
       "    .dataframe thead th {\n",
       "        text-align: right;\n",
       "    }\n",
       "</style>\n",
       "<table border=\"1\" class=\"dataframe\">\n",
       "  <thead>\n",
       "    <tr style=\"text-align: right;\">\n",
       "      <th></th>\n",
       "      <th>Title</th>\n",
       "      <th>Product</th>\n",
       "      <th>Category</th>\n",
       "      <th>Description</th>\n",
       "    </tr>\n",
       "  </thead>\n",
       "  <tbody>\n",
       "    <tr>\n",
       "      <th>0</th>\n",
       "      <td>Yamaha (SY-77) Music Synthesizer</td>\n",
       "      <td>Synthesizer</td>\n",
       "      <td>instrument</td>\n",
       "      <td>Sri Lanka's Largest Digital Piano Seller  Dire...</td>\n",
       "    </tr>\n",
       "    <tr>\n",
       "      <th>2</th>\n",
       "      <td>Piano (Malcom Mendis Piano)</td>\n",
       "      <td>Piano</td>\n",
       "      <td>instrument</td>\n",
       "      <td>Sri Lanka's Biggest Piano Sale, Reasonable pri...</td>\n",
       "    </tr>\n",
       "    <tr>\n",
       "      <th>3</th>\n",
       "      <td>Yamaha Semi Acoustic Guitars</td>\n",
       "      <td>Guitar</td>\n",
       "      <td>instrument</td>\n",
       "      <td>Yamaha semi acoustic guitar.  Model- FX310A. B...</td>\n",
       "    </tr>\n",
       "    <tr>\n",
       "      <th>4</th>\n",
       "      <td>Yamaha Guitar</td>\n",
       "      <td>Guitar</td>\n",
       "      <td>instrument</td>\n",
       "      <td>Yamaha fG-151 Made in Japan Good condition Goo...</td>\n",
       "    </tr>\n",
       "    <tr>\n",
       "      <th>5</th>\n",
       "      <td>Violin</td>\n",
       "      <td>Violin</td>\n",
       "      <td>instrument</td>\n",
       "      <td>Brand new ConditionFull set With BoxBrand - Ne...</td>\n",
       "    </tr>\n",
       "  </tbody>\n",
       "</table>\n",
       "</div>"
      ],
      "text/plain": [
       "                              Title      Product    Category  \\\n",
       "0  Yamaha (SY-77) Music Synthesizer  Synthesizer  instrument   \n",
       "2       Piano (Malcom Mendis Piano)        Piano  instrument   \n",
       "3      Yamaha Semi Acoustic Guitars       Guitar  instrument   \n",
       "4                     Yamaha Guitar       Guitar  instrument   \n",
       "5                            Violin       Violin  instrument   \n",
       "\n",
       "                                         Description  \n",
       "0  Sri Lanka's Largest Digital Piano Seller  Dire...  \n",
       "2  Sri Lanka's Biggest Piano Sale, Reasonable pri...  \n",
       "3  Yamaha semi acoustic guitar.  Model- FX310A. B...  \n",
       "4  Yamaha fG-151 Made in Japan Good condition Goo...  \n",
       "5  Brand new ConditionFull set With BoxBrand - Ne...  "
      ]
     },
     "execution_count": 14,
     "metadata": {},
     "output_type": "execute_result"
    }
   ],
   "source": [
    "df.sort_index(inplace=True)\n",
    "df[df.Product.notnull()][[\"Title\", \"Product\", \"Category\",\"Description\"]].head()"
   ]
  },
  {
   "cell_type": "code",
   "execution_count": 15,
   "id": "403ba4b2",
   "metadata": {},
   "outputs": [
    {
     "name": "stdout",
     "output_type": "stream",
     "text": [
      "This are the Instrumets that where identified:\n",
      "\n"
     ]
    },
    {
     "data": {
      "text/plain": [
       "array(['Synthesizer', nan, 'Piano', 'Guitar', 'Violin', 'Card',\n",
       "       'Melodica', 'Cymbal', 'Drum', 'Keyboard', 'Pedal', 'Pickup',\n",
       "       'Speaker', 'Monitor', 'Bass guitar', 'Microphone', 'Bongo', 'Case',\n",
       "       'Strings', 'Flute', 'Serpina', 'Mic', 'Organ', 'Recorder',\n",
       "       'Amplifier', 'Trumpet', 'Mixer', 'Light', 'Console', 'Effect',\n",
       "       'Saxophone', 'Cello', 'Mandolin', 'Clarinet', 'Ukulele', 'Vinyl',\n",
       "       'Harp', 'Sitar', 'Grand piano', 'Viola', 'Tambourine', 'Accordian',\n",
       "       'Glockenspiel', 'Harmonica', 'Trombone'], dtype=object)"
      ]
     },
     "execution_count": 15,
     "metadata": {},
     "output_type": "execute_result"
    }
   ],
   "source": [
    "print (\"This are the Instrumets that where identified:\\n\")\n",
    "df.Product.unique()"
   ]
  },
  {
   "cell_type": "markdown",
   "id": "f1a94c90",
   "metadata": {},
   "source": [
    "Let's take a look at the products that we could not guess. What are they? One way to get a better idea of what kind of products are being left out is to make a word cloud of the titles of those unclassified products."
   ]
  },
  {
   "cell_type": "code",
   "execution_count": 16,
   "id": "e6bfed13",
   "metadata": {},
   "outputs": [
    {
     "data": {
      "image/png": "[encoded data removed]",
      "text/plain": [
       "<Figure size 432x288 with 1 Axes>"
      ]
     },
     "metadata": {
      "needs_background": "light"
     },
     "output_type": "display_data"
    }
   ],
   "source": [
    "def showWordCloud(text):\n",
    "    wordCloud = WordCloud(width=500, height=300, random_state=42, max_font_size=120).generate(text)\n",
    "    plt.imshow(wordCloud)\n",
    "    plt.axis(\"off\")\n",
    "    plt.show()\n",
    "    \n",
    "allTitles = \"\".join(titles for titles in df[\"Title\"][df.Product.isnull()])\n",
    "\n",
    "showWordCloud(allTitles)\n"
   ]
  },
  {
   "cell_type": "markdown",
   "id": "5f295aed",
   "metadata": {},
   "source": [
    "**Note:** After making this wordcloud, several products were added to the products list in the json files. This allowed to increase the number of product macthes from 43% to 68%"
   ]
  },
  {
   "cell_type": "markdown",
   "id": "bf0c03b9",
   "metadata": {},
   "source": [
    "### Guessing the Brand"
   ]
  },
  {
   "cell_type": "markdown",
   "id": "6b6c0548",
   "metadata": {},
   "source": [
    "This website (https://www.americanmusical.com/BrandList.aspx) contains a broad list of companies that comercialize musical instruments. The list was copyied and pasted on a text file. Since it is a list of links, other elements were copied aswell, so the list needs to be cleaned fist."
   ]
  },
  {
   "cell_type": "code",
   "execution_count": 17,
   "id": "15cb74c2",
   "metadata": {},
   "outputs": [
    {
     "name": "stdout",
     "output_type": "stream",
     "text": [
      "['2BOX Drums', '512 Audio', 'Abasi Guitars', 'Ableton', 'Access', 'Acon Digital', 'Adam Audio', 'ADJ Lighting', 'Ahead', 'AirTurn']\n"
     ]
    }
   ],
   "source": [
    "# The following lines show the process followed to obtain the brand names from the txt\n",
    "\n",
    "with open(\"resources/instrument_brands_list.txt\") as file:\n",
    "    data = file.read().replace(\"\\n\",\",\")\n",
    "\n",
    "# The txt contains the brand and the number of items in source's web store\n",
    "# The lines have a structure of the kind ItemName3 items(3)\n",
    "# Let's use a regular expresion to remove those substrings\n",
    "\n",
    "data = re.sub(r\"([0-9])+ items?\\([0-9]+\\)\",\"\",data)\n",
    "\n",
    "# store the brands in a list \n",
    "brandlist = data.split(\",\")\n",
    "\n",
    "# Check the result\n",
    "print(brandlist[:10])\n",
    "\n",
    "# Write this into a JSON\n",
    "brands = {\"Brands\":brandlist}\n",
    "with open('resources/brands.json', 'w') as fp:\n",
    "    json.dump(brands, fp)\n"
   ]
  },
  {
   "cell_type": "code",
   "execution_count": 18,
   "id": "4cd91f98",
   "metadata": {},
   "outputs": [
    {
     "name": "stdout",
     "output_type": "stream",
     "text": [
      "33.19599764567393  % of the brands have been guessed from the title\n",
      "\n",
      "<class 'pandas.core.frame.DataFrame'>\n",
      "Int64Index: 5097 entries, 0 to 5166\n",
      "Data columns (total 1 columns):\n",
      " #   Column  Non-Null Count  Dtype \n",
      "---  ------  --------------  ----- \n",
      " 0   Brand   1692 non-null   object\n",
      "dtypes: object(1)\n",
      "memory usage: 79.6+ KB\n"
     ]
    }
   ],
   "source": [
    "# Now we define a function to check if the text contains a brand\n",
    "\n",
    "def guessBrand(text):\n",
    "    with open(\"resources/Brands.json\") as file:\n",
    "        data = json.load(file)\n",
    "    brand = np.nan\n",
    "    for name in data[\"Brands\"]:\n",
    "        if name.upper() in text.upper():\n",
    "            return name.capitalize()\n",
    "    return brand\n",
    "\n",
    "\n",
    "df[\"Brand\"] = df.apply(lambda row: guessBrand(row[\"Title\"]), axis=1)\n",
    "\n",
    "print(100 * int(df[[\"Brand\"]].count()) /int(df[[\"Title\"]].count()),\" % of the brands have been guessed from the title\\n\")\n",
    "df[[\"Brand\"]].info()"
   ]
  },
  {
   "cell_type": "code",
   "execution_count": 19,
   "id": "739e138e",
   "metadata": {},
   "outputs": [
    {
     "data": {
      "text/html": [
       "<div>\n",
       "<style scoped>\n",
       "    .dataframe tbody tr th:only-of-type {\n",
       "        vertical-align: middle;\n",
       "    }\n",
       "\n",
       "    .dataframe tbody tr th {\n",
       "        vertical-align: top;\n",
       "    }\n",
       "\n",
       "    .dataframe thead th {\n",
       "        text-align: right;\n",
       "    }\n",
       "</style>\n",
       "<table border=\"1\" class=\"dataframe\">\n",
       "  <thead>\n",
       "    <tr style=\"text-align: right;\">\n",
       "      <th></th>\n",
       "      <th>Title</th>\n",
       "      <th>Product</th>\n",
       "      <th>Description</th>\n",
       "      <th>Brand</th>\n",
       "    </tr>\n",
       "  </thead>\n",
       "  <tbody>\n",
       "    <tr>\n",
       "      <th>0</th>\n",
       "      <td>Yamaha (SY-77) Music Synthesizer</td>\n",
       "      <td>Synthesizer</td>\n",
       "      <td>Sri Lanka's Largest Digital Piano Seller  Dire...</td>\n",
       "      <td>Yamaha</td>\n",
       "    </tr>\n",
       "    <tr>\n",
       "      <th>3</th>\n",
       "      <td>Yamaha Semi Acoustic Guitars</td>\n",
       "      <td>Guitar</td>\n",
       "      <td>Yamaha semi acoustic guitar.  Model- FX310A. B...</td>\n",
       "      <td>Yamaha</td>\n",
       "    </tr>\n",
       "    <tr>\n",
       "      <th>4</th>\n",
       "      <td>Yamaha Guitar</td>\n",
       "      <td>Guitar</td>\n",
       "      <td>Yamaha fG-151 Made in Japan Good condition Goo...</td>\n",
       "      <td>Yamaha</td>\n",
       "    </tr>\n",
       "    <tr>\n",
       "      <th>11</th>\n",
       "      <td>Fender 41\" box guitar</td>\n",
       "      <td>Guitar</td>\n",
       "      <td>Perfect sound and toneF cut model Brand new Is...</td>\n",
       "      <td>Fender</td>\n",
       "    </tr>\n",
       "    <tr>\n",
       "      <th>20</th>\n",
       "      <td>Yamaha PSR 433 Keyboard</td>\n",
       "      <td>Keyboard</td>\n",
       "      <td>Yamaha Organ in good condition with Hercules a...</td>\n",
       "      <td>Yamaha</td>\n",
       "    </tr>\n",
       "  </tbody>\n",
       "</table>\n",
       "</div>"
      ],
      "text/plain": [
       "                               Title      Product  \\\n",
       "0   Yamaha (SY-77) Music Synthesizer  Synthesizer   \n",
       "3       Yamaha Semi Acoustic Guitars       Guitar   \n",
       "4                      Yamaha Guitar       Guitar   \n",
       "11             Fender 41\" box guitar       Guitar   \n",
       "20           Yamaha PSR 433 Keyboard     Keyboard   \n",
       "\n",
       "                                          Description   Brand  \n",
       "0   Sri Lanka's Largest Digital Piano Seller  Dire...  Yamaha  \n",
       "3   Yamaha semi acoustic guitar.  Model- FX310A. B...  Yamaha  \n",
       "4   Yamaha fG-151 Made in Japan Good condition Goo...  Yamaha  \n",
       "11  Perfect sound and toneF cut model Brand new Is...  Fender  \n",
       "20  Yamaha Organ in good condition with Hercules a...  Yamaha  "
      ]
     },
     "execution_count": 19,
     "metadata": {},
     "output_type": "execute_result"
    }
   ],
   "source": [
    "df[df.Brand.notnull()][[\"Title\", \"Product\", \"Description\", \"Brand\"]].head()"
   ]
  },
  {
   "cell_type": "code",
   "execution_count": 20,
   "id": "2dfb1440",
   "metadata": {},
   "outputs": [
    {
     "data": {
      "text/plain": [
       "array(['Yamaha', nan, 'Fender', 'Boss', 'Emg', 'Ibanez', 'Roland',\n",
       "       'Numark', 'Tascam', 'Art', 'Zoom', 'Ams', 'Korg', 'Rme',\n",
       "       'Behringer', 'Fishman', 'Jbl', 'Pioneer', 'Casio', 'Crown',\n",
       "       'Shure', 'Marshall', 'Zildjian', 'Dbx', 'Sennheiser', 'Tama',\n",
       "       'Soundcraft', 'Epiphone', 'M-audio', 'Sabian', 'Rcf', 'Gemini',\n",
       "       'Peavey', 'Access', 'Native instruments', 'Line ', 'Mackie',\n",
       "       'Nord', 'Rode', 'Mapex', 'Sony', 'Alesis', 'Nux', 'Remo', 'Akg',\n",
       "       'Takamine', 'Luna', 'Vox', 'Pearl', 'Digitech', 'Cme', 'Jackson',\n",
       "       \"D'addario\", 'Hohner', 'Bose', 'Medeli', 'Esp', 'Novation',\n",
       "       'Lakland', 'Evans', 'Denon dj', 'Kawai', 'Washburn', 'Qsc',\n",
       "       'Electro voice', 'Ampeg', 'Paiste', 'Warwick', 'Matrix', 'Audix',\n",
       "       'Randall', 'Nektar', 'Apogee', 'Neutrik', 'Mxr', 'Reloop', 'Prs',\n",
       "       'Skb', 'Focusrite', 'Gibson', 'Gator', 'Genelec', 'Laney', 'Rane',\n",
       "       'Dunlop', 'Presonus', 'Lexicon', 'Tc helicon', 'Eminence',\n",
       "       'Celestion', 'Steinberg', 'Kickport', 'Meinl', 'Roli', 'Kramer',\n",
       "       'Ludwig', 'Pedaltrain'], dtype=object)"
      ]
     },
     "execution_count": 20,
     "metadata": {},
     "output_type": "execute_result"
    }
   ],
   "source": [
    "df.Brand.unique()"
   ]
  },
  {
   "cell_type": "code",
   "execution_count": 21,
   "id": "f3d94233",
   "metadata": {},
   "outputs": [
    {
     "data": {
      "text/plain": [
       "Yamaha        546\n",
       "Roland        170\n",
       "Jbl            86\n",
       "Pioneer        75\n",
       "Casio          64\n",
       "             ... \n",
       "Lakland         1\n",
       "Nord            1\n",
       "Luna            1\n",
       "Medeli          1\n",
       "Pedaltrain      1\n",
       "Name: Brand, Length: 96, dtype: int64"
      ]
     },
     "execution_count": 21,
     "metadata": {},
     "output_type": "execute_result"
    }
   ],
   "source": [
    "df[\"Brand\"].value_counts()"
   ]
  },
  {
   "cell_type": "code",
   "execution_count": 22,
   "id": "d4c4e823",
   "metadata": {},
   "outputs": [],
   "source": [
    "# We saved the processed data\n",
    "df.to_csv(\"processed-data.csv\")"
   ]
  },
  {
   "cell_type": "code",
   "execution_count": null,
   "id": "9eb5b6db",
   "metadata": {},
   "outputs": [],
   "source": []
  }
 ],
 "metadata": {
  "kernelspec": {
   "display_name": "Python 3 (ipykernel)",
   "language": "python",
   "name": "python3"
  },
  "language_info": {
   "codemirror_mode": {
    "name": "ipython",
    "version": 3
   },
   "file_extension": ".py",
   "mimetype": "text/x-python",
   "name": "python",
   "nbconvert_exporter": "python",
   "pygments_lexer": "ipython3",
   "version": "3.9.7"
  }
 },
 "nbformat": 4,
 "nbformat_minor": 5
}
