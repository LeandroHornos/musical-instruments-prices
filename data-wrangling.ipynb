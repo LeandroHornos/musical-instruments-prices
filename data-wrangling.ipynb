{
 "cells": [
  {
   "cell_type": "markdown",
   "id": "7658dd1f",
   "metadata": {},
   "source": [
    "# Musical instruments prices\n",
    "### A study of the prices of musical instruments in Sri Lanka"
   ]
  },
  {
   "cell_type": "code",
   "execution_count": 1,
   "id": "06fcafd2",
   "metadata": {},
   "outputs": [],
   "source": [
    "import numpy as np\n",
    "import pandas as pd"
   ]
  },
  {
   "cell_type": "code",
   "execution_count": 2,
   "id": "4802f534",
   "metadata": {},
   "outputs": [],
   "source": [
    "df = pd.read_csv(\"raw-data.csv\", encoding=\"utf-8\")"
   ]
  },
  {
   "cell_type": "markdown",
   "id": "7079e8e9",
   "metadata": {},
   "source": [
    "## Cleaning the dataset"
   ]
  },
  {
   "cell_type": "markdown",
   "id": "30a8b232",
   "metadata": {},
   "source": [
    "Let's take a look at data that we imported from the csv"
   ]
  },
  {
   "cell_type": "code",
   "execution_count": 3,
   "id": "f1075aba",
   "metadata": {},
   "outputs": [
    {
     "data": {
      "text/html": [
       "<div>\n",
       "<style scoped>\n",
       "    .dataframe tbody tr th:only-of-type {\n",
       "        vertical-align: middle;\n",
       "    }\n",
       "\n",
       "    .dataframe tbody tr th {\n",
       "        vertical-align: top;\n",
       "    }\n",
       "\n",
       "    .dataframe thead th {\n",
       "        text-align: right;\n",
       "    }\n",
       "</style>\n",
       "<table border=\"1\" class=\"dataframe\">\n",
       "  <thead>\n",
       "    <tr style=\"text-align: right;\">\n",
       "      <th></th>\n",
       "      <th>Title</th>\n",
       "      <th>Sub_title</th>\n",
       "      <th>Price</th>\n",
       "      <th>Instrument_Type</th>\n",
       "      <th>Condition</th>\n",
       "      <th>Location</th>\n",
       "      <th>Description</th>\n",
       "      <th>Post_URL</th>\n",
       "      <th>Seller_name</th>\n",
       "      <th>Seller_type</th>\n",
       "      <th>published_date</th>\n",
       "    </tr>\n",
       "  </thead>\n",
       "  <tbody>\n",
       "    <tr>\n",
       "      <th>0</th>\n",
       "      <td>Yamaha (SY-77) Music Synthesizer for sale</td>\n",
       "      <td>Posted on 04 Oct 7:11 pm, Ja-Ela, Gampaha</td>\n",
       "      <td>Rs 39,000</td>\n",
       "      <td>Keyboard / Piano</td>\n",
       "      <td>Used</td>\n",
       "      <td>Ja-Ela,  Gampaha</td>\n",
       "      <td>Â°â¢Â°Sri Lanka's Largest Digital Piano Selle...</td>\n",
       "      <td>https://ikman.lk/en/ad/yamaha-sy-77-music-synt...</td>\n",
       "      <td>Seven Star International</td>\n",
       "      <td>Member</td>\n",
       "      <td>2021-10-04 19:11:00</td>\n",
       "    </tr>\n",
       "    <tr>\n",
       "      <th>1</th>\n",
       "      <td>SRX-718 BASS BIN (PAIR) for sale</td>\n",
       "      <td>Posted on 10 Oct 7:54 pm, Kadawatha, Gampaha</td>\n",
       "      <td>Rs 77,500</td>\n",
       "      <td>Studio / Live Music Equipment</td>\n",
       "      <td>New</td>\n",
       "      <td>Kadawatha,  Gampaha</td>\n",
       "      <td>â¡Watts 3200â¡â¡Treated Plywoodâ¡</td>\n",
       "      <td>https://ikman.lk/en/ad/srx-718-bass-bin-pair-f...</td>\n",
       "      <td>Sasiru Super Sonics</td>\n",
       "      <td>Member</td>\n",
       "      <td>2021-10-10 19:54:00</td>\n",
       "    </tr>\n",
       "    <tr>\n",
       "      <th>2</th>\n",
       "      <td>Piano (Malcom Mendis Piano) for sale</td>\n",
       "      <td>Posted on 13 Oct 12:43 pm, Kandana, Gampaha</td>\n",
       "      <td>Rs 130,000</td>\n",
       "      <td>Keyboard / Piano</td>\n",
       "      <td>Used</td>\n",
       "      <td>Kandana,  Gampaha</td>\n",
       "      <td>Sri Lanka's Biggest Piano Sale, Reasonable pri...</td>\n",
       "      <td>https://ikman.lk/en/ad/piano-malcom-mendis-pia...</td>\n",
       "      <td>Sell Fast | à¶à¶³à·à¶± | MCI Ikman à¶¯à·à¶±...</td>\n",
       "      <td>Member</td>\n",
       "      <td>2021-10-13 12:43:00</td>\n",
       "    </tr>\n",
       "  </tbody>\n",
       "</table>\n",
       "</div>"
      ],
      "text/plain": [
       "                                       Title  \\\n",
       "0  Yamaha (SY-77) Music Synthesizer for sale   \n",
       "1           SRX-718 BASS BIN (PAIR) for sale   \n",
       "2       Piano (Malcom Mendis Piano) for sale   \n",
       "\n",
       "                                      Sub_title       Price  \\\n",
       "0     Posted on 04 Oct 7:11 pm, Ja-Ela, Gampaha   Rs 39,000   \n",
       "1  Posted on 10 Oct 7:54 pm, Kadawatha, Gampaha   Rs 77,500   \n",
       "2   Posted on 13 Oct 12:43 pm, Kandana, Gampaha  Rs 130,000   \n",
       "\n",
       "                 Instrument_Type Condition              Location  \\\n",
       "0               Keyboard / Piano      Used      Ja-Ela,  Gampaha   \n",
       "1  Studio / Live Music Equipment       New   Kadawatha,  Gampaha   \n",
       "2               Keyboard / Piano      Used     Kandana,  Gampaha   \n",
       "\n",
       "                                         Description  \\\n",
       "0  Â°â¢Â°Sri Lanka's Largest Digital Piano Selle...   \n",
       "1              â¡Watts 3200â¡â¡Treated Plywoodâ¡   \n",
       "2  Sri Lanka's Biggest Piano Sale, Reasonable pri...   \n",
       "\n",
       "                                            Post_URL  \\\n",
       "0  https://ikman.lk/en/ad/yamaha-sy-77-music-synt...   \n",
       "1  https://ikman.lk/en/ad/srx-718-bass-bin-pair-f...   \n",
       "2  https://ikman.lk/en/ad/piano-malcom-mendis-pia...   \n",
       "\n",
       "                                         Seller_name Seller_type  \\\n",
       "0                           Seven Star International      Member   \n",
       "1                                Sasiru Super Sonics      Member   \n",
       "2  Sell Fast | à¶à¶³à·à¶± | MCI Ikman à¶¯à·à¶±...      Member   \n",
       "\n",
       "        published_date  \n",
       "0  2021-10-04 19:11:00  \n",
       "1  2021-10-10 19:54:00  \n",
       "2  2021-10-13 12:43:00  "
      ]
     },
     "execution_count": 3,
     "metadata": {},
     "output_type": "execute_result"
    }
   ],
   "source": [
    "df.head(3)"
   ]
  },
  {
   "cell_type": "code",
   "execution_count": 4,
   "id": "f9ed1215",
   "metadata": {},
   "outputs": [
    {
     "name": "stdout",
     "output_type": "stream",
     "text": [
      "<class 'pandas.core.frame.DataFrame'>\n",
      "RangeIndex: 5167 entries, 0 to 5166\n",
      "Data columns (total 11 columns):\n",
      " #   Column           Non-Null Count  Dtype \n",
      "---  ------           --------------  ----- \n",
      " 0   Title            5167 non-null   object\n",
      " 1   Sub_title        5167 non-null   object\n",
      " 2   Price            5167 non-null   object\n",
      " 3   Instrument_Type  5167 non-null   object\n",
      " 4   Condition        5167 non-null   object\n",
      " 5   Location         5167 non-null   object\n",
      " 6   Description      5167 non-null   object\n",
      " 7   Post_URL         5167 non-null   object\n",
      " 8   Seller_name      5167 non-null   object\n",
      " 9   Seller_type      5167 non-null   object\n",
      " 10  published_date   5167 non-null   object\n",
      "dtypes: object(11)\n",
      "memory usage: 444.2+ KB\n"
     ]
    }
   ],
   "source": [
    "df.info()"
   ]
  },
  {
   "cell_type": "markdown",
   "id": "c44935a6",
   "metadata": {},
   "source": [
    "We can se that we have no missing values on this dataset. However, al values appear as \"object\" despite some of them are numbers or dates. We have also two variables,\"Condition\" and \"Seller_type\", that seem to be binary. Let's check that before moving on"
   ]
  },
  {
   "cell_type": "code",
   "execution_count": 5,
   "id": "11514f98",
   "metadata": {},
   "outputs": [
    {
     "name": "stdout",
     "output_type": "stream",
     "text": [
      "['Used' 'New']\n",
      "['Member' 'Premium-Member']\n"
     ]
    }
   ],
   "source": [
    "print(df.Condition.unique())\n",
    "print(df.Seller_type.unique())"
   ]
  },
  {
   "cell_type": "markdown",
   "id": "5a657e17",
   "metadata": {},
   "source": [
    "As suspected, both variables are binaries. We will change those of a new pair of variables that take 1s and 0s as it's possible values"
   ]
  },
  {
   "cell_type": "markdown",
   "id": "83200a86",
   "metadata": {},
   "source": [
    "**Binary variables**"
   ]
  },
  {
   "cell_type": "code",
   "execution_count": 6,
   "id": "41d84ebe",
   "metadata": {},
   "outputs": [],
   "source": [
    "# We are convert the condition type to a boolean variable with 1s and 0s\n",
    "\n",
    "def textToBoolean(condition, yesval, noval):\n",
    "    if condition == yesval:\n",
    "        return 1\n",
    "    elif condition == noval:\n",
    "        return 0\n",
    "    else:\n",
    "        return null\n",
    "df[\"Is_new\"] = df[\"Condition\"].apply(lambda x: textToBoolean(x, \"New\", \"Used\"))\n",
    "df[\"Premium_seller\"] = df[\"Seller_type\"].apply(lambda x: textToBoolean(x, \"Member\", \"Premium-Member\"))"
   ]
  },
  {
   "cell_type": "markdown",
   "id": "14da7f55",
   "metadata": {},
   "source": [
    "**Prices**"
   ]
  },
  {
   "cell_type": "code",
   "execution_count": 7,
   "id": "b66dfe7a",
   "metadata": {},
   "outputs": [],
   "source": [
    "# We want to convert prices to numbers:\n",
    "\n",
    "def parsePrice(text):\n",
    "    text = text.replace(\"Rs \",\"\")\n",
    "    text = text.replace(\",\",\"\")\n",
    "    return int(text)\n",
    "\n",
    "df[\"Price_value\"] = df[\"Price\"].apply(lambda x: parsePrice(x))"
   ]
  },
  {
   "cell_type": "markdown",
   "id": "caffb282",
   "metadata": {},
   "source": [
    "**Dates**"
   ]
  },
  {
   "cell_type": "code",
   "execution_count": 8,
   "id": "2b2b7be0",
   "metadata": {},
   "outputs": [
    {
     "name": "stdout",
     "output_type": "stream",
     "text": [
      "Is_new values: [0 1]\n",
      "Premium_seller values: [0 1]\n"
     ]
    }
   ],
   "source": [
    "# Now, let's convert the date strings in \"published_date\" to datetime objects\n",
    "\n",
    "df[\"Published\"] = pd.to_datetime(df[\"published_date\"], format=\"%Y-%m-%d %H:%M:%S\")\n",
    "\n",
    "\n",
    "# Let's check if variables have been created ok:\n",
    "print(\"Is_new values:\", df.Is_new.unique())\n",
    "print(\"Premium_seller values:\", df.Is_new.unique())\n"
   ]
  },
  {
   "cell_type": "markdown",
   "id": "ce493335",
   "metadata": {},
   "source": [
    "**Title**\n",
    "We can see that text fields are filled with strange characters. # If we take a look at the \"Description\" column, we will see some weird characters mixed with the text"
   ]
  },
  {
   "cell_type": "code",
   "execution_count": 9,
   "id": "5e6a5dd4",
   "metadata": {},
   "outputs": [
    {
     "data": {
      "text/plain": [
       "\"Â°â\\x80¢Â°Sri Lanka's Largest Digital Piano SellerÂ°â\\x80¢Â° Â°â\\x80¢Â° Direct Imported Â°â\\x80¢Â° Fully Functional and ready to Use Â°â\\x80¢Â° Cosmetics : 10/10Â°â\\x80¢Â° Ideal for an Hotelier or For an keen learner.Â°â\\x80¢Â° 6 months of  WarrantyÂ°â\\x80¢Â° Furnished to the OptimumÂ°â\\x80¢Â° At Brand New Conditionâ\\x80¢Â°â\\x80¢ The Art of Honour Lasting Values Â® â\\x80¢Â°â\\x80¢\""
      ]
     },
     "execution_count": 9,
     "metadata": {},
     "output_type": "execute_result"
    }
   ],
   "source": [
    "# Let's se an example:\n",
    "badtext = df.iloc[0].Description\n",
    "badtext"
   ]
  },
  {
   "cell_type": "code",
   "execution_count": 10,
   "id": "c7b0fe82",
   "metadata": {},
   "outputs": [
    {
     "data": {
      "text/plain": [
       "\"Sri Lanka's Largest Digital Piano Seller  Direct Imported  Fully Functional and ready to Use  Cosmetics : 10/10 Ideal for an Hotelier or For an keen learner. 6 months of  Warranty Furnished to the Optimum At Brand New Condition The Art of Honour Lasting Values  \""
      ]
     },
     "execution_count": 10,
     "metadata": {},
     "output_type": "execute_result"
    }
   ],
   "source": [
    "# We are going to make a list of the characters we want to remove and then\n",
    "# we will create a function that will replace those characters with an empty string\n",
    "\n",
    "badchars = [\"Â\",\"\\x80¢\",\"°\",\"â\",\"®\",\"¡\",\"à\", \"¶\",\"±\", \"ð\"]\n",
    "\n",
    "def cleanText(text, badchar_list):\n",
    "    newtext = text\n",
    "    for char in badchar_list:\n",
    "        newtext = newtext.replace(char,\"\")\n",
    "    return newtext\n",
    "\n",
    "# In this example we se many of the characters dissapearing, but most of\n",
    "# the description entries are full of added substrings with seemingly random\n",
    "# patterns, so it is difficult to easyly clean them all with a simple script.\n",
    "\n",
    "goodtext = cleanText(badtext, badchars)\n",
    "goodtext"
   ]
  },
  {
   "cell_type": "code",
   "execution_count": 11,
   "id": "20b846cc",
   "metadata": {},
   "outputs": [],
   "source": [
    "# We apply the changes to the dataframe\n",
    "df[\"Description\"] = df[\"Description\"].apply(lambda x: cleanText(x, badchars))\n",
    "df[\"Title\"] = df[\"Title\"].apply(lambda x: cleanText(x, badchars))"
   ]
  },
  {
   "cell_type": "markdown",
   "id": "a68c325d",
   "metadata": {},
   "source": [
    "But, even though this cleans some of the fields, there are many that are plain unusable. Most of the descriptions are filleds with strange characters, but only a few title fields are completely unusable. We can se it is only about 70 entries:"
   ]
  },
  {
   "cell_type": "code",
   "execution_count": 12,
   "id": "6fc5a959",
   "metadata": {},
   "outputs": [
    {
     "data": {
      "text/html": [
       "<div>\n",
       "<style scoped>\n",
       "    .dataframe tbody tr th:only-of-type {\n",
       "        vertical-align: middle;\n",
       "    }\n",
       "\n",
       "    .dataframe tbody tr th {\n",
       "        vertical-align: top;\n",
       "    }\n",
       "\n",
       "    .dataframe thead th {\n",
       "        text-align: right;\n",
       "    }\n",
       "</style>\n",
       "<table border=\"1\" class=\"dataframe\">\n",
       "  <thead>\n",
       "    <tr style=\"text-align: right;\">\n",
       "      <th></th>\n",
       "      <th>Title</th>\n",
       "      <th>Description</th>\n",
       "    </tr>\n",
       "  </thead>\n",
       "  <tbody>\n",
       "    <tr>\n",
       "      <th>2417</th>\n",
       "      <td>··½ ",
       "»§· ·§ ·» for sale</td>\n",
       "      <td>··½ ",
       "»§···· ·¸ » ½¯ ·§ ·»....  ··...</td>\n",
       "    </tr>\n",
       "    <tr>\n",
       "      <th>3158</th>\n",
       "      <td>···",
       " ·§ ·» for sale</td>\n",
       "      <td>§ ",
       "···º ···",
       ",···¹,¸·½·½ ,··,...</td>\n",
       "    </tr>\n",
       "    <tr>\n",
       "      <th>4548</th>\n",
       "      <td>½·­·· ·· ½¯ MP3 TRACKS for sale</td>\n",
       "      <td>· ·­ ·º ···¯·····¯º ·¯·· 201...</td>\n",
       "    </tr>\n",
       "    <tr>\n",
       "      <th>2490</th>\n",
       "      <td>½·­·¸ ·§·»· for sale</td>\n",
       "      <td>½·­· ···· ·§·»·,··©·,·º½··,...</td>\n",
       "    </tr>\n",
       "    <tr>\n",
       "      <th>150</th>\n",
       "      <td>½· 15 ··½· §·´· for sale</td>\n",
       "      <td>··¯§¸ ­·º··",
       "½· 15 ··½· §·´· ¯·...</td>\n",
       "    </tr>\n",
       "    <tr>\n",
       "      <th>4532</th>\n",
       "      <td>½· 15 §·´· 2 · for sale</td>\n",
       "      <td>··´·»·º§¸ ­.",
       "½· 15 ·½· 2 ·</td>\n",
       "    </tr>\n",
       "    <tr>\n",
       "      <th>4992</th>\n",
       "      <td>FERNANDES 4 String Bass Guitar for sale</td>\n",
       "      <td>··¯§¸ ­·º···. normal volume control 3·...</td>\n",
       "    </tr>\n",
       "    <tr>\n",
       "      <th>3140</th>\n",
       "      <td>yamaha wireless mic for sale</td>\n",
       "      <td>Brand newWireless mic</td>\n",
       "    </tr>\n",
       "    <tr>\n",
       "      <th>136</th>\n",
       "      <td>yamaha stage custom for sale</td>\n",
       "      <td>Import yamaha stage custom sell pack Good soun...</td>\n",
       "    </tr>\n",
       "    <tr>\n",
       "      <th>3870</th>\n",
       "      <td>yamaha speakers for sale</td>\n",
       "      <td>Brand new condition</td>\n",
       "    </tr>\n",
       "    <tr>\n",
       "      <th>2486</th>\n",
       "      <td>yamaha psr2000 for sale</td>\n",
       "      <td>all keyboards are not in working condition.goo...</td>\n",
       "    </tr>\n",
       "    <tr>\n",
       "      <th>2072</th>\n",
       "      <td>yamaha psr e 463 for sale</td>\n",
       "      <td>Brand new conditionUsb midi track playAudio re...</td>\n",
       "    </tr>\n",
       "    <tr>\n",
       "      <th>3540</th>\n",
       "      <td>yamaha psr e 403 for sale</td>\n",
       "      <td>··¯¸ ­­··º· ­Manual, software cd  ­</td>\n",
       "    </tr>\n",
       "    <tr>\n",
       "      <th>1230</th>\n",
       "      <td>yamaha piano for sale</td>\n",
       "      <td>Yamaha piano for saleGood condition Call for m...</td>\n",
       "    </tr>\n",
       "    <tr>\n",
       "      <th>2866</th>\n",
       "      <td>yamaha pasifica 112j for sale</td>\n",
       "      <td>Giurat eke middel pic up eka weda na</td>\n",
       "    </tr>\n",
       "  </tbody>\n",
       "</table>\n",
       "</div>"
      ],
      "text/plain": [
       "                                          Title  \\\n",
       "2417             ··½ \n",
       "»§· ·§ ·» for sale   \n",
       "3158                  ···\n",
       " ·§ ·» for sale   \n",
       "4548     \n",
       "½·­·· ·· ½¯ MP3 TRACKS for sale   \n",
       "2490                \n",
       "½·­·¸ ·§·»· for sale   \n",
       "150          \n",
       "½· 15 ··½· §·´· for sale   \n",
       "4532            \n",
       "½· 15 §·´· 2 · for sale   \n",
       "4992  FERNANDES 4 String Bass Guitar for sale   \n",
       "3140               yamaha wireless mic for sale   \n",
       "136                yamaha stage custom for sale   \n",
       "3870                   yamaha speakers for sale   \n",
       "2486                    yamaha psr2000 for sale   \n",
       "2072                  yamaha psr e 463 for sale   \n",
       "3540                  yamaha psr e 403 for sale   \n",
       "1230                      yamaha piano for sale   \n",
       "2866              yamaha pasifica 112j for sale   \n",
       "\n",
       "                                            Description  \n",
       "2417  ··½ \n",
       "»§···· ·¸ » ½¯ ·§ ·»....  ··...  \n",
       "3158  § \n",
       "···º ···\n",
       ",···¹,¸·½·½ ,··,...  \n",
       "4548  · ·­ ·º ···¯·····¯º ·¯·· 201...  \n",
       "2490  \n",
       "½·­· ···· ·§·»·,··©·,·º½··,...  \n",
       "150   ··¯§¸ ­·º··\n",
       "½· 15 ··½· §·´· ¯·...  \n",
       "4532             ··´·»·º§¸ ­.\n",
       "½· 15 ·½· 2 ·  \n",
       "4992  ··¯§¸ ­·º···. normal volume control 3·...  \n",
       "3140                              Brand newWireless mic  \n",
       "136   Import yamaha stage custom sell pack Good soun...  \n",
       "3870                                Brand new condition  \n",
       "2486  all keyboards are not in working condition.goo...  \n",
       "2072  Brand new conditionUsb midi track playAudio re...  \n",
       "3540         ··¯¸ ­­··º· ­Manual, software cd  ­  \n",
       "1230  Yamaha piano for saleGood condition Call for m...  \n",
       "2866               Giurat eke middel pic up eka weda na  "
      ]
     },
     "execution_count": 12,
     "metadata": {},
     "output_type": "execute_result"
    }
   ],
   "source": [
    "# Those rows cannot be used, so we drop them\n",
    "df = df.sort_values([\"Title\"], ascending=False)\n",
    "df[[\"Title\", \"Description\"]].iloc[60:75]"
   ]
  },
  {
   "cell_type": "code",
   "execution_count": 13,
   "id": "c1edae12",
   "metadata": {},
   "outputs": [
    {
     "data": {
      "text/html": [
       "<div>\n",
       "<style scoped>\n",
       "    .dataframe tbody tr th:only-of-type {\n",
       "        vertical-align: middle;\n",
       "    }\n",
       "\n",
       "    .dataframe tbody tr th {\n",
       "        vertical-align: top;\n",
       "    }\n",
       "\n",
       "    .dataframe thead th {\n",
       "        text-align: right;\n",
       "    }\n",
       "</style>\n",
       "<table border=\"1\" class=\"dataframe\">\n",
       "  <thead>\n",
       "    <tr style=\"text-align: right;\">\n",
       "      <th></th>\n",
       "      <th>Title</th>\n",
       "      <th>Description</th>\n",
       "    </tr>\n",
       "  </thead>\n",
       "  <tbody>\n",
       "    <tr>\n",
       "      <th>2486</th>\n",
       "      <td>yamaha psr2000 for sale</td>\n",
       "      <td>all keyboards are not in working condition.goo...</td>\n",
       "    </tr>\n",
       "    <tr>\n",
       "      <th>2072</th>\n",
       "      <td>yamaha psr e 463 for sale</td>\n",
       "      <td>Brand new conditionUsb midi track playAudio re...</td>\n",
       "    </tr>\n",
       "    <tr>\n",
       "      <th>3540</th>\n",
       "      <td>yamaha psr e 403 for sale</td>\n",
       "      <td>··¯¸ ­­··º· ­Manual, software cd  ­</td>\n",
       "    </tr>\n",
       "    <tr>\n",
       "      <th>1230</th>\n",
       "      <td>yamaha piano for sale</td>\n",
       "      <td>Yamaha piano for saleGood condition Call for m...</td>\n",
       "    </tr>\n",
       "    <tr>\n",
       "      <th>2866</th>\n",
       "      <td>yamaha pasifica 112j for sale</td>\n",
       "      <td>Giurat eke middel pic up eka weda na</td>\n",
       "    </tr>\n",
       "    <tr>\n",
       "      <th>1884</th>\n",
       "      <td>yamaha mixer 6 chanel for sale</td>\n",
       "      <td>yamaha mixer 6 chanelorginel japan use japan f...</td>\n",
       "    </tr>\n",
       "    <tr>\n",
       "      <th>1051</th>\n",
       "      <td>yamaha hs 8 for sale</td>\n",
       "      <td>yamaha hs 8 from USA Brand new condition 100%</td>\n",
       "    </tr>\n",
       "    <tr>\n",
       "      <th>3982</th>\n",
       "      <td>yamaha double top speakers for sale</td>\n",
       "      <td>Super quality soundsGood low Perfect for outdo...</td>\n",
       "    </tr>\n",
       "    <tr>\n",
       "      <th>2144</th>\n",
       "      <td>yamaha csr225 for sale</td>\n",
       "      <td>No errorsGood condition full set</td>\n",
       "    </tr>\n",
       "    <tr>\n",
       "      <th>2024</th>\n",
       "      <td>yamaha bbn5 japan bass Guitar for sale</td>\n",
       "      <td>yamaha bbn5 japan bass Guitarfrom japan</td>\n",
       "    </tr>\n",
       "  </tbody>\n",
       "</table>\n",
       "</div>"
      ],
      "text/plain": [
       "                                       Title  \\\n",
       "2486                 yamaha psr2000 for sale   \n",
       "2072               yamaha psr e 463 for sale   \n",
       "3540               yamaha psr e 403 for sale   \n",
       "1230                   yamaha piano for sale   \n",
       "2866           yamaha pasifica 112j for sale   \n",
       "1884          yamaha mixer 6 chanel for sale   \n",
       "1051                    yamaha hs 8 for sale   \n",
       "3982     yamaha double top speakers for sale   \n",
       "2144                  yamaha csr225 for sale   \n",
       "2024  yamaha bbn5 japan bass Guitar for sale   \n",
       "\n",
       "                                            Description  \n",
       "2486  all keyboards are not in working condition.goo...  \n",
       "2072  Brand new conditionUsb midi track playAudio re...  \n",
       "3540         ··¯¸ ­­··º· ­Manual, software cd  ­  \n",
       "1230  Yamaha piano for saleGood condition Call for m...  \n",
       "2866               Giurat eke middel pic up eka weda na  \n",
       "1884  yamaha mixer 6 chanelorginel japan use japan f...  \n",
       "1051      yamaha hs 8 from USA Brand new condition 100%  \n",
       "3982  Super quality soundsGood low Perfect for outdo...  \n",
       "2144                   No errorsGood condition full set  \n",
       "2024            yamaha bbn5 japan bass Guitarfrom japan  "
      ]
     },
     "execution_count": 13,
     "metadata": {},
     "output_type": "execute_result"
    }
   ],
   "source": [
    "df.drop(df.index[:70], inplace=True)\n",
    "df[[\"Title\", \"Description\"]].iloc[:10]"
   ]
  },
  {
   "cell_type": "code",
   "execution_count": 14,
   "id": "5e7ba93a",
   "metadata": {},
   "outputs": [
    {
     "name": "stdout",
     "output_type": "stream",
     "text": [
      "<class 'pandas.core.frame.DataFrame'>\n",
      "Int64Index: 5097 entries, 2486 to 2808\n",
      "Data columns (total 5 columns):\n",
      " #   Column          Non-Null Count  Dtype         \n",
      "---  ------          --------------  -----         \n",
      " 0   Is_new          5097 non-null   int64         \n",
      " 1   Price_value     5097 non-null   int64         \n",
      " 2   Premium_seller  5097 non-null   int64         \n",
      " 3   Published       5097 non-null   datetime64[ns]\n",
      " 4   Description     5097 non-null   object        \n",
      "dtypes: datetime64[ns](1), int64(3), object(1)\n",
      "memory usage: 238.9+ KB\n"
     ]
    }
   ],
   "source": [
    "# We take a final look at the dataset\n",
    "new_cols = [\"Is_new\", \"Price_value\", \"Premium_seller\",\"Published\", \"Description\"]\n",
    "df[new_cols].info()"
   ]
  },
  {
   "cell_type": "markdown",
   "id": "bf1f303d",
   "metadata": {},
   "source": [
    "Everything looks fine, so we can now proceed to analyze the dataset"
   ]
  },
  {
   "cell_type": "code",
   "execution_count": 15,
   "id": "cbccd9d2",
   "metadata": {},
   "outputs": [],
   "source": [
    "# We saved the processed data\n",
    "# df.to_csv(\"processed-data.csv\")"
   ]
  }
 ],
 "metadata": {
  "kernelspec": {
   "display_name": "Python 3 (ipykernel)",
   "language": "python",
   "name": "python3"
  },
  "language_info": {
   "codemirror_mode": {
    "name": "ipython",
    "version": 3
   },
   "file_extension": ".py",
   "mimetype": "text/x-python",
   "name": "python",
   "nbconvert_exporter": "python",
   "pygments_lexer": "ipython3",
   "version": "3.9.7"
  }
 },
 "nbformat": 4,
 "nbformat_minor": 5
}
