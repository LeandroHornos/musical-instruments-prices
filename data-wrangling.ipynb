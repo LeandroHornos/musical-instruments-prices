{
 "cells": [
  {
   "cell_type": "markdown",
   "id": "7658dd1f",
   "metadata": {},
   "source": [
    "# Musical instruments prices\n",
    "### A study of the musical instruments market in Sri Lanka"
   ]
  },
  {
   "cell_type": "markdown",
   "id": "42b5d647",
   "metadata": {},
   "source": [
    "Author: Leandro Hornos"
   ]
  },
  {
   "cell_type": "code",
   "execution_count": 1,
   "id": "06fcafd2",
   "metadata": {},
   "outputs": [],
   "source": [
    "import numpy as np\n",
    "import pandas as pd\n",
    "import matplotlib.pyplot as plt\n",
    "\n",
    "import re\n",
    "import json\n",
    "\n",
    "from wordcloud import WordCloud"
   ]
  },
  {
   "cell_type": "code",
   "execution_count": 2,
   "id": "4802f534",
   "metadata": {},
   "outputs": [],
   "source": [
    "df = pd.read_csv(\"raw-data.csv\", encoding=\"utf-8\", parse_dates=[\"published_date\"])"
   ]
  },
  {
   "cell_type": "markdown",
   "id": "7079e8e9",
   "metadata": {},
   "source": [
    "## Cleaning the dataset"
   ]
  },
  {
   "cell_type": "markdown",
   "id": "30a8b232",
   "metadata": {},
   "source": [
    "Let's take a look at data that we imported from the csv"
   ]
  },
  {
   "cell_type": "code",
   "execution_count": 3,
   "id": "f1075aba",
   "metadata": {},
   "outputs": [
    {
     "data": {
      "text/html": [
       "<div>\n",
       "<style scoped>\n",
       "    .dataframe tbody tr th:only-of-type {\n",
       "        vertical-align: middle;\n",
       "    }\n",
       "\n",
       "    .dataframe tbody tr th {\n",
       "        vertical-align: top;\n",
       "    }\n",
       "\n",
       "    .dataframe thead th {\n",
       "        text-align: right;\n",
       "    }\n",
       "</style>\n",
       "<table border=\"1\" class=\"dataframe\">\n",
       "  <thead>\n",
       "    <tr style=\"text-align: right;\">\n",
       "      <th></th>\n",
       "      <th>Title</th>\n",
       "      <th>Sub_title</th>\n",
       "      <th>Price</th>\n",
       "      <th>Instrument_Type</th>\n",
       "      <th>Condition</th>\n",
       "      <th>Location</th>\n",
       "      <th>Description</th>\n",
       "      <th>Post_URL</th>\n",
       "      <th>Seller_name</th>\n",
       "      <th>Seller_type</th>\n",
       "      <th>published_date</th>\n",
       "    </tr>\n",
       "  </thead>\n",
       "  <tbody>\n",
       "    <tr>\n",
       "      <th>0</th>\n",
       "      <td>Yamaha (SY-77) Music Synthesizer for sale</td>\n",
       "      <td>Posted on 04 Oct 7:11 pm, Ja-Ela, Gampaha</td>\n",
       "      <td>Rs 39,000</td>\n",
       "      <td>Keyboard / Piano</td>\n",
       "      <td>Used</td>\n",
       "      <td>Ja-Ela,  Gampaha</td>\n",
       "      <td>Â°â¢Â°Sri Lanka's Largest Digital Piano Selle...</td>\n",
       "      <td>https://ikman.lk/en/ad/yamaha-sy-77-music-synt...</td>\n",
       "      <td>Seven Star International</td>\n",
       "      <td>Member</td>\n",
       "      <td>2021-10-04 19:11:00</td>\n",
       "    </tr>\n",
       "    <tr>\n",
       "      <th>1</th>\n",
       "      <td>SRX-718 BASS BIN (PAIR) for sale</td>\n",
       "      <td>Posted on 10 Oct 7:54 pm, Kadawatha, Gampaha</td>\n",
       "      <td>Rs 77,500</td>\n",
       "      <td>Studio / Live Music Equipment</td>\n",
       "      <td>New</td>\n",
       "      <td>Kadawatha,  Gampaha</td>\n",
       "      <td>â¡Watts 3200â¡â¡Treated Plywoodâ¡</td>\n",
       "      <td>https://ikman.lk/en/ad/srx-718-bass-bin-pair-f...</td>\n",
       "      <td>Sasiru Super Sonics</td>\n",
       "      <td>Member</td>\n",
       "      <td>2021-10-10 19:54:00</td>\n",
       "    </tr>\n",
       "    <tr>\n",
       "      <th>2</th>\n",
       "      <td>Piano (Malcom Mendis Piano) for sale</td>\n",
       "      <td>Posted on 13 Oct 12:43 pm, Kandana, Gampaha</td>\n",
       "      <td>Rs 130,000</td>\n",
       "      <td>Keyboard / Piano</td>\n",
       "      <td>Used</td>\n",
       "      <td>Kandana,  Gampaha</td>\n",
       "      <td>Sri Lanka's Biggest Piano Sale, Reasonable pri...</td>\n",
       "      <td>https://ikman.lk/en/ad/piano-malcom-mendis-pia...</td>\n",
       "      <td>Sell Fast | à¶à¶³à·à¶± | MCI Ikman à¶¯à·à¶±...</td>\n",
       "      <td>Member</td>\n",
       "      <td>2021-10-13 12:43:00</td>\n",
       "    </tr>\n",
       "  </tbody>\n",
       "</table>\n",
       "</div>"
      ],
      "text/plain": [
       "                                       Title  \\\n",
       "0  Yamaha (SY-77) Music Synthesizer for sale   \n",
       "1           SRX-718 BASS BIN (PAIR) for sale   \n",
       "2       Piano (Malcom Mendis Piano) for sale   \n",
       "\n",
       "                                      Sub_title       Price  \\\n",
       "0     Posted on 04 Oct 7:11 pm, Ja-Ela, Gampaha   Rs 39,000   \n",
       "1  Posted on 10 Oct 7:54 pm, Kadawatha, Gampaha   Rs 77,500   \n",
       "2   Posted on 13 Oct 12:43 pm, Kandana, Gampaha  Rs 130,000   \n",
       "\n",
       "                 Instrument_Type Condition              Location  \\\n",
       "0               Keyboard / Piano      Used      Ja-Ela,  Gampaha   \n",
       "1  Studio / Live Music Equipment       New   Kadawatha,  Gampaha   \n",
       "2               Keyboard / Piano      Used     Kandana,  Gampaha   \n",
       "\n",
       "                                         Description  \\\n",
       "0  Â°â¢Â°Sri Lanka's Largest Digital Piano Selle...   \n",
       "1              â¡Watts 3200â¡â¡Treated Plywoodâ¡   \n",
       "2  Sri Lanka's Biggest Piano Sale, Reasonable pri...   \n",
       "\n",
       "                                            Post_URL  \\\n",
       "0  https://ikman.lk/en/ad/yamaha-sy-77-music-synt...   \n",
       "1  https://ikman.lk/en/ad/srx-718-bass-bin-pair-f...   \n",
       "2  https://ikman.lk/en/ad/piano-malcom-mendis-pia...   \n",
       "\n",
       "                                         Seller_name Seller_type  \\\n",
       "0                           Seven Star International      Member   \n",
       "1                                Sasiru Super Sonics      Member   \n",
       "2  Sell Fast | à¶à¶³à·à¶± | MCI Ikman à¶¯à·à¶±...      Member   \n",
       "\n",
       "       published_date  \n",
       "0 2021-10-04 19:11:00  \n",
       "1 2021-10-10 19:54:00  \n",
       "2 2021-10-13 12:43:00  "
      ]
     },
     "execution_count": 3,
     "metadata": {},
     "output_type": "execute_result"
    }
   ],
   "source": [
    "df.head(3)"
   ]
  },
  {
   "cell_type": "code",
   "execution_count": 4,
   "id": "f9ed1215",
   "metadata": {},
   "outputs": [
    {
     "name": "stdout",
     "output_type": "stream",
     "text": [
      "<class 'pandas.core.frame.DataFrame'>\n",
      "RangeIndex: 5167 entries, 0 to 5166\n",
      "Data columns (total 11 columns):\n",
      " #   Column           Non-Null Count  Dtype         \n",
      "---  ------           --------------  -----         \n",
      " 0   Title            5167 non-null   object        \n",
      " 1   Sub_title        5167 non-null   object        \n",
      " 2   Price            5167 non-null   object        \n",
      " 3   Instrument_Type  5167 non-null   object        \n",
      " 4   Condition        5167 non-null   object        \n",
      " 5   Location         5167 non-null   object        \n",
      " 6   Description      5167 non-null   object        \n",
      " 7   Post_URL         5167 non-null   object        \n",
      " 8   Seller_name      5167 non-null   object        \n",
      " 9   Seller_type      5167 non-null   object        \n",
      " 10  published_date   5167 non-null   datetime64[ns]\n",
      "dtypes: datetime64[ns](1), object(10)\n",
      "memory usage: 444.2+ KB\n"
     ]
    }
   ],
   "source": [
    "df.info()"
   ]
  },
  {
   "cell_type": "markdown",
   "id": "c44935a6",
   "metadata": {},
   "source": [
    "We can se that we have no missing values on this dataset. "
   ]
  },
  {
   "cell_type": "code",
   "execution_count": 5,
   "id": "11514f98",
   "metadata": {},
   "outputs": [
    {
     "name": "stdout",
     "output_type": "stream",
     "text": [
      "['Used' 'New']\n",
      "['Member' 'Premium-Member']\n"
     ]
    }
   ],
   "source": [
    "print(df.Condition.unique())\n",
    "print(df.Seller_type.unique())"
   ]
  },
  {
   "cell_type": "markdown",
   "id": "5a657e17",
   "metadata": {},
   "source": [
    "As suspected, both variables are binaries. We will change those of a new pair of variables that take 1s and 0s as it's possible values"
   ]
  },
  {
   "cell_type": "markdown",
   "id": "ce493335",
   "metadata": {},
   "source": [
    "**Text fields**<br>\n",
    "We can see that text fields are filled with strange characters. # If we take a look at the \"Description\" column, we will see some weird characters mixed with the text"
   ]
  },
  {
   "cell_type": "code",
   "execution_count": 6,
   "id": "76cf2240",
   "metadata": {},
   "outputs": [
    {
     "data": {
      "text/html": [
       "<div>\n",
       "<style scoped>\n",
       "    .dataframe tbody tr th:only-of-type {\n",
       "        vertical-align: middle;\n",
       "    }\n",
       "\n",
       "    .dataframe tbody tr th {\n",
       "        vertical-align: top;\n",
       "    }\n",
       "\n",
       "    .dataframe thead th {\n",
       "        text-align: right;\n",
       "    }\n",
       "</style>\n",
       "<table border=\"1\" class=\"dataframe\">\n",
       "  <thead>\n",
       "    <tr style=\"text-align: right;\">\n",
       "      <th></th>\n",
       "      <th>Title</th>\n",
       "      <th>Description</th>\n",
       "    </tr>\n",
       "  </thead>\n",
       "  <tbody>\n",
       "    <tr>\n",
       "      <th>0</th>\n",
       "      <td>Yamaha (SY-77) Music Synthesizer for sale</td>\n",
       "      <td>Â°â¢Â°Sri Lanka's Largest Digital Piano Selle...</td>\n",
       "    </tr>\n",
       "    <tr>\n",
       "      <th>1</th>\n",
       "      <td>SRX-718 BASS BIN (PAIR) for sale</td>\n",
       "      <td>â¡Watts 3200â¡â¡Treated Plywoodâ¡</td>\n",
       "    </tr>\n",
       "    <tr>\n",
       "      <th>2</th>\n",
       "      <td>Piano (Malcom Mendis Piano) for sale</td>\n",
       "      <td>Sri Lanka's Biggest Piano Sale, Reasonable pri...</td>\n",
       "    </tr>\n",
       "    <tr>\n",
       "      <th>3</th>\n",
       "      <td>Yamaha Semi Acoustic Guitars for sale</td>\n",
       "      <td>Yamaha semi acoustic guitar.  Model- FX310A. B...</td>\n",
       "    </tr>\n",
       "    <tr>\n",
       "      <th>4</th>\n",
       "      <td>Yamaha Guitar for sale</td>\n",
       "      <td>Yamaha fG-151 Made in Japan Good condition Goo...</td>\n",
       "    </tr>\n",
       "  </tbody>\n",
       "</table>\n",
       "</div>"
      ],
      "text/plain": [
       "                                       Title  \\\n",
       "0  Yamaha (SY-77) Music Synthesizer for sale   \n",
       "1           SRX-718 BASS BIN (PAIR) for sale   \n",
       "2       Piano (Malcom Mendis Piano) for sale   \n",
       "3      Yamaha Semi Acoustic Guitars for sale   \n",
       "4                     Yamaha Guitar for sale   \n",
       "\n",
       "                                         Description  \n",
       "0  Â°â¢Â°Sri Lanka's Largest Digital Piano Selle...  \n",
       "1              â¡Watts 3200â¡â¡Treated Plywoodâ¡  \n",
       "2  Sri Lanka's Biggest Piano Sale, Reasonable pri...  \n",
       "3  Yamaha semi acoustic guitar.  Model- FX310A. B...  \n",
       "4  Yamaha fG-151 Made in Japan Good condition Goo...  "
      ]
     },
     "execution_count": 6,
     "metadata": {},
     "output_type": "execute_result"
    }
   ],
   "source": [
    "df[[\"Title\", \"Description\"]].head()"
   ]
  },
  {
   "cell_type": "code",
   "execution_count": 7,
   "id": "c7b0fe82",
   "metadata": {},
   "outputs": [
    {
     "data": {
      "text/html": [
       "<div>\n",
       "<style scoped>\n",
       "    .dataframe tbody tr th:only-of-type {\n",
       "        vertical-align: middle;\n",
       "    }\n",
       "\n",
       "    .dataframe tbody tr th {\n",
       "        vertical-align: top;\n",
       "    }\n",
       "\n",
       "    .dataframe thead th {\n",
       "        text-align: right;\n",
       "    }\n",
       "</style>\n",
       "<table border=\"1\" class=\"dataframe\">\n",
       "  <thead>\n",
       "    <tr style=\"text-align: right;\">\n",
       "      <th></th>\n",
       "      <th>Title</th>\n",
       "      <th>Description</th>\n",
       "    </tr>\n",
       "  </thead>\n",
       "  <tbody>\n",
       "    <tr>\n",
       "      <th>0</th>\n",
       "      <td>Yamaha (SY-77) Music Synthesizer for sale</td>\n",
       "      <td>Sri Lanka's Largest Digital Piano Seller  Dire...</td>\n",
       "    </tr>\n",
       "    <tr>\n",
       "      <th>1</th>\n",
       "      <td>SRX-718 BASS BIN (PAIR) for sale</td>\n",
       "      <td>Watts 3200Treated Plywood</td>\n",
       "    </tr>\n",
       "    <tr>\n",
       "      <th>2</th>\n",
       "      <td>Piano (Malcom Mendis Piano) for sale</td>\n",
       "      <td>Sri Lanka's Biggest Piano Sale, Reasonable pri...</td>\n",
       "    </tr>\n",
       "    <tr>\n",
       "      <th>3</th>\n",
       "      <td>Yamaha Semi Acoustic Guitars for sale</td>\n",
       "      <td>Yamaha semi acoustic guitar.  Model- FX310A. B...</td>\n",
       "    </tr>\n",
       "    <tr>\n",
       "      <th>4</th>\n",
       "      <td>Yamaha Guitar for sale</td>\n",
       "      <td>Yamaha fG-151 Made in Japan Good condition Goo...</td>\n",
       "    </tr>\n",
       "  </tbody>\n",
       "</table>\n",
       "</div>"
      ],
      "text/plain": [
       "                                       Title  \\\n",
       "0  Yamaha (SY-77) Music Synthesizer for sale   \n",
       "1           SRX-718 BASS BIN (PAIR) for sale   \n",
       "2       Piano (Malcom Mendis Piano) for sale   \n",
       "3      Yamaha Semi Acoustic Guitars for sale   \n",
       "4                     Yamaha Guitar for sale   \n",
       "\n",
       "                                         Description  \n",
       "0  Sri Lanka's Largest Digital Piano Seller  Dire...  \n",
       "1                          Watts 3200Treated Plywood  \n",
       "2  Sri Lanka's Biggest Piano Sale, Reasonable pri...  \n",
       "3  Yamaha semi acoustic guitar.  Model- FX310A. B...  \n",
       "4  Yamaha fG-151 Made in Japan Good condition Goo...  "
      ]
     },
     "execution_count": 7,
     "metadata": {},
     "output_type": "execute_result"
    }
   ],
   "source": [
    "# We define a function to remove every non ascii character\n",
    "\n",
    "def removeNonAsciiChars(text):\n",
    "    return \"\".join(char for char in text if ord(char) <128)\n",
    "    \n",
    "df[\"Description\"] = df[\"Description\"].apply(removeNonAsciiChars)\n",
    "df[\"Title\"] = df[\"Title\"].apply(removeNonAsciiChars)\n",
    "df[[\"Title\", \"Description\"]].head()"
   ]
  },
  {
   "cell_type": "markdown",
   "id": "bf1f303d",
   "metadata": {},
   "source": [
    "Everything looks fine, but whe see the irrelevan phrase \"for sale\" in most of the titles. We are going to remove it before going on."
   ]
  },
  {
   "cell_type": "code",
   "execution_count": 8,
   "id": "a94796f0",
   "metadata": {},
   "outputs": [
    {
     "data": {
      "text/plain": [
       "0    Yamaha (SY-77) Music Synthesizer\n",
       "1             SRX-718 BASS BIN (PAIR)\n",
       "2         Piano (Malcom Mendis Piano)\n",
       "3        Yamaha Semi Acoustic Guitars\n",
       "4                       Yamaha Guitar\n",
       "5                              Violin\n",
       "6        Expnsoin Card Xp 30.50.60.80\n",
       "7                                    \n",
       "8            semi acoustic box guitar\n",
       "9           32 keys Melodica full set\n",
       "Name: Title, dtype: object"
      ]
     },
     "execution_count": 8,
     "metadata": {},
     "output_type": "execute_result"
    }
   ],
   "source": [
    "df[\"Title\"] = df[\"Title\"].apply(lambda x: x.replace(\" for sale\", \"\"))\n",
    "\n",
    "# Check that the substring is gone\n",
    "df[\"Title\"].iloc[:10]"
   ]
  },
  {
   "cell_type": "markdown",
   "id": "8f6c042d",
   "metadata": {},
   "source": [
    "Now we have to check again for empty strings in the Title and Description fields, because some of those fields may have had only non ascii characters and now they are empty"
   ]
  },
  {
   "cell_type": "code",
   "execution_count": 9,
   "id": "db6fae96",
   "metadata": {},
   "outputs": [
    {
     "name": "stdout",
     "output_type": "stream",
     "text": [
      "17 titles are empty\n",
      "0 descrpitions are empty\n"
     ]
    }
   ],
   "source": [
    "print(df[df[\"Title\"] == \"\" ].shape[0], \"titles are empty\")\n",
    "print(df[df[\"Description\"] == \"\" ].shape[0],\"descrpitions are empty\")"
   ]
  },
  {
   "cell_type": "markdown",
   "id": "2baa8426",
   "metadata": {},
   "source": [
    "There are no empty descriptions but some of them contain only one o more ascii characters that passed the filter but it is not usefull information. We are going to delete the rows that have no info in the title, since we want to extract info from that field"
   ]
  },
  {
   "cell_type": "code",
   "execution_count": 10,
   "id": "c1ec79ce",
   "metadata": {},
   "outputs": [],
   "source": [
    "df = df[df[\"Title\"] != \"\" ]"
   ]
  },
  {
   "cell_type": "code",
   "execution_count": 11,
   "id": "98d6dff1",
   "metadata": {},
   "outputs": [
    {
     "name": "stdout",
     "output_type": "stream",
     "text": [
      "<class 'pandas.core.frame.DataFrame'>\n",
      "Int64Index: 5150 entries, 0 to 5166\n",
      "Data columns (total 2 columns):\n",
      " #   Column       Non-Null Count  Dtype \n",
      "---  ------       --------------  ----- \n",
      " 0   Title        5150 non-null   object\n",
      " 1   Description  5150 non-null   object\n",
      "dtypes: object(2)\n",
      "memory usage: 120.7+ KB\n"
     ]
    }
   ],
   "source": [
    "df[[\"Title\",\"Description\"]].info()"
   ]
  },
  {
   "cell_type": "markdown",
   "id": "14da7f55",
   "metadata": {},
   "source": [
    "**Prices**"
   ]
  },
  {
   "cell_type": "code",
   "execution_count": 12,
   "id": "b66dfe7a",
   "metadata": {},
   "outputs": [],
   "source": [
    "# We want to convert prices to numbers:\n",
    "\n",
    "def parsePrice(text):\n",
    "    text = text.replace(\"Rs \",\"\")\n",
    "    text = text.replace(\",\",\"\")\n",
    "    return int(text)\n",
    "\n",
    "df[\"Price_value\"] = df[\"Price\"].apply(parsePrice)"
   ]
  },
  {
   "cell_type": "markdown",
   "id": "9e3d0724",
   "metadata": {},
   "source": [
    "**Location**<br>\n",
    "The location field contains the name of the neighborhood/suburb and the city, separated by a comma. It would be a good idea to split this columns in two."
   ]
  },
  {
   "cell_type": "code",
   "execution_count": 13,
   "id": "17069924",
   "metadata": {},
   "outputs": [
    {
     "data": {
      "text/html": [
       "<div>\n",
       "<style scoped>\n",
       "    .dataframe tbody tr th:only-of-type {\n",
       "        vertical-align: middle;\n",
       "    }\n",
       "\n",
       "    .dataframe tbody tr th {\n",
       "        vertical-align: top;\n",
       "    }\n",
       "\n",
       "    .dataframe thead th {\n",
       "        text-align: right;\n",
       "    }\n",
       "</style>\n",
       "<table border=\"1\" class=\"dataframe\">\n",
       "  <thead>\n",
       "    <tr style=\"text-align: right;\">\n",
       "      <th></th>\n",
       "      <th>Neigborhood</th>\n",
       "      <th>City</th>\n",
       "    </tr>\n",
       "  </thead>\n",
       "  <tbody>\n",
       "    <tr>\n",
       "      <th>0</th>\n",
       "      <td>Ja-Ela</td>\n",
       "      <td>Gampaha</td>\n",
       "    </tr>\n",
       "    <tr>\n",
       "      <th>1</th>\n",
       "      <td>Kadawatha</td>\n",
       "      <td>Gampaha</td>\n",
       "    </tr>\n",
       "    <tr>\n",
       "      <th>2</th>\n",
       "      <td>Kandana</td>\n",
       "      <td>Gampaha</td>\n",
       "    </tr>\n",
       "  </tbody>\n",
       "</table>\n",
       "</div>"
      ],
      "text/plain": [
       "  Neigborhood     City\n",
       "0      Ja-Ela  Gampaha\n",
       "1   Kadawatha  Gampaha\n",
       "2     Kandana  Gampaha"
      ]
     },
     "execution_count": 13,
     "metadata": {},
     "output_type": "execute_result"
    }
   ],
   "source": [
    "def getLocation(location, option=\"city\"):\n",
    "    locdata = location.split(\",\")\n",
    "    if option == \"city\":\n",
    "        return locdata[1].strip()\n",
    "    elif option == \"neighborhood\":\n",
    "        return locdata[0].strip()\n",
    "    else:\n",
    "        return np.nan\n",
    "\n",
    "\n",
    "df[[\"Neigborhood\", \"City\"]] = df['Location'].apply(lambda x: pd.Series([getLocation(x,\"neighborhood\"),getLocation(x,\"city\")]))\n",
    "df.drop([\"Location\"],axis=1, inplace=True)\n",
    "df[[\"Neigborhood\", \"City\"]].head(3)"
   ]
  },
  {
   "cell_type": "markdown",
   "id": "d8be00fb",
   "metadata": {},
   "source": [
    "## Data Expansion\n",
    "\n",
    "We have a title variable that, contains a short text describing the product. It would be interesting to be able to identify if the product is an instrument or an accesory and, ideally, to get the name of the item. That would allow us to perform a deeper analisis, detecting trends on items itself and no only broad categories."
   ]
  },
  {
   "cell_type": "code",
   "execution_count": 15,
   "id": "cbccd9d2",
   "metadata": {},
   "outputs": [],
   "source": [
    "# We saved the processed data\n",
    "# df.to_csv(\"processed-data.csv\")"
   ]
  },
  {
   "cell_type": "markdown",
   "id": "03f5e0a3",
   "metadata": {},
   "source": [
    "### Extracting the product name from the title"
   ]
  },
  {
   "cell_type": "markdown",
   "id": "740e7ff8",
   "metadata": {},
   "source": [
    "Even though the dataset only contains a broad classification of products, the title of each entry contains a detailed description of what it is, from which the product can be extracted. We know that the dataset contains mainly musical instruments, that are quite easy to identify, and all sorts of accesories, parts and devices that will not be that easy to extract.<br>\n",
    "The aproach that we are going to take is to obtain a list in english of the most popular musical instruments in the world. We will also make a list of common music related products. We will search for this keywords in the titles, and the info about the matches will be stored in two new columns, one containing the name of the product and one a category label in order to discriminate actual musical instruments from other products."
   ]
  },
  {
   "cell_type": "code",
   "execution_count": 16,
   "id": "d6850a91",
   "metadata": {},
   "outputs": [],
   "source": [
    "# As a simple first approach, we are going to use a list of common instruments\n",
    "# and we are going to check for each instrument in each title text\n",
    "\n",
    "def extractKeyword(text, keywords):\n",
    "    # Recieves a dictionary with lists of\n",
    "    # types of products\n",
    "    for productType in list(keywords.keys()):\n",
    "        for product in keywords[productType]:\n",
    "            if product.upper() in text.upper():\n",
    "                return (product.capitalize()+\",\"+productType)\n",
    "    # If there are no matches return NaN\n",
    "    return np.nan"
   ]
  },
  {
   "cell_type": "code",
   "execution_count": 17,
   "id": "390c3cd3",
   "metadata": {},
   "outputs": [
    {
     "name": "stdout",
     "output_type": "stream",
     "text": [
      "['speaker', 'microphone', 'mic', 'mixer', 'effect', 'recorder', 'amplifier', 'light', 'console', 'card', 'monitor']\n",
      "72.50485436893204  % of the products have been guessed from the title\n",
      "\n"
     ]
    }
   ],
   "source": [
    "with open(\"resources/instruments_names.json\") as file:\n",
    "    keywords = json.load(file)\n",
    "\n",
    "print(keywords[\"equipment\"])\n",
    "df[\"Product\"] = df.apply(lambda row: extractKeyword(row[\"Title\"], keywords), axis=1)\n",
    "\n",
    "def getCategory(value, option=\"category\"):\n",
    "    if type(value) != str:\n",
    "        return np.nan\n",
    "    data = value.split(\",\")\n",
    "    if option == \"product\":\n",
    "        return data[0].strip()\n",
    "    elif option == \"category\":\n",
    "        return data[1].strip()\n",
    "    else:\n",
    "        return np.nan\n",
    "\n",
    "\n",
    "df[[\"Product\", \"Category\"]] = df['Product'].apply(lambda x: pd.Series([getCategory(x,\"product\"), getCategory(x,\"category\")]))\n",
    "\n",
    "print(100 * int(df[[\"Product\"]].count()) /int(df[[\"Title\"]].count()),\" % of the products have been guessed from the title\\n\")\n"
   ]
  },
  {
   "cell_type": "code",
   "execution_count": 18,
   "id": "e4b95f8e",
   "metadata": {
    "scrolled": true
   },
   "outputs": [
    {
     "data": {
      "text/html": [
       "<div>\n",
       "<style scoped>\n",
       "    .dataframe tbody tr th:only-of-type {\n",
       "        vertical-align: middle;\n",
       "    }\n",
       "\n",
       "    .dataframe tbody tr th {\n",
       "        vertical-align: top;\n",
       "    }\n",
       "\n",
       "    .dataframe thead th {\n",
       "        text-align: right;\n",
       "    }\n",
       "</style>\n",
       "<table border=\"1\" class=\"dataframe\">\n",
       "  <thead>\n",
       "    <tr style=\"text-align: right;\">\n",
       "      <th></th>\n",
       "      <th>Title</th>\n",
       "      <th>Product</th>\n",
       "      <th>Category</th>\n",
       "      <th>Description</th>\n",
       "    </tr>\n",
       "  </thead>\n",
       "  <tbody>\n",
       "    <tr>\n",
       "      <th>0</th>\n",
       "      <td>Yamaha (SY-77) Music Synthesizer</td>\n",
       "      <td>Synthesizer</td>\n",
       "      <td>instrument</td>\n",
       "      <td>Sri Lanka's Largest Digital Piano Seller  Dire...</td>\n",
       "    </tr>\n",
       "    <tr>\n",
       "      <th>2</th>\n",
       "      <td>Piano (Malcom Mendis Piano)</td>\n",
       "      <td>Piano</td>\n",
       "      <td>instrument</td>\n",
       "      <td>Sri Lanka's Biggest Piano Sale, Reasonable pri...</td>\n",
       "    </tr>\n",
       "    <tr>\n",
       "      <th>3</th>\n",
       "      <td>Yamaha Semi Acoustic Guitars</td>\n",
       "      <td>Guitar</td>\n",
       "      <td>instrument</td>\n",
       "      <td>Yamaha semi acoustic guitar.  Model- FX310A. B...</td>\n",
       "    </tr>\n",
       "    <tr>\n",
       "      <th>4</th>\n",
       "      <td>Yamaha Guitar</td>\n",
       "      <td>Guitar</td>\n",
       "      <td>instrument</td>\n",
       "      <td>Yamaha fG-151 Made in Japan Good condition Goo...</td>\n",
       "    </tr>\n",
       "    <tr>\n",
       "      <th>5</th>\n",
       "      <td>Violin</td>\n",
       "      <td>Violin</td>\n",
       "      <td>instrument</td>\n",
       "      <td>Brand new ConditionFull set With BoxBrand - Ne...</td>\n",
       "    </tr>\n",
       "  </tbody>\n",
       "</table>\n",
       "</div>"
      ],
      "text/plain": [
       "                              Title      Product    Category  \\\n",
       "0  Yamaha (SY-77) Music Synthesizer  Synthesizer  instrument   \n",
       "2       Piano (Malcom Mendis Piano)        Piano  instrument   \n",
       "3      Yamaha Semi Acoustic Guitars       Guitar  instrument   \n",
       "4                     Yamaha Guitar       Guitar  instrument   \n",
       "5                            Violin       Violin  instrument   \n",
       "\n",
       "                                         Description  \n",
       "0  Sri Lanka's Largest Digital Piano Seller  Dire...  \n",
       "2  Sri Lanka's Biggest Piano Sale, Reasonable pri...  \n",
       "3  Yamaha semi acoustic guitar.  Model- FX310A. B...  \n",
       "4  Yamaha fG-151 Made in Japan Good condition Goo...  \n",
       "5  Brand new ConditionFull set With BoxBrand - Ne...  "
      ]
     },
     "execution_count": 18,
     "metadata": {},
     "output_type": "execute_result"
    }
   ],
   "source": [
    "df.sort_index(inplace=True)\n",
    "df[df.Product.notnull()][[\"Title\", \"Product\", \"Category\",\"Description\"]].head()"
   ]
  },
  {
   "cell_type": "code",
   "execution_count": 19,
   "id": "403ba4b2",
   "metadata": {},
   "outputs": [
    {
     "name": "stdout",
     "output_type": "stream",
     "text": [
      "This are the Instrumets that where identified:\n",
      "\n"
     ]
    },
    {
     "data": {
      "text/plain": [
       "array(['Synthesizer', nan, 'Piano', 'Guitar', 'Violin', 'Card',\n",
       "       'Melodica', 'Cymbal', 'Drum', 'Keyboard', 'Pedal', 'Pickup',\n",
       "       'Speaker', 'Monitor', 'Bass guitar', 'Microphone', 'Bongo', 'Case',\n",
       "       'Strings', 'Flute', 'Serpina', 'Mic', 'Organ', 'Recorder',\n",
       "       'Amplifier', 'Trumpet', 'Mixer', 'Light', 'Console', 'Effect',\n",
       "       'Saxophone', 'Cello', 'Mandolin', 'Clarinet', 'Ukulele', 'Vinyl',\n",
       "       'Harp', 'Sitar', 'Grand piano', 'Viola', 'Tambourine', 'Accordian',\n",
       "       'Glockenspiel', 'Harmonica', 'Trombone'], dtype=object)"
      ]
     },
     "execution_count": 19,
     "metadata": {},
     "output_type": "execute_result"
    }
   ],
   "source": [
    "print (\"This are the Instrumets that where identified:\\n\")\n",
    "df.Product.unique()"
   ]
  },
  {
   "cell_type": "markdown",
   "id": "f1a94c90",
   "metadata": {},
   "source": [
    "Let's take a look at the products that we could not guess. What are they? One way to get a better idea of what kind of products are being left out is to make a word cloud of the titles of those unclassified products."
   ]
  },
  {
   "cell_type": "code",
   "execution_count": 20,
   "id": "e6bfed13",
   "metadata": {},
   "outputs": [
    {
     "data": {
      "image/png": "[encoded data removed]",
      "text/plain": [
       "<Figure size 432x288 with 1 Axes>"
      ]
     },
     "metadata": {
      "needs_background": "light"
     },
     "output_type": "display_data"
    }
   ],
   "source": [
    "def showWordCloud(text):\n",
    "    wordCloud = WordCloud(width=500, height=300, random_state=42, max_font_size=120).generate(text)\n",
    "    plt.imshow(wordCloud)\n",
    "    plt.axis(\"off\")\n",
    "    plt.show()\n",
    "    \n",
    "allTitles = \"\".join(titles for titles in df[\"Title\"][df.Product.isnull()])\n",
    "\n",
    "showWordCloud(allTitles)\n"
   ]
  },
  {
   "cell_type": "markdown",
   "id": "5f295aed",
   "metadata": {},
   "source": [
    "**Note:** After making this wordcloud, several products were added to the products list in the json files. This allowed to increase the number of product macthes from 43% to 68%"
   ]
  },
  {
   "cell_type": "markdown",
   "id": "bf0c03b9",
   "metadata": {},
   "source": [
    "### Guessing the Brand"
   ]
  },
  {
   "cell_type": "markdown",
   "id": "6b6c0548",
   "metadata": {},
   "source": [
    "This website (https://www.americanmusical.com/BrandList.aspx) contains a broad list of companies that comercialize musical instruments. The list was copyied and pasted on a text file. Since it is a list of links, other elements were copied aswell, so the list needs to be cleaned fist."
   ]
  },
  {
   "cell_type": "code",
   "execution_count": 21,
   "id": "15cb74c2",
   "metadata": {},
   "outputs": [
    {
     "name": "stdout",
     "output_type": "stream",
     "text": [
      "['2BOX Drums', '512 Audio', 'Abasi Guitars', 'Ableton', 'Access', 'Acon Digital', 'Adam Audio', 'ADJ Lighting', 'Ahead', 'AirTurn']\n"
     ]
    }
   ],
   "source": [
    "# The following lines show the process followed to obtain the brand names from the txt\n",
    "\n",
    "with open(\"resources/instrument_brands_list.txt\") as file:\n",
    "    data = file.read().replace(\"\\n\",\",\")\n",
    "\n",
    "# The txt contains the brand and the number of items in source's web store\n",
    "# The lines have a structure of the kind ItemName3 items(3)\n",
    "# Let's use a regular expresion to remove those substrings\n",
    "\n",
    "data = re.sub(r\"([0-9])+ items?\\([0-9]+\\)\",\"\",data)\n",
    "\n",
    "# store the brands in a list \n",
    "brandlist = data.split(\",\")\n",
    "\n",
    "# Check the result\n",
    "print(brandlist[:10])\n",
    "\n",
    "# Write this into a JSON\n",
    "brands = {\"Brands\":brandlist}\n",
    "with open('resources/brands.json', 'w') as fp:\n",
    "    json.dump(brands, fp)\n"
   ]
  },
  {
   "cell_type": "code",
   "execution_count": 22,
   "id": "4cd91f98",
   "metadata": {},
   "outputs": [
    {
     "name": "stdout",
     "output_type": "stream",
     "text": [
      "33.41747572815534  % of the brands have been guessed from the title\n",
      "\n",
      "<class 'pandas.core.frame.DataFrame'>\n",
      "Int64Index: 5150 entries, 0 to 5166\n",
      "Data columns (total 1 columns):\n",
      " #   Column  Non-Null Count  Dtype \n",
      "---  ------  --------------  ----- \n",
      " 0   Brand   1721 non-null   object\n",
      "dtypes: object(1)\n",
      "memory usage: 80.5+ KB\n"
     ]
    }
   ],
   "source": [
    "# Now we define a function to check if the text contains a brand\n",
    "\n",
    "def guessBrand(text):\n",
    "    with open(\"resources/Brands.json\") as file:\n",
    "        data = json.load(file)\n",
    "    brand = np.nan\n",
    "    for name in data[\"Brands\"]:\n",
    "        if name.upper() in text.upper():\n",
    "            return name.capitalize()\n",
    "    return brand\n",
    "\n",
    "\n",
    "df[\"Brand\"] = df.apply(lambda row: guessBrand(row[\"Title\"]), axis=1)\n",
    "\n",
    "print(100 * int(df[[\"Brand\"]].count()) /int(df[[\"Title\"]].count()),\" % of the brands have been guessed from the title\\n\")\n",
    "df[[\"Brand\"]].info()"
   ]
  },
  {
   "cell_type": "code",
   "execution_count": 23,
   "id": "739e138e",
   "metadata": {},
   "outputs": [
    {
     "data": {
      "text/html": [
       "<div>\n",
       "<style scoped>\n",
       "    .dataframe tbody tr th:only-of-type {\n",
       "        vertical-align: middle;\n",
       "    }\n",
       "\n",
       "    .dataframe tbody tr th {\n",
       "        vertical-align: top;\n",
       "    }\n",
       "\n",
       "    .dataframe thead th {\n",
       "        text-align: right;\n",
       "    }\n",
       "</style>\n",
       "<table border=\"1\" class=\"dataframe\">\n",
       "  <thead>\n",
       "    <tr style=\"text-align: right;\">\n",
       "      <th></th>\n",
       "      <th>Title</th>\n",
       "      <th>Product</th>\n",
       "      <th>Description</th>\n",
       "      <th>Brand</th>\n",
       "    </tr>\n",
       "  </thead>\n",
       "  <tbody>\n",
       "    <tr>\n",
       "      <th>0</th>\n",
       "      <td>Yamaha (SY-77) Music Synthesizer</td>\n",
       "      <td>Synthesizer</td>\n",
       "      <td>Sri Lanka's Largest Digital Piano Seller  Dire...</td>\n",
       "      <td>Yamaha</td>\n",
       "    </tr>\n",
       "    <tr>\n",
       "      <th>3</th>\n",
       "      <td>Yamaha Semi Acoustic Guitars</td>\n",
       "      <td>Guitar</td>\n",
       "      <td>Yamaha semi acoustic guitar.  Model- FX310A. B...</td>\n",
       "      <td>Yamaha</td>\n",
       "    </tr>\n",
       "    <tr>\n",
       "      <th>4</th>\n",
       "      <td>Yamaha Guitar</td>\n",
       "      <td>Guitar</td>\n",
       "      <td>Yamaha fG-151 Made in Japan Good condition Goo...</td>\n",
       "      <td>Yamaha</td>\n",
       "    </tr>\n",
       "    <tr>\n",
       "      <th>11</th>\n",
       "      <td>Fender 41\" box guitar</td>\n",
       "      <td>Guitar</td>\n",
       "      <td>Perfect sound and toneF cut model Brand new Is...</td>\n",
       "      <td>Fender</td>\n",
       "    </tr>\n",
       "    <tr>\n",
       "      <th>20</th>\n",
       "      <td>Yamaha PSR 433 Keyboard</td>\n",
       "      <td>Keyboard</td>\n",
       "      <td>Yamaha Organ in good condition with Hercules a...</td>\n",
       "      <td>Yamaha</td>\n",
       "    </tr>\n",
       "  </tbody>\n",
       "</table>\n",
       "</div>"
      ],
      "text/plain": [
       "                               Title      Product  \\\n",
       "0   Yamaha (SY-77) Music Synthesizer  Synthesizer   \n",
       "3       Yamaha Semi Acoustic Guitars       Guitar   \n",
       "4                      Yamaha Guitar       Guitar   \n",
       "11             Fender 41\" box guitar       Guitar   \n",
       "20           Yamaha PSR 433 Keyboard     Keyboard   \n",
       "\n",
       "                                          Description   Brand  \n",
       "0   Sri Lanka's Largest Digital Piano Seller  Dire...  Yamaha  \n",
       "3   Yamaha semi acoustic guitar.  Model- FX310A. B...  Yamaha  \n",
       "4   Yamaha fG-151 Made in Japan Good condition Goo...  Yamaha  \n",
       "11  Perfect sound and toneF cut model Brand new Is...  Fender  \n",
       "20  Yamaha Organ in good condition with Hercules a...  Yamaha  "
      ]
     },
     "execution_count": 23,
     "metadata": {},
     "output_type": "execute_result"
    }
   ],
   "source": [
    "df[df.Brand.notnull()][[\"Title\", \"Product\", \"Description\", \"Brand\"]].head()"
   ]
  },
  {
   "cell_type": "code",
   "execution_count": 24,
   "id": "2dfb1440",
   "metadata": {},
   "outputs": [
    {
     "data": {
      "text/plain": [
       "array(['Yamaha', nan, 'Fender', 'Boss', 'Emg', 'Ibanez', 'Roland',\n",
       "       'Numark', 'Tascam', 'Art', 'Zoom', 'Ams', 'Korg', 'Rme',\n",
       "       'Behringer', 'Fishman', 'Jbl', 'Pioneer', 'Casio', 'Crown',\n",
       "       'Shure', 'Marshall', 'Zildjian', 'Dbx', 'Sennheiser', 'Pearl',\n",
       "       'Tama', 'Soundcraft', 'Epiphone', 'M-audio', 'Sabian', 'Rcf',\n",
       "       'Gemini', 'Peavey', 'Access', 'Native instruments', 'Line ',\n",
       "       'Mackie', 'Nord', 'Rode', 'Mapex', 'Sony', 'Alesis', 'Nux', 'Remo',\n",
       "       'Akg', 'Takamine', 'Luna', 'Vox', 'Digitech', 'Cme', 'Jackson',\n",
       "       \"D'addario\", 'Hohner', 'Bose', 'Medeli', 'Esp', 'Novation',\n",
       "       'Lakland', 'Evans', 'Denon dj', 'Kawai', 'Washburn', 'Qsc',\n",
       "       'Electro voice', 'Ampeg', 'Paiste', 'Warwick', 'Matrix', 'Audix',\n",
       "       'Randall', 'Nektar', 'Apogee', 'Neutrik', 'Mxr', 'Reloop', 'Prs',\n",
       "       'Skb', 'Focusrite', 'Gibson', 'Gator', 'Lexicon', 'Genelec',\n",
       "       'Laney', 'Rane', 'Dunlop', 'Presonus', 'Tc helicon', 'Eminence',\n",
       "       'Celestion', 'Steinberg', 'Kickport', 'Meinl', 'Roli', 'Kramer',\n",
       "       'Ludwig', 'Pedaltrain'], dtype=object)"
      ]
     },
     "execution_count": 24,
     "metadata": {},
     "output_type": "execute_result"
    }
   ],
   "source": [
    "df.Brand.unique()"
   ]
  },
  {
   "cell_type": "code",
   "execution_count": 25,
   "id": "f3d94233",
   "metadata": {},
   "outputs": [
    {
     "data": {
      "text/plain": [
       "Yamaha        562\n",
       "Roland        172\n",
       "Jbl            86\n",
       "Pioneer        76\n",
       "Casio          64\n",
       "             ... \n",
       "Lakland         1\n",
       "Nord            1\n",
       "Luna            1\n",
       "Medeli          1\n",
       "Pedaltrain      1\n",
       "Name: Brand, Length: 96, dtype: int64"
      ]
     },
     "execution_count": 25,
     "metadata": {},
     "output_type": "execute_result"
    }
   ],
   "source": [
    "df[\"Brand\"].value_counts()"
   ]
  },
  {
   "cell_type": "code",
   "execution_count": 26,
   "id": "d4c4e823",
   "metadata": {},
   "outputs": [],
   "source": [
    "# We saved the processed data\n",
    "df.to_csv(\"processed-data.csv\")"
   ]
  },
  {
   "cell_type": "code",
   "execution_count": null,
   "id": "9eb5b6db",
   "metadata": {},
   "outputs": [],
   "source": []
  }
 ],
 "metadata": {
  "kernelspec": {
   "display_name": "Python 3 (ipykernel)",
   "language": "python",
   "name": "python3"
  },
  "language_info": {
   "codemirror_mode": {
    "name": "ipython",
    "version": 3
   },
   "file_extension": ".py",
   "mimetype": "text/x-python",
   "name": "python",
   "nbconvert_exporter": "python",
   "pygments_lexer": "ipython3",
   "version": "3.9.7"
  }
 },
 "nbformat": 4,
 "nbformat_minor": 5
}
