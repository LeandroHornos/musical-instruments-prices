{
 "cells": [
  {
   "cell_type": "markdown",
   "id": "7658dd1f",
   "metadata": {},
   "source": [
    "# Musical instruments prices\n",
    "### A study of the prices of musical instruments in Sri Lanka"
   ]
  },
  {
   "cell_type": "code",
   "execution_count": 1,
   "id": "06fcafd2",
   "metadata": {},
   "outputs": [],
   "source": [
    "import numpy as np\n",
    "import pandas as pd\n",
    "import matplotlib as mpl\n",
    "import matplotlib.pyplot as plt\n",
    "import seaborn as sns\n",
    "\n",
    "sns.set()\n",
    "sns.set_style(\"white\")\n",
    "sns.set_palette(\"mako_r\")"
   ]
  },
  {
   "cell_type": "code",
   "execution_count": 2,
   "id": "4802f534",
   "metadata": {},
   "outputs": [],
   "source": [
    "df = pd.read_csv(\"music_instrument_prices.csv\", encoding=\"utf-8\")"
   ]
  },
  {
   "cell_type": "markdown",
   "id": "7079e8e9",
   "metadata": {},
   "source": [
    "## Cleaning the dataset"
   ]
  },
  {
   "cell_type": "markdown",
   "id": "30a8b232",
   "metadata": {},
   "source": [
    "Let's take a look at data that we imported from the csv"
   ]
  },
  {
   "cell_type": "code",
   "execution_count": 3,
   "id": "f1075aba",
   "metadata": {},
   "outputs": [
    {
     "data": {
      "text/html": [
       "<div>\n",
       "<style scoped>\n",
       "    .dataframe tbody tr th:only-of-type {\n",
       "        vertical-align: middle;\n",
       "    }\n",
       "\n",
       "    .dataframe tbody tr th {\n",
       "        vertical-align: top;\n",
       "    }\n",
       "\n",
       "    .dataframe thead th {\n",
       "        text-align: right;\n",
       "    }\n",
       "</style>\n",
       "<table border=\"1\" class=\"dataframe\">\n",
       "  <thead>\n",
       "    <tr style=\"text-align: right;\">\n",
       "      <th></th>\n",
       "      <th>Title</th>\n",
       "      <th>Sub_title</th>\n",
       "      <th>Price</th>\n",
       "      <th>Instrument_Type</th>\n",
       "      <th>Condition</th>\n",
       "      <th>Location</th>\n",
       "      <th>Description</th>\n",
       "      <th>Post_URL</th>\n",
       "      <th>Seller_name</th>\n",
       "      <th>Seller_type</th>\n",
       "      <th>published_date</th>\n",
       "    </tr>\n",
       "  </thead>\n",
       "  <tbody>\n",
       "    <tr>\n",
       "      <th>0</th>\n",
       "      <td>Yamaha (SY-77) Music Synthesizer for sale</td>\n",
       "      <td>Posted on 04 Oct 7:11 pm, Ja-Ela, Gampaha</td>\n",
       "      <td>Rs 39,000</td>\n",
       "      <td>Keyboard / Piano</td>\n",
       "      <td>Used</td>\n",
       "      <td>Ja-Ela,  Gampaha</td>\n",
       "      <td>Â°â¢Â°Sri Lanka's Largest Digital Piano Selle...</td>\n",
       "      <td>https://ikman.lk/en/ad/yamaha-sy-77-music-synt...</td>\n",
       "      <td>Seven Star International</td>\n",
       "      <td>Member</td>\n",
       "      <td>2021-10-04 19:11:00</td>\n",
       "    </tr>\n",
       "    <tr>\n",
       "      <th>1</th>\n",
       "      <td>SRX-718 BASS BIN (PAIR) for sale</td>\n",
       "      <td>Posted on 10 Oct 7:54 pm, Kadawatha, Gampaha</td>\n",
       "      <td>Rs 77,500</td>\n",
       "      <td>Studio / Live Music Equipment</td>\n",
       "      <td>New</td>\n",
       "      <td>Kadawatha,  Gampaha</td>\n",
       "      <td>â¡Watts 3200â¡â¡Treated Plywoodâ¡</td>\n",
       "      <td>https://ikman.lk/en/ad/srx-718-bass-bin-pair-f...</td>\n",
       "      <td>Sasiru Super Sonics</td>\n",
       "      <td>Member</td>\n",
       "      <td>2021-10-10 19:54:00</td>\n",
       "    </tr>\n",
       "    <tr>\n",
       "      <th>2</th>\n",
       "      <td>Piano (Malcom Mendis Piano) for sale</td>\n",
       "      <td>Posted on 13 Oct 12:43 pm, Kandana, Gampaha</td>\n",
       "      <td>Rs 130,000</td>\n",
       "      <td>Keyboard / Piano</td>\n",
       "      <td>Used</td>\n",
       "      <td>Kandana,  Gampaha</td>\n",
       "      <td>Sri Lanka's Biggest Piano Sale, Reasonable pri...</td>\n",
       "      <td>https://ikman.lk/en/ad/piano-malcom-mendis-pia...</td>\n",
       "      <td>Sell Fast | à¶à¶³à·à¶± | MCI Ikman à¶¯à·à¶±...</td>\n",
       "      <td>Member</td>\n",
       "      <td>2021-10-13 12:43:00</td>\n",
       "    </tr>\n",
       "  </tbody>\n",
       "</table>\n",
       "</div>"
      ],
      "text/plain": [
       "                                       Title  \\\n",
       "0  Yamaha (SY-77) Music Synthesizer for sale   \n",
       "1           SRX-718 BASS BIN (PAIR) for sale   \n",
       "2       Piano (Malcom Mendis Piano) for sale   \n",
       "\n",
       "                                      Sub_title       Price  \\\n",
       "0     Posted on 04 Oct 7:11 pm, Ja-Ela, Gampaha   Rs 39,000   \n",
       "1  Posted on 10 Oct 7:54 pm, Kadawatha, Gampaha   Rs 77,500   \n",
       "2   Posted on 13 Oct 12:43 pm, Kandana, Gampaha  Rs 130,000   \n",
       "\n",
       "                 Instrument_Type Condition              Location  \\\n",
       "0               Keyboard / Piano      Used      Ja-Ela,  Gampaha   \n",
       "1  Studio / Live Music Equipment       New   Kadawatha,  Gampaha   \n",
       "2               Keyboard / Piano      Used     Kandana,  Gampaha   \n",
       "\n",
       "                                         Description  \\\n",
       "0  Â°â¢Â°Sri Lanka's Largest Digital Piano Selle...   \n",
       "1              â¡Watts 3200â¡â¡Treated Plywoodâ¡   \n",
       "2  Sri Lanka's Biggest Piano Sale, Reasonable pri...   \n",
       "\n",
       "                                            Post_URL  \\\n",
       "0  https://ikman.lk/en/ad/yamaha-sy-77-music-synt...   \n",
       "1  https://ikman.lk/en/ad/srx-718-bass-bin-pair-f...   \n",
       "2  https://ikman.lk/en/ad/piano-malcom-mendis-pia...   \n",
       "\n",
       "                                         Seller_name Seller_type  \\\n",
       "0                           Seven Star International      Member   \n",
       "1                                Sasiru Super Sonics      Member   \n",
       "2  Sell Fast | à¶à¶³à·à¶± | MCI Ikman à¶¯à·à¶±...      Member   \n",
       "\n",
       "        published_date  \n",
       "0  2021-10-04 19:11:00  \n",
       "1  2021-10-10 19:54:00  \n",
       "2  2021-10-13 12:43:00  "
      ]
     },
     "execution_count": 3,
     "metadata": {},
     "output_type": "execute_result"
    }
   ],
   "source": [
    "df.head(3)"
   ]
  },
  {
   "cell_type": "code",
   "execution_count": 4,
   "id": "f9ed1215",
   "metadata": {},
   "outputs": [
    {
     "name": "stdout",
     "output_type": "stream",
     "text": [
      "<class 'pandas.core.frame.DataFrame'>\n",
      "RangeIndex: 5167 entries, 0 to 5166\n",
      "Data columns (total 11 columns):\n",
      " #   Column           Non-Null Count  Dtype \n",
      "---  ------           --------------  ----- \n",
      " 0   Title            5167 non-null   object\n",
      " 1   Sub_title        5167 non-null   object\n",
      " 2   Price            5167 non-null   object\n",
      " 3   Instrument_Type  5167 non-null   object\n",
      " 4   Condition        5167 non-null   object\n",
      " 5   Location         5167 non-null   object\n",
      " 6   Description      5167 non-null   object\n",
      " 7   Post_URL         5167 non-null   object\n",
      " 8   Seller_name      5167 non-null   object\n",
      " 9   Seller_type      5167 non-null   object\n",
      " 10  published_date   5167 non-null   object\n",
      "dtypes: object(11)\n",
      "memory usage: 444.2+ KB\n"
     ]
    }
   ],
   "source": [
    "df.info()"
   ]
  },
  {
   "cell_type": "markdown",
   "id": "c44935a6",
   "metadata": {},
   "source": [
    "We can se that we have no missing values on this dataset. However, al values appear as \"object\" despite some of them are numbers or dates. We have also two variables,\"Condition\" and \"Seller_type\", that seem to be binary. Let's check that before moving on"
   ]
  },
  {
   "cell_type": "code",
   "execution_count": 5,
   "id": "11514f98",
   "metadata": {},
   "outputs": [
    {
     "name": "stdout",
     "output_type": "stream",
     "text": [
      "['Used' 'New']\n",
      "['Member' 'Premium-Member']\n"
     ]
    }
   ],
   "source": [
    "print(df.Condition.unique())\n",
    "print(df.Seller_type.unique())"
   ]
  },
  {
   "cell_type": "markdown",
   "id": "5a657e17",
   "metadata": {},
   "source": [
    "As suspected, both variables are binaries. We will change those of a new pair of variables that take 1s and 0s as it's possible values"
   ]
  },
  {
   "cell_type": "markdown",
   "id": "83200a86",
   "metadata": {},
   "source": [
    "**Binary variables**"
   ]
  },
  {
   "cell_type": "code",
   "execution_count": 6,
   "id": "41d84ebe",
   "metadata": {},
   "outputs": [],
   "source": [
    "# We are convert the condition type to a boolean variable with 1s and 0s\n",
    "\n",
    "def textToBoolean(condition, yesval, noval):\n",
    "    if condition == yesval:\n",
    "        return 1\n",
    "    elif condition == noval:\n",
    "        return 0\n",
    "    else:\n",
    "        return null\n",
    "df[\"Is_new\"] = df[\"Condition\"].apply(lambda x: textToBoolean(x, \"New\", \"Used\"))\n",
    "df[\"Premium_seller\"] = df[\"Seller_type\"].apply(lambda x: textToBoolean(x, \"Member\", \"Premium-Member\"))"
   ]
  },
  {
   "cell_type": "markdown",
   "id": "14da7f55",
   "metadata": {},
   "source": [
    "**Prices**"
   ]
  },
  {
   "cell_type": "code",
   "execution_count": 7,
   "id": "b66dfe7a",
   "metadata": {},
   "outputs": [],
   "source": [
    "# We want to convert prices to numbers:\n",
    "\n",
    "def parsePrice(text):\n",
    "    text = text.replace(\"Rs \",\"\")\n",
    "    text = text.replace(\",\",\"\")\n",
    "    return int(text)\n",
    "\n",
    "df[\"Price_value\"] = df[\"Price\"].apply(lambda x: parsePrice(x))"
   ]
  },
  {
   "cell_type": "markdown",
   "id": "caffb282",
   "metadata": {},
   "source": [
    "**Dates**"
   ]
  },
  {
   "cell_type": "code",
   "execution_count": 8,
   "id": "2b2b7be0",
   "metadata": {},
   "outputs": [
    {
     "name": "stdout",
     "output_type": "stream",
     "text": [
      "Is_new values: [0 1]\n",
      "Premium_seller values: [0 1]\n"
     ]
    }
   ],
   "source": [
    "# Now, let's convert the date strings in \"published_date\" to datetime objects\n",
    "\n",
    "df[\"Published\"] = pd.to_datetime(df[\"published_date\"], format=\"%Y-%m-%d %H:%M:%S\")\n",
    "\n",
    "\n",
    "# Let's check if variables have been created ok:\n",
    "print(\"Is_new values:\", df.Is_new.unique())\n",
    "print(\"Premium_seller values:\", df.Is_new.unique())\n"
   ]
  },
  {
   "cell_type": "code",
   "execution_count": 9,
   "id": "5e6a5dd4",
   "metadata": {},
   "outputs": [
    {
     "data": {
      "text/plain": [
       "\"Â°â\\x80¢Â°Sri Lanka's Largest Digital Piano SellerÂ°â\\x80¢Â° Â°â\\x80¢Â° Direct Imported Â°â\\x80¢Â° Fully Functional and ready to Use Â°â\\x80¢Â° Cosmetics : 10/10Â°â\\x80¢Â° Ideal for an Hotelier or For an keen learner.Â°â\\x80¢Â° 6 months of  WarrantyÂ°â\\x80¢Â° Furnished to the OptimumÂ°â\\x80¢Â° At Brand New Conditionâ\\x80¢Â°â\\x80¢ The Art of Honour Lasting Values Â® â\\x80¢Â°â\\x80¢\""
      ]
     },
     "execution_count": 9,
     "metadata": {},
     "output_type": "execute_result"
    }
   ],
   "source": [
    "# If we take a look at the \"Description\" column, we will see some weird characters mixed with the text\n",
    "# Several encodings have been tryied without success, so we are going to have to remove those characters.\n",
    "# Let's se an example:\n",
    "badtext = df.iloc[0].Description\n",
    "badtext"
   ]
  },
  {
   "cell_type": "code",
   "execution_count": 10,
   "id": "c7b0fe82",
   "metadata": {},
   "outputs": [
    {
     "data": {
      "text/plain": [
       "\"Sri Lanka's Largest Digital Piano Seller  Direct Imported  Fully Functional and ready to Use  Cosmetics : 10/10 Ideal for an Hotelier or For an keen learner. 6 months of  Warranty Furnished to the Optimum At Brand New Condition The Art of Honour Lasting Values  \""
      ]
     },
     "execution_count": 10,
     "metadata": {},
     "output_type": "execute_result"
    }
   ],
   "source": [
    "# We are going to make a list of the characters we want to remove and then\n",
    "# we will create a function that will replace those characters with an empty string\n",
    "\n",
    "badchars = [\"Â\",\"\\x80¢\",\"°\",\"â\",\"®\",\"¡\",\"à\", \"¶\",\"±\", \"ð\"]\n",
    "\n",
    "def cleanText(text, badchar_list):\n",
    "    newtext = text\n",
    "    for char in badchar_list:\n",
    "        newtext = newtext.replace(char,\"\")\n",
    "    return newtext\n",
    "\n",
    "# In this example we se many of the characters dissapearing, but most of\n",
    "# the description entries are full of added substrings with seemingly random\n",
    "# patterns, so it is difficult to easyly clean them all with a simple script.\n",
    "\n",
    "goodtext = cleanText(badtext, badchars)\n",
    "goodtext"
   ]
  },
  {
   "cell_type": "code",
   "execution_count": 11,
   "id": "20b846cc",
   "metadata": {},
   "outputs": [],
   "source": [
    "# We apply the changes to the dataframe\n",
    "df[\"Description\"] = df[\"Description\"].apply(lambda x: cleanText(x, badchars))"
   ]
  },
  {
   "cell_type": "code",
   "execution_count": 12,
   "id": "5e7ba93a",
   "metadata": {},
   "outputs": [
    {
     "name": "stdout",
     "output_type": "stream",
     "text": [
      "<class 'pandas.core.frame.DataFrame'>\n",
      "RangeIndex: 5167 entries, 0 to 5166\n",
      "Data columns (total 5 columns):\n",
      " #   Column          Non-Null Count  Dtype         \n",
      "---  ------          --------------  -----         \n",
      " 0   Is_new          5167 non-null   int64         \n",
      " 1   Price_value     5167 non-null   int64         \n",
      " 2   Premium_seller  5167 non-null   int64         \n",
      " 3   Published       5167 non-null   datetime64[ns]\n",
      " 4   Description     5167 non-null   object        \n",
      "dtypes: datetime64[ns](1), int64(3), object(1)\n",
      "memory usage: 202.0+ KB\n"
     ]
    }
   ],
   "source": [
    "# We take a final look at the dataset\n",
    "new_cols = [\"Is_new\", \"Price_value\", \"Premium_seller\",\"Published\", \"Description\"]\n",
    "df[new_cols].info()"
   ]
  },
  {
   "cell_type": "markdown",
   "id": "bf1f303d",
   "metadata": {},
   "source": [
    "Everything looks fine, so we can now proceed to analyze the dataset"
   ]
  },
  {
   "cell_type": "markdown",
   "id": "44e04528",
   "metadata": {},
   "source": [
    "## Exploratory Analysis"
   ]
  },
  {
   "cell_type": "markdown",
   "id": "17bf1986",
   "metadata": {},
   "source": [
    "**Instrument types**"
   ]
  },
  {
   "cell_type": "markdown",
   "id": "80d96955",
   "metadata": {},
   "source": [
    "In the dataset we have several categories for the musical instruments and accesories. Let's get some insights about this categories."
   ]
  },
  {
   "cell_type": "code",
   "execution_count": 108,
   "id": "c9f6586f",
   "metadata": {},
   "outputs": [
    {
     "data": {
      "text/html": [
       "<div>\n",
       "<style scoped>\n",
       "    .dataframe tbody tr th:only-of-type {\n",
       "        vertical-align: middle;\n",
       "    }\n",
       "\n",
       "    .dataframe tbody tr th {\n",
       "        vertical-align: top;\n",
       "    }\n",
       "\n",
       "    .dataframe thead tr th {\n",
       "        text-align: left;\n",
       "    }\n",
       "\n",
       "    .dataframe thead tr:last-of-type th {\n",
       "        text-align: right;\n",
       "    }\n",
       "</style>\n",
       "<table border=\"1\" class=\"dataframe\">\n",
       "  <thead>\n",
       "    <tr>\n",
       "      <th></th>\n",
       "      <th colspan=\"2\" halign=\"left\">Max Price</th>\n",
       "      <th colspan=\"2\" halign=\"left\">Mean Price</th>\n",
       "      <th colspan=\"2\" halign=\"left\">Min Price</th>\n",
       "      <th colspan=\"4\" halign=\"left\">Items</th>\n",
       "    </tr>\n",
       "    <tr>\n",
       "      <th>Condition</th>\n",
       "      <th>New</th>\n",
       "      <th>Used</th>\n",
       "      <th>New</th>\n",
       "      <th>Used</th>\n",
       "      <th>New</th>\n",
       "      <th>Used</th>\n",
       "      <th>New</th>\n",
       "      <th>Used</th>\n",
       "      <th>Total</th>\n",
       "      <th>% of New</th>\n",
       "    </tr>\n",
       "    <tr>\n",
       "      <th>Instrument_Type</th>\n",
       "      <th></th>\n",
       "      <th></th>\n",
       "      <th></th>\n",
       "      <th></th>\n",
       "      <th></th>\n",
       "      <th></th>\n",
       "      <th></th>\n",
       "      <th></th>\n",
       "      <th></th>\n",
       "      <th></th>\n",
       "    </tr>\n",
       "  </thead>\n",
       "  <tbody>\n",
       "    <tr>\n",
       "      <th>Studio / Live Music Equipment</th>\n",
       "      <td>1500000.0</td>\n",
       "      <td>6850000.0</td>\n",
       "      <td>41042.81</td>\n",
       "      <td>80052.79</td>\n",
       "      <td>275.0</td>\n",
       "      <td>500.0</td>\n",
       "      <td>718</td>\n",
       "      <td>1069</td>\n",
       "      <td>1787.0</td>\n",
       "      <td>40.18</td>\n",
       "    </tr>\n",
       "    <tr>\n",
       "      <th>String Instrument / Amplifier</th>\n",
       "      <td>348000.0</td>\n",
       "      <td>580000.0</td>\n",
       "      <td>20677.33</td>\n",
       "      <td>30674.88</td>\n",
       "      <td>80.0</td>\n",
       "      <td>1000.0</td>\n",
       "      <td>525</td>\n",
       "      <td>1221</td>\n",
       "      <td>1746.0</td>\n",
       "      <td>30.07</td>\n",
       "    </tr>\n",
       "    <tr>\n",
       "      <th>Keyboard / Piano</th>\n",
       "      <td>800000.0</td>\n",
       "      <td>770000.0</td>\n",
       "      <td>62931.36</td>\n",
       "      <td>75736.51</td>\n",
       "      <td>350.0</td>\n",
       "      <td>1500.0</td>\n",
       "      <td>99</td>\n",
       "      <td>557</td>\n",
       "      <td>656.0</td>\n",
       "      <td>15.09</td>\n",
       "    </tr>\n",
       "    <tr>\n",
       "      <th>Percussion / drums</th>\n",
       "      <td>230000.0</td>\n",
       "      <td>435000.0</td>\n",
       "      <td>25519.35</td>\n",
       "      <td>50877.08</td>\n",
       "      <td>450.0</td>\n",
       "      <td>750.0</td>\n",
       "      <td>248</td>\n",
       "      <td>384</td>\n",
       "      <td>632.0</td>\n",
       "      <td>39.24</td>\n",
       "    </tr>\n",
       "    <tr>\n",
       "      <th>Other Instrument</th>\n",
       "      <td>100000.0</td>\n",
       "      <td>1025000.0</td>\n",
       "      <td>7879.29</td>\n",
       "      <td>64356.04</td>\n",
       "      <td>350.0</td>\n",
       "      <td>1000.0</td>\n",
       "      <td>83</td>\n",
       "      <td>91</td>\n",
       "      <td>174.0</td>\n",
       "      <td>47.70</td>\n",
       "    </tr>\n",
       "    <tr>\n",
       "      <th>Woodwind / brass</th>\n",
       "      <td>165000.0</td>\n",
       "      <td>95000.0</td>\n",
       "      <td>44968.18</td>\n",
       "      <td>37045.89</td>\n",
       "      <td>250.0</td>\n",
       "      <td>500.0</td>\n",
       "      <td>11</td>\n",
       "      <td>73</td>\n",
       "      <td>84.0</td>\n",
       "      <td>13.10</td>\n",
       "    </tr>\n",
       "    <tr>\n",
       "      <th>Sheet Music</th>\n",
       "      <td>14000.0</td>\n",
       "      <td>150000.0</td>\n",
       "      <td>3732.63</td>\n",
       "      <td>29764.29</td>\n",
       "      <td>1000.0</td>\n",
       "      <td>1500.0</td>\n",
       "      <td>30</td>\n",
       "      <td>14</td>\n",
       "      <td>44.0</td>\n",
       "      <td>68.18</td>\n",
       "    </tr>\n",
       "    <tr>\n",
       "      <th>Vinyl</th>\n",
       "      <td>13500.0</td>\n",
       "      <td>95000.0</td>\n",
       "      <td>7180.00</td>\n",
       "      <td>12584.62</td>\n",
       "      <td>1000.0</td>\n",
       "      <td>500.0</td>\n",
       "      <td>5</td>\n",
       "      <td>39</td>\n",
       "      <td>44.0</td>\n",
       "      <td>11.36</td>\n",
       "    </tr>\n",
       "  </tbody>\n",
       "</table>\n",
       "</div>"
      ],
      "text/plain": [
       "                               Max Price            Mean Price            \\\n",
       "Condition                            New       Used        New      Used   \n",
       "Instrument_Type                                                            \n",
       "Studio / Live Music Equipment  1500000.0  6850000.0   41042.81  80052.79   \n",
       "String Instrument / Amplifier   348000.0   580000.0   20677.33  30674.88   \n",
       "Keyboard / Piano                800000.0   770000.0   62931.36  75736.51   \n",
       "Percussion / drums              230000.0   435000.0   25519.35  50877.08   \n",
       "Other Instrument                100000.0  1025000.0    7879.29  64356.04   \n",
       "Woodwind / brass                165000.0    95000.0   44968.18  37045.89   \n",
       "Sheet Music                      14000.0   150000.0    3732.63  29764.29   \n",
       "Vinyl                            13500.0    95000.0    7180.00  12584.62   \n",
       "\n",
       "                              Min Price         Items                         \n",
       "Condition                           New    Used   New  Used   Total % of New  \n",
       "Instrument_Type                                                               \n",
       "Studio / Live Music Equipment     275.0   500.0   718  1069  1787.0    40.18  \n",
       "String Instrument / Amplifier      80.0  1000.0   525  1221  1746.0    30.07  \n",
       "Keyboard / Piano                  350.0  1500.0    99   557   656.0    15.09  \n",
       "Percussion / drums                450.0   750.0   248   384   632.0    39.24  \n",
       "Other Instrument                  350.0  1000.0    83    91   174.0    47.70  \n",
       "Woodwind / brass                  250.0   500.0    11    73    84.0    13.10  \n",
       "Sheet Music                      1000.0  1500.0    30    14    44.0    68.18  \n",
       "Vinyl                            1000.0   500.0     5    39    44.0    11.36  "
      ]
     },
     "execution_count": 108,
     "metadata": {},
     "output_type": "execute_result"
    }
   ],
   "source": [
    "# Here we use pivot_table to group data around Intrument Type and condition, \n",
    "# and then whe use different aggregation functions to obtain some info about prices\n",
    "\n",
    "table = df.pivot_table(values=[\"Title\",\"Price_value\"], index=['Instrument_Type'], columns=['Condition'], aggfunc={'Title': \"count\",\n",
    "                             'Price_value': [np.mean, min, max]})\n",
    "\n",
    "# This gives us a three level MultiIndex, let's lower it to two levels\n",
    "new_index = [(\"Max Price\", \"New\"),(\"Max Price\", \"Used\"),(\"Mean Price\", \"New\"),(\"Mean Price\", \"Used\"),(\"Min Price\", \"New\"),(\"Min Price\", \"Used\"),(\"Items\", \"New\"),(\"Items\",\"Used\")]\n",
    "table.columns = pd.MultiIndex.from_tuples(new_index, names=[\"\",\"Condition\"])\n",
    "\n",
    "# Now we are going to add a couple of columns to Items: we want the total number of items\n",
    "# and the proportion of new ones within each instrument type\n",
    "\n",
    "def getPercent(x,y):\n",
    "    return(100*x/(x+y))\n",
    "\n",
    "table[\"Items\",\"Total\"] = table.apply(lambda row: row[\"Items\",\"New\"] + row[\"Items\",\"Used\"], axis=1)\n",
    "table[\"Items\",\"% of New\"] = table.apply(lambda row: getPercent(row[\"Items\",\"New\"],row[\"Items\",\"Used\"]), axis=1)\n",
    "\n",
    "\n",
    "# Finally, we see the table, ordered by the most popular items first \n",
    "table.round(decimals=2).sort_values([('Items', 'Total')], ascending=False)"
   ]
  },
  {
   "cell_type": "code",
   "execution_count": null,
   "id": "8d58da65",
   "metadata": {},
   "outputs": [],
   "source": []
  },
  {
   "cell_type": "code",
   "execution_count": null,
   "id": "3322b24b",
   "metadata": {},
   "outputs": [],
   "source": []
  }
 ],
 "metadata": {
  "kernelspec": {
   "display_name": "Python 3 (ipykernel)",
   "language": "python",
   "name": "python3"
  },
  "language_info": {
   "codemirror_mode": {
    "name": "ipython",
    "version": 3
   },
   "file_extension": ".py",
   "mimetype": "text/x-python",
   "name": "python",
   "nbconvert_exporter": "python",
   "pygments_lexer": "ipython3",
   "version": "3.9.7"
  }
 },
 "nbformat": 4,
 "nbformat_minor": 5
}
