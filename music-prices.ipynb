{
 "cells": [
  {
   "cell_type": "markdown",
   "id": "7658dd1f",
   "metadata": {},
   "source": [
    "# Musical instruments prices\n",
    "### A study of the prices of musical instruments in Sri Lanka"
   ]
  },
  {
   "cell_type": "code",
   "execution_count": 1,
   "id": "06fcafd2",
   "metadata": {},
   "outputs": [],
   "source": [
    "import numpy as np\n",
    "import pandas as pd\n",
    "import matplotlib as mpl\n",
    "import matplotlib.pyplot as plt\n",
    "import seaborn as sns\n",
    "\n",
    "sns.set()\n",
    "sns.set_style(\"white\")\n",
    "sns.set_palette(\"mako_r\")"
   ]
  },
  {
   "cell_type": "code",
   "execution_count": 2,
   "id": "4802f534",
   "metadata": {},
   "outputs": [],
   "source": [
    "df = pd.read_csv(\"music_instrument_prices.csv\", encoding=\"utf-8\")"
   ]
  },
  {
   "cell_type": "markdown",
   "id": "7079e8e9",
   "metadata": {},
   "source": [
    "## Cleaning the dataset"
   ]
  },
  {
   "cell_type": "markdown",
   "id": "30a8b232",
   "metadata": {},
   "source": [
    "Let's take a look at data that we imported from the csv"
   ]
  },
  {
   "cell_type": "code",
   "execution_count": 15,
   "id": "f1075aba",
   "metadata": {},
   "outputs": [
    {
     "data": {
      "text/html": [
       "<div>\n",
       "<style scoped>\n",
       "    .dataframe tbody tr th:only-of-type {\n",
       "        vertical-align: middle;\n",
       "    }\n",
       "\n",
       "    .dataframe tbody tr th {\n",
       "        vertical-align: top;\n",
       "    }\n",
       "\n",
       "    .dataframe thead th {\n",
       "        text-align: right;\n",
       "    }\n",
       "</style>\n",
       "<table border=\"1\" class=\"dataframe\">\n",
       "  <thead>\n",
       "    <tr style=\"text-align: right;\">\n",
       "      <th></th>\n",
       "      <th>Title</th>\n",
       "      <th>Sub_title</th>\n",
       "      <th>Price</th>\n",
       "      <th>Instrument_Type</th>\n",
       "      <th>Condition</th>\n",
       "      <th>Location</th>\n",
       "      <th>Description</th>\n",
       "      <th>Post_URL</th>\n",
       "      <th>Seller_name</th>\n",
       "      <th>Seller_type</th>\n",
       "      <th>published_date</th>\n",
       "      <th>Price_value</th>\n",
       "      <th>Is_new</th>\n",
       "      <th>Premium_seller</th>\n",
       "      <th>Published</th>\n",
       "    </tr>\n",
       "  </thead>\n",
       "  <tbody>\n",
       "    <tr>\n",
       "      <th>0</th>\n",
       "      <td>Yamaha (SY-77) Music Synthesizer for sale</td>\n",
       "      <td>Posted on 04 Oct 7:11 pm, Ja-Ela, Gampaha</td>\n",
       "      <td>Rs 39,000</td>\n",
       "      <td>Keyboard / Piano</td>\n",
       "      <td>Used</td>\n",
       "      <td>Ja-Ela,  Gampaha</td>\n",
       "      <td>Sri Lanka's Largest Digital Piano Seller  Dire...</td>\n",
       "      <td>https://ikman.lk/en/ad/yamaha-sy-77-music-synt...</td>\n",
       "      <td>Seven Star International</td>\n",
       "      <td>Member</td>\n",
       "      <td>2021-10-04 19:11:00</td>\n",
       "      <td>39000</td>\n",
       "      <td>0</td>\n",
       "      <td>1</td>\n",
       "      <td>2021-10-04 19:11:00</td>\n",
       "    </tr>\n",
       "    <tr>\n",
       "      <th>1</th>\n",
       "      <td>SRX-718 BASS BIN (PAIR) for sale</td>\n",
       "      <td>Posted on 10 Oct 7:54 pm, Kadawatha, Gampaha</td>\n",
       "      <td>Rs 77,500</td>\n",
       "      <td>Studio / Live Music Equipment</td>\n",
       "      <td>New</td>\n",
       "      <td>Kadawatha,  Gampaha</td>\n",
       "      <td>Watts 3200Treated Plywood</td>\n",
       "      <td>https://ikman.lk/en/ad/srx-718-bass-bin-pair-f...</td>\n",
       "      <td>Sasiru Super Sonics</td>\n",
       "      <td>Member</td>\n",
       "      <td>2021-10-10 19:54:00</td>\n",
       "      <td>77500</td>\n",
       "      <td>1</td>\n",
       "      <td>1</td>\n",
       "      <td>2021-10-10 19:54:00</td>\n",
       "    </tr>\n",
       "    <tr>\n",
       "      <th>2</th>\n",
       "      <td>Piano (Malcom Mendis Piano) for sale</td>\n",
       "      <td>Posted on 13 Oct 12:43 pm, Kandana, Gampaha</td>\n",
       "      <td>Rs 130,000</td>\n",
       "      <td>Keyboard / Piano</td>\n",
       "      <td>Used</td>\n",
       "      <td>Kandana,  Gampaha</td>\n",
       "      <td>Sri Lanka's Biggest Piano Sale, Reasonable pri...</td>\n",
       "      <td>https://ikman.lk/en/ad/piano-malcom-mendis-pia...</td>\n",
       "      <td>Sell Fast | à¶à¶³à·à¶± | MCI Ikman à¶¯à·à¶±...</td>\n",
       "      <td>Member</td>\n",
       "      <td>2021-10-13 12:43:00</td>\n",
       "      <td>130000</td>\n",
       "      <td>0</td>\n",
       "      <td>1</td>\n",
       "      <td>2021-10-13 12:43:00</td>\n",
       "    </tr>\n",
       "  </tbody>\n",
       "</table>\n",
       "</div>"
      ],
      "text/plain": [
       "                                       Title  \\\n",
       "0  Yamaha (SY-77) Music Synthesizer for sale   \n",
       "1           SRX-718 BASS BIN (PAIR) for sale   \n",
       "2       Piano (Malcom Mendis Piano) for sale   \n",
       "\n",
       "                                      Sub_title       Price  \\\n",
       "0     Posted on 04 Oct 7:11 pm, Ja-Ela, Gampaha   Rs 39,000   \n",
       "1  Posted on 10 Oct 7:54 pm, Kadawatha, Gampaha   Rs 77,500   \n",
       "2   Posted on 13 Oct 12:43 pm, Kandana, Gampaha  Rs 130,000   \n",
       "\n",
       "                 Instrument_Type Condition              Location  \\\n",
       "0               Keyboard / Piano      Used      Ja-Ela,  Gampaha   \n",
       "1  Studio / Live Music Equipment       New   Kadawatha,  Gampaha   \n",
       "2               Keyboard / Piano      Used     Kandana,  Gampaha   \n",
       "\n",
       "                                         Description  \\\n",
       "0  Sri Lanka's Largest Digital Piano Seller  Dire...   \n",
       "1                          Watts 3200Treated Plywood   \n",
       "2  Sri Lanka's Biggest Piano Sale, Reasonable pri...   \n",
       "\n",
       "                                            Post_URL  \\\n",
       "0  https://ikman.lk/en/ad/yamaha-sy-77-music-synt...   \n",
       "1  https://ikman.lk/en/ad/srx-718-bass-bin-pair-f...   \n",
       "2  https://ikman.lk/en/ad/piano-malcom-mendis-pia...   \n",
       "\n",
       "                                         Seller_name Seller_type  \\\n",
       "0                           Seven Star International      Member   \n",
       "1                                Sasiru Super Sonics      Member   \n",
       "2  Sell Fast | à¶à¶³à·à¶± | MCI Ikman à¶¯à·à¶±...      Member   \n",
       "\n",
       "        published_date  Price_value  Is_new  Premium_seller  \\\n",
       "0  2021-10-04 19:11:00        39000       0               1   \n",
       "1  2021-10-10 19:54:00        77500       1               1   \n",
       "2  2021-10-13 12:43:00       130000       0               1   \n",
       "\n",
       "            Published  \n",
       "0 2021-10-04 19:11:00  \n",
       "1 2021-10-10 19:54:00  \n",
       "2 2021-10-13 12:43:00  "
      ]
     },
     "execution_count": 15,
     "metadata": {},
     "output_type": "execute_result"
    }
   ],
   "source": [
    "df.head(3)"
   ]
  },
  {
   "cell_type": "code",
   "execution_count": 16,
   "id": "f9ed1215",
   "metadata": {},
   "outputs": [
    {
     "name": "stdout",
     "output_type": "stream",
     "text": [
      "<class 'pandas.core.frame.DataFrame'>\n",
      "RangeIndex: 5167 entries, 0 to 5166\n",
      "Data columns (total 15 columns):\n",
      " #   Column           Non-Null Count  Dtype         \n",
      "---  ------           --------------  -----         \n",
      " 0   Title            5167 non-null   object        \n",
      " 1   Sub_title        5167 non-null   object        \n",
      " 2   Price            5167 non-null   object        \n",
      " 3   Instrument_Type  5167 non-null   object        \n",
      " 4   Condition        5167 non-null   object        \n",
      " 5   Location         5167 non-null   object        \n",
      " 6   Description      5167 non-null   object        \n",
      " 7   Post_URL         5167 non-null   object        \n",
      " 8   Seller_name      5167 non-null   object        \n",
      " 9   Seller_type      5167 non-null   object        \n",
      " 10  published_date   5167 non-null   object        \n",
      " 11  Price_value      5167 non-null   int64         \n",
      " 12  Is_new           5167 non-null   int64         \n",
      " 13  Premium_seller   5167 non-null   int64         \n",
      " 14  Published        5167 non-null   datetime64[ns]\n",
      "dtypes: datetime64[ns](1), int64(3), object(11)\n",
      "memory usage: 605.6+ KB\n"
     ]
    }
   ],
   "source": [
    "df.info()"
   ]
  },
  {
   "cell_type": "markdown",
   "id": "c44935a6",
   "metadata": {},
   "source": [
    "We can se that we have no missing values on this dataset. However, al values appear as \"object\" despite some of them are numbers or dates. We have also two variables,\"Condition\" and \"Seller_type\", that seem to be binary. Let's check that before moving on"
   ]
  },
  {
   "cell_type": "code",
   "execution_count": 5,
   "id": "11514f98",
   "metadata": {},
   "outputs": [
    {
     "name": "stdout",
     "output_type": "stream",
     "text": [
      "['Used' 'New']\n",
      "['Member' 'Premium-Member']\n"
     ]
    }
   ],
   "source": [
    "print(df.Condition.unique())\n",
    "print(df.Seller_type.unique())"
   ]
  },
  {
   "cell_type": "markdown",
   "id": "5a657e17",
   "metadata": {},
   "source": [
    "As suspected, both variables are binaries. We will change those of a new pair of variables that take 1s and 0s as it's possible values"
   ]
  },
  {
   "cell_type": "markdown",
   "id": "83200a86",
   "metadata": {},
   "source": [
    "**Binary variables**"
   ]
  },
  {
   "cell_type": "code",
   "execution_count": 14,
   "id": "41d84ebe",
   "metadata": {},
   "outputs": [],
   "source": [
    "# We are convert the condition type to a boolean variable with 1s and 0s\n",
    "\n",
    "def textToBoolean(condition, yesval, noval):\n",
    "    if condition == yesval:\n",
    "        return 1\n",
    "    elif condition == noval:\n",
    "        return 0\n",
    "    else:\n",
    "        return null\n",
    "df[\"Is_new\"] = df[\"Condition\"].apply(lambda x: textToBoolean(x, \"New\", \"Used\"))\n",
    "df[\"Premium_seller\"] = df[\"Seller_type\"].apply(lambda x: textToBoolean(x, \"Member\", \"Premium-Member\"))"
   ]
  },
  {
   "cell_type": "markdown",
   "id": "14da7f55",
   "metadata": {},
   "source": [
    "**Prices**"
   ]
  },
  {
   "cell_type": "code",
   "execution_count": 18,
   "id": "b66dfe7a",
   "metadata": {},
   "outputs": [],
   "source": [
    "# We want to convert prices to numbers:\n",
    "\n",
    "def parsePrice(text):\n",
    "    text = text.replace(\"Rs \",\"\")\n",
    "    text = text.replace(\",\",\"\")\n",
    "    return int(text)\n",
    "\n",
    "df[\"Price_value\"] = df[\"Price\"].apply(lambda x: parsePrice(x))"
   ]
  },
  {
   "cell_type": "markdown",
   "id": "caffb282",
   "metadata": {},
   "source": [
    "**Dates**"
   ]
  },
  {
   "cell_type": "code",
   "execution_count": null,
   "id": "2b2b7be0",
   "metadata": {},
   "outputs": [],
   "source": [
    "# Now, let's convert the date strings in \"published_date\" to datetime objects\n",
    "\n",
    "df[\"Published\"] = pd.to_datetime(df[\"published_date\"], format=\"%Y-%m-%d %H:%M:%S\")\n",
    "\n",
    "\n",
    "# Let's check if variables have been created ok:\n",
    "print(\"Is_new values:\", df.Is_new.unique())\n",
    "print(\"Premium_seller values:\", df.Is_new.unique())\n"
   ]
  },
  {
   "cell_type": "code",
   "execution_count": 7,
   "id": "5e6a5dd4",
   "metadata": {},
   "outputs": [
    {
     "data": {
      "text/plain": [
       "\"Â°â\\x80¢Â°Sri Lanka's Largest Digital Piano SellerÂ°â\\x80¢Â° Â°â\\x80¢Â° Direct Imported Â°â\\x80¢Â° Fully Functional and ready to Use Â°â\\x80¢Â° Cosmetics : 10/10Â°â\\x80¢Â° Ideal for an Hotelier or For an keen learner.Â°â\\x80¢Â° 6 months of  WarrantyÂ°â\\x80¢Â° Furnished to the OptimumÂ°â\\x80¢Â° At Brand New Conditionâ\\x80¢Â°â\\x80¢ The Art of Honour Lasting Values Â® â\\x80¢Â°â\\x80¢\""
      ]
     },
     "execution_count": 7,
     "metadata": {},
     "output_type": "execute_result"
    }
   ],
   "source": [
    "# If we take a look at the \"Description\" column, we will see some weird characters mixed with the text\n",
    "# Several encodings have been tryied without success, so we are going to have to remove those characters.\n",
    "# Let's se an example:\n",
    "badtext = df.iloc[0].Description\n",
    "badtext"
   ]
  },
  {
   "cell_type": "code",
   "execution_count": 8,
   "id": "c7b0fe82",
   "metadata": {},
   "outputs": [
    {
     "data": {
      "text/plain": [
       "\"Sri Lanka's Largest Digital Piano Seller  Direct Imported  Fully Functional and ready to Use  Cosmetics : 10/10 Ideal for an Hotelier or For an keen learner. 6 months of  Warranty Furnished to the Optimum At Brand New Condition The Art of Honour Lasting Values  \""
      ]
     },
     "execution_count": 8,
     "metadata": {},
     "output_type": "execute_result"
    }
   ],
   "source": [
    "# We are going to make a list of the characters we want to remove and then\n",
    "# we will create a function that will replace those characters with an empty string\n",
    "\n",
    "badchars = [\"Â\",\"\\x80¢\",\"°\",\"â\",\"®\",\"¡\",\"à\", \"¶\",\"±\", \"ð\"]\n",
    "\n",
    "def cleanText(text, badchar_list):\n",
    "    newtext = text\n",
    "    for char in badchar_list:\n",
    "        newtext = newtext.replace(char,\"\")\n",
    "    return newtext\n",
    "\n",
    "# In this example we se many of the characters dissapearing, but most of\n",
    "# the description entries are full of added substrings with seemingly random\n",
    "# patterns, so it is difficult to easyly clean them all with a simple script.\n",
    "\n",
    "goodtext = cleanText(badtext, badchars)\n",
    "goodtext"
   ]
  },
  {
   "cell_type": "code",
   "execution_count": 9,
   "id": "20b846cc",
   "metadata": {},
   "outputs": [],
   "source": [
    "# We apply the changes to the dataframe\n",
    "df[\"Description\"] = df[\"Description\"].apply(lambda x: cleanText(x, badchars))"
   ]
  },
  {
   "cell_type": "code",
   "execution_count": 10,
   "id": "5e7ba93a",
   "metadata": {},
   "outputs": [
    {
     "name": "stdout",
     "output_type": "stream",
     "text": [
      "<class 'pandas.core.frame.DataFrame'>\n",
      "RangeIndex: 5167 entries, 0 to 5166\n",
      "Data columns (total 5 columns):\n",
      " #   Column          Non-Null Count  Dtype         \n",
      "---  ------          --------------  -----         \n",
      " 0   Is_new          5167 non-null   int64         \n",
      " 1   Price_value     5167 non-null   int64         \n",
      " 2   Premium_seller  5167 non-null   int64         \n",
      " 3   Published       5167 non-null   datetime64[ns]\n",
      " 4   Description     5167 non-null   object        \n",
      "dtypes: datetime64[ns](1), int64(3), object(1)\n",
      "memory usage: 202.0+ KB\n"
     ]
    }
   ],
   "source": [
    "# We take a final look at the dataset\n",
    "new_cols = [\"Is_new\", \"Price_value\", \"Premium_seller\",\"Published\", \"Description\"]\n",
    "df[new_cols].info()"
   ]
  },
  {
   "cell_type": "markdown",
   "id": "bf1f303d",
   "metadata": {},
   "source": [
    "Everything looks fine, so we can now proceed to analyze the dataset"
   ]
  },
  {
   "cell_type": "markdown",
   "id": "44e04528",
   "metadata": {},
   "source": [
    "## Exploratory Analysis"
   ]
  },
  {
   "cell_type": "markdown",
   "id": "17bf1986",
   "metadata": {},
   "source": [
    "**Instrument types**"
   ]
  },
  {
   "cell_type": "markdown",
   "id": "80d96955",
   "metadata": {},
   "source": [
    "In the dataset we have several categories for the musical instruments and accesories. Let's get some insights about this categories."
   ]
  },
  {
   "cell_type": "code",
   "execution_count": 23,
   "id": "93fb78f1",
   "metadata": {},
   "outputs": [
    {
     "data": {
      "text/html": [
       "<div>\n",
       "<style scoped>\n",
       "    .dataframe tbody tr th:only-of-type {\n",
       "        vertical-align: middle;\n",
       "    }\n",
       "\n",
       "    .dataframe tbody tr th {\n",
       "        vertical-align: top;\n",
       "    }\n",
       "\n",
       "    .dataframe thead th {\n",
       "        text-align: right;\n",
       "    }\n",
       "</style>\n",
       "<table border=\"1\" class=\"dataframe\">\n",
       "  <thead>\n",
       "    <tr style=\"text-align: right;\">\n",
       "      <th></th>\n",
       "      <th>Title</th>\n",
       "    </tr>\n",
       "    <tr>\n",
       "      <th>Instrument_Type</th>\n",
       "      <th></th>\n",
       "    </tr>\n",
       "  </thead>\n",
       "  <tbody>\n",
       "    <tr>\n",
       "      <th>Sheet Music</th>\n",
       "      <td>44</td>\n",
       "    </tr>\n",
       "    <tr>\n",
       "      <th>Vinyl</th>\n",
       "      <td>44</td>\n",
       "    </tr>\n",
       "    <tr>\n",
       "      <th>Woodwind / brass</th>\n",
       "      <td>84</td>\n",
       "    </tr>\n",
       "    <tr>\n",
       "      <th>Other Instrument</th>\n",
       "      <td>174</td>\n",
       "    </tr>\n",
       "    <tr>\n",
       "      <th>Percussion / drums</th>\n",
       "      <td>632</td>\n",
       "    </tr>\n",
       "    <tr>\n",
       "      <th>Keyboard / Piano</th>\n",
       "      <td>656</td>\n",
       "    </tr>\n",
       "    <tr>\n",
       "      <th>String Instrument / Amplifier</th>\n",
       "      <td>1746</td>\n",
       "    </tr>\n",
       "    <tr>\n",
       "      <th>Studio / Live Music Equipment</th>\n",
       "      <td>1787</td>\n",
       "    </tr>\n",
       "  </tbody>\n",
       "</table>\n",
       "</div>"
      ],
      "text/plain": [
       "                               Title\n",
       "Instrument_Type                     \n",
       "Sheet Music                       44\n",
       "Vinyl                             44\n",
       "Woodwind / brass                  84\n",
       "Other Instrument                 174\n",
       "Percussion / drums               632\n",
       "Keyboard / Piano                 656\n",
       "String Instrument / Amplifier   1746\n",
       "Studio / Live Music Equipment   1787"
      ]
     },
     "execution_count": 23,
     "metadata": {},
     "output_type": "execute_result"
    }
   ],
   "source": [
    "pd.DataFrame(df.groupby(\"Instrument_Type\")[\"Title\"].count()).sort_values(\"Title\")"
   ]
  },
  {
   "cell_type": "markdown",
   "id": "c637dec3",
   "metadata": {},
   "source": [
    "We can see that most products are within the string instruments and studio equipment. Since we have both new and used products, it would be interesting to further discrimintate categories by condition."
   ]
  },
  {
   "cell_type": "code",
   "execution_count": 37,
   "id": "e507be30",
   "metadata": {},
   "outputs": [
    {
     "data": {
      "text/html": [
       "<div>\n",
       "<style scoped>\n",
       "    .dataframe tbody tr th:only-of-type {\n",
       "        vertical-align: middle;\n",
       "    }\n",
       "\n",
       "    .dataframe tbody tr th {\n",
       "        vertical-align: top;\n",
       "    }\n",
       "\n",
       "    .dataframe thead th {\n",
       "        text-align: right;\n",
       "    }\n",
       "</style>\n",
       "<table border=\"1\" class=\"dataframe\">\n",
       "  <thead>\n",
       "    <tr style=\"text-align: right;\">\n",
       "      <th></th>\n",
       "      <th>Instrument_Type</th>\n",
       "      <th>Condition</th>\n",
       "      <th>Title</th>\n",
       "    </tr>\n",
       "  </thead>\n",
       "  <tbody>\n",
       "    <tr>\n",
       "      <th>0</th>\n",
       "      <td>Vinyl</td>\n",
       "      <td>New</td>\n",
       "      <td>5</td>\n",
       "    </tr>\n",
       "    <tr>\n",
       "      <th>1</th>\n",
       "      <td>Woodwind / brass</td>\n",
       "      <td>New</td>\n",
       "      <td>11</td>\n",
       "    </tr>\n",
       "    <tr>\n",
       "      <th>2</th>\n",
       "      <td>Sheet Music</td>\n",
       "      <td>Used</td>\n",
       "      <td>14</td>\n",
       "    </tr>\n",
       "    <tr>\n",
       "      <th>3</th>\n",
       "      <td>Sheet Music</td>\n",
       "      <td>New</td>\n",
       "      <td>30</td>\n",
       "    </tr>\n",
       "    <tr>\n",
       "      <th>4</th>\n",
       "      <td>Vinyl</td>\n",
       "      <td>Used</td>\n",
       "      <td>39</td>\n",
       "    </tr>\n",
       "    <tr>\n",
       "      <th>5</th>\n",
       "      <td>Woodwind / brass</td>\n",
       "      <td>Used</td>\n",
       "      <td>73</td>\n",
       "    </tr>\n",
       "    <tr>\n",
       "      <th>6</th>\n",
       "      <td>Other Instrument</td>\n",
       "      <td>New</td>\n",
       "      <td>83</td>\n",
       "    </tr>\n",
       "    <tr>\n",
       "      <th>7</th>\n",
       "      <td>Other Instrument</td>\n",
       "      <td>Used</td>\n",
       "      <td>91</td>\n",
       "    </tr>\n",
       "    <tr>\n",
       "      <th>8</th>\n",
       "      <td>Keyboard / Piano</td>\n",
       "      <td>New</td>\n",
       "      <td>99</td>\n",
       "    </tr>\n",
       "    <tr>\n",
       "      <th>9</th>\n",
       "      <td>Percussion / drums</td>\n",
       "      <td>New</td>\n",
       "      <td>248</td>\n",
       "    </tr>\n",
       "    <tr>\n",
       "      <th>10</th>\n",
       "      <td>Percussion / drums</td>\n",
       "      <td>Used</td>\n",
       "      <td>384</td>\n",
       "    </tr>\n",
       "    <tr>\n",
       "      <th>11</th>\n",
       "      <td>String Instrument / Amplifier</td>\n",
       "      <td>New</td>\n",
       "      <td>525</td>\n",
       "    </tr>\n",
       "    <tr>\n",
       "      <th>12</th>\n",
       "      <td>Keyboard / Piano</td>\n",
       "      <td>Used</td>\n",
       "      <td>557</td>\n",
       "    </tr>\n",
       "    <tr>\n",
       "      <th>13</th>\n",
       "      <td>Studio / Live Music Equipment</td>\n",
       "      <td>New</td>\n",
       "      <td>718</td>\n",
       "    </tr>\n",
       "    <tr>\n",
       "      <th>14</th>\n",
       "      <td>Studio / Live Music Equipment</td>\n",
       "      <td>Used</td>\n",
       "      <td>1069</td>\n",
       "    </tr>\n",
       "    <tr>\n",
       "      <th>15</th>\n",
       "      <td>String Instrument / Amplifier</td>\n",
       "      <td>Used</td>\n",
       "      <td>1221</td>\n",
       "    </tr>\n",
       "  </tbody>\n",
       "</table>\n",
       "</div>"
      ],
      "text/plain": [
       "                  Instrument_Type Condition  Title\n",
       "0                           Vinyl       New      5\n",
       "1                Woodwind / brass       New     11\n",
       "2                     Sheet Music      Used     14\n",
       "3                     Sheet Music       New     30\n",
       "4                           Vinyl      Used     39\n",
       "5                Woodwind / brass      Used     73\n",
       "6                Other Instrument       New     83\n",
       "7                Other Instrument      Used     91\n",
       "8                Keyboard / Piano       New     99\n",
       "9              Percussion / drums       New    248\n",
       "10             Percussion / drums      Used    384\n",
       "11  String Instrument / Amplifier       New    525\n",
       "12               Keyboard / Piano      Used    557\n",
       "13  Studio / Live Music Equipment       New    718\n",
       "14  Studio / Live Music Equipment      Used   1069\n",
       "15  String Instrument / Amplifier      Used   1221"
      ]
     },
     "execution_count": 37,
     "metadata": {},
     "output_type": "execute_result"
    }
   ],
   "source": [
    "pd.DataFrame(df.groupby([\"Instrument_Type\", \"Condition\"])[\"Title\"].count()).sort_values([\"Title\",\"Instrument_Type\",\"Condition\",]).reset_index()"
   ]
  },
  {
   "cell_type": "code",
   "execution_count": 38,
   "id": "3e3a8e7c",
   "metadata": {},
   "outputs": [],
   "source": [
    "# Quiero un dataframe con las columnas \n",
    "# \"Instrument_type\", \"Used (cantidad)\", \"New (cantidad)\", \"%Used (proporcion)\", \"Total\", \"Average used Price\", \"Average new price\""
   ]
  },
  {
   "cell_type": "code",
   "execution_count": 42,
   "id": "07107839",
   "metadata": {},
   "outputs": [
    {
     "data": {
      "text/plain": [
       "0             Yamaha (SY-77) Music Synthesizer for sale\n",
       "1                      SRX-718 BASS BIN (PAIR) for sale\n",
       "2                  Piano (Malcom Mendis Piano) for sale\n",
       "3                 Yamaha Semi Acoustic Guitars for sale\n",
       "4                                Yamaha Guitar for sale\n",
       "5                                       Violin for sale\n",
       "6                 Expnsoin Card Xp 30.50.60.80 for sale\n",
       "7           à·à¶ºà·à¶©à· à¶©à·âà¶»à¶¸à· for sale\n",
       "8                     semi acoustic box guitar for sale\n",
       "9                    32 keys Melodica full set for sale\n",
       "10                           Guitar wall stand for sale\n",
       "11                       Fender 41\" box guitar for sale\n",
       "12                      Dilipsons Piano Center for sale\n",
       "13                                     Sarpina for sale\n",
       "14                             Electric Guitar for sale\n",
       "15                   38 \" Brand new box guitar for sale\n",
       "16                             Crossover X Pro for sale\n",
       "17                10\" / 12\" 14\" cymbals plates for sale\n",
       "18    Full Drum Set Junior 5 pieces Felcon Brand New...\n",
       "19                                   Duble Top for sale\n",
       "20                     Yamaha PSR 433 Keyboard for sale\n",
       "21                          Boss Pw3 Wah Pedal for sale\n",
       "22                        Atlas Japanese Piano for sale\n",
       "23             Maverick Semi - Acoustic Guitar for sale\n",
       "24        EMG James Hetfield Signature Pickups for sale\n",
       "25    Genuine Joyroom (MC-03) Microphone & Speaker P...\n",
       "26             Classical Guitars Olivetree New for sale\n",
       "27                            Classical Guitar for sale\n",
       "28                                    Melodica for sale\n",
       "29       Yamaha SL380 Les Paul Electric Guitar for sale\n",
       "30                     Yamaha PSRE373 Keyboard for sale\n",
       "31                                      Guitar for sale\n",
       "32                                Guitar Stand for sale\n",
       "33                  Yamaha Hs8 Studio Monitors for sale\n",
       "34                               Kuda Drum Set for sale\n",
       "35               Ibanez Sr 300 Ipt Bass Guitar for sale\n",
       "36                       Roland XP 80 keyboard for sale\n",
       "37                       Crossover X pro 12000 for sale\n",
       "38                     NUMARK MIXTRACK 3-JAPAN for sale\n",
       "39                             Onkyo TX SR 706 for sale\n",
       "40                             Thama Drama Set for sale\n",
       "41                                      Guitar for sale\n",
       "42                 Yamaha Pacifica Lead Guitar for sale\n",
       "43       Yamaha SL380 Les Paul Electric Guitar for sale\n",
       "44                     Yamaha Pacifica PAC 012 for sale\n",
       "45                         Supreme Lark violin for sale\n",
       "46                  YAMAHA PSR -EW400 keyboard for sale\n",
       "47                        Bass Drum Microphone for sale\n",
       "48                      percussion instruments for sale\n",
       "49                               Darbuka Drums for sale\n",
       "Name: Title, dtype: object"
      ]
     },
     "execution_count": 42,
     "metadata": {},
     "output_type": "execute_result"
    }
   ],
   "source": [
    "df.iloc[:50][\"Title\"]"
   ]
  },
  {
   "cell_type": "code",
   "execution_count": null,
   "id": "449ef32d",
   "metadata": {},
   "outputs": [],
   "source": []
  }
 ],
 "metadata": {
  "kernelspec": {
   "display_name": "Python 3 (ipykernel)",
   "language": "python",
   "name": "python3"
  },
  "language_info": {
   "codemirror_mode": {
    "name": "ipython",
    "version": 3
   },
   "file_extension": ".py",
   "mimetype": "text/x-python",
   "name": "python",
   "nbconvert_exporter": "python",
   "pygments_lexer": "ipython3",
   "version": "3.9.7"
  }
 },
 "nbformat": 4,
 "nbformat_minor": 5
}
